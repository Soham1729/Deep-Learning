{
 "cells": [
  {
   "cell_type": "code",
   "execution_count": 182,
   "metadata": {},
   "outputs": [],
   "source": [
    "import os\n",
    "import warnings\n",
    "import torch\n",
    "import torchvision\n",
    "from torchvision import datasets\n",
    "import matplotlib.pyplot as plt\n",
    "import torchvision.transforms as transforms\n",
    "from torch.utils.data import DataLoader\n",
    "import random\n",
    "import numpy as np\n",
    "\n",
    "from torch import nn\n",
    "from torch.utils.data import Dataset, DataLoader"
   ]
  },
  {
   "cell_type": "code",
   "execution_count": 183,
   "metadata": {},
   "outputs": [
    {
     "data": {
      "text/plain": [
       "(60000, 10000)"
      ]
     },
     "execution_count": 183,
     "metadata": {},
     "output_type": "execute_result"
    }
   ],
   "source": [
    "# Download and Save MNIST \n",
    "mnist = torchvision.datasets.MNIST(root='./data', train=True, download=True, transform = transforms.ToTensor())\n",
    "mnist_test = torchvision.datasets.MNIST('~/mnist_data', train=False, download=True, transform = transforms.ToTensor())\n",
    "len(mnist),len(mnist_test)"
   ]
  },
  {
   "cell_type": "code",
   "execution_count": 184,
   "metadata": {},
   "outputs": [
    {
     "data": {
      "text/plain": [
       "<matplotlib.image.AxesImage at 0x169447c10>"
      ]
     },
     "execution_count": 184,
     "metadata": {},
     "output_type": "execute_result"
    },
    {
     "data": {
      "image/png": "[encoded data removed]",
      "text/plain": [
       "<Figure size 432x288 with 1 Axes>"
      ]
     },
     "metadata": {
      "needs_background": "light"
     },
     "output_type": "display_data"
    }
   ],
   "source": [
    "mnist[1][0]\n",
    "img = torch.cat((mnist[878][0],mnist[36875][0]),2)\n",
    "plt.imshow(img.squeeze())"
   ]
  },
  {
   "cell_type": "code",
   "execution_count": 185,
   "metadata": {},
   "outputs": [],
   "source": [
    "input_size = 1568\n",
    "output_size = 100"
   ]
  },
  {
   "cell_type": "code",
   "execution_count": 186,
   "metadata": {},
   "outputs": [
    {
     "data": {
      "text/plain": [
       "(42000, 18000)"
      ]
     },
     "execution_count": 186,
     "metadata": {},
     "output_type": "execute_result"
    }
   ],
   "source": [
    "def train_test_split(data,split_train = 0.70):\n",
    "    trainSize = int(len(data)*split_train)\n",
    "    validationSize = len(data) - trainSize\n",
    "    \n",
    "    trainData, valData = torch.utils.data.random_split(data, [trainSize, validationSize])\n",
    "    \n",
    "    return trainData,valData\n",
    "\n",
    "mnist_train , mnist_validation = train_test_split(mnist,0.70)\n",
    "\n",
    "len(mnist_train), len(mnist_validation) # Number of Images in each set"
   ]
  },
  {
   "cell_type": "code",
   "execution_count": 187,
   "metadata": {},
   "outputs": [
    {
     "data": {
      "text/plain": [
       "(4200, 1800, 1000)"
      ]
     },
     "execution_count": 187,
     "metadata": {},
     "output_type": "execute_result"
    }
   ],
   "source": [
    "train_loader = torch.utils.data.DataLoader(mnist_train , batch_size = 10, shuffle = False)\n",
    "validation_loader = torch.utils.data.DataLoader(mnist_validation , batch_size = 10, shuffle = False)\n",
    "test_loader = torch.utils.data.DataLoader(mnist_test , batch_size = 10 , shuffle = False)\n",
    "\n",
    "len(train_loader),len(validation_loader),len(test_loader)"
   ]
  },
  {
   "cell_type": "code",
   "execution_count": 188,
   "metadata": {},
   "outputs": [],
   "source": [
    "class DNN(nn.Module):  #A ReLU DNN with 3 hidden layers of size 300, 100 and 50.\n",
    "    def __init__(self):\n",
    "        super().__init__()\n",
    "        self.input_size = input_size\n",
    "        self.network = nn.Sequential(nn.Linear(1568,700),nn.ReLU(),nn.Linear(700,300),nn.ReLU(),nn.Linear(300,150),nn.ReLU(),nn.Linear(150,100),nn.LogSoftmax(dim=1))\n",
    "        \n",
    "    def forward(self,x):\n",
    "        x = x.view(-1, self.input_size)\n",
    "        return self.network(x)\n",
    "        return x\n",
    "    \n",
    "model = DNN()"
   ]
  },
  {
   "cell_type": "code",
   "execution_count": 189,
   "metadata": {},
   "outputs": [],
   "source": [
    "# def cr_two_dg_images(images, labels):\n",
    "#     new_images = torch.empty((images.size(0)*images.size(0), images.size(1), images.size(2), images.size(3)*2))\n",
    "#     new_labels = torch.empty(labels.size(0)*images.size(0))\n",
    "#     for i in range(images.size(0)):\n",
    "#         for j in range(images.size(0)):\n",
    "#             img = torch.cat((images[i],images[j]), dim=2)\n",
    "#             lab = labels[i]*10 + labels[j]\n",
    "#             new_images[i*10 + j] = img\n",
    "#             new_labels[i*10 + j] = lab\n",
    "\n",
    "#     return new_images, new_labels.to(int)"
   ]
  },
  {
   "cell_type": "code",
   "execution_count": 190,
   "metadata": {},
   "outputs": [],
   "source": [
    "def DatasetGen(tuple_data):\n",
    "    images,labels = tuple_data\n",
    "    new_images = torch.empty((images.size(0)*images.size(0), images.size(1), images.size(2), images.size(3)*2))\n",
    "    new_labels = torch.empty(labels.size(0)*images.size(0))\n",
    "    for i in range(images.size(0)):\n",
    "        for j in range(images.size(0)):\n",
    "            img = torch.cat((images[i],images[j]), dim = 2)\n",
    "            lab = labels[i]*10 + labels[j]\n",
    "            new_images[i*10 + j] = img\n",
    "            new_labels[i*10 + j] = lab\n",
    "    return new_images, new_labels.to(float)"
   ]
  },
  {
   "cell_type": "code",
   "execution_count": 191,
   "metadata": {},
   "outputs": [],
   "source": [
    "# def DatasetGen(tuple_data):\n",
    "#     double_img = []\n",
    "#     double_lab = []\n",
    "#     for j in range(len(tuple_data[1])):\n",
    "#         for k in range(len(tuple_data[1])):\n",
    "#             img_new = torch.cat((tuple_data[0][j],tuple_data[0][k]),dim = 2)\n",
    "#             label_new = int(10*tuple_data[1][j].item()+tuple_data[1][k].item())\n",
    "#             double_img.append(img_new.flatten())\n",
    "#             double_lab.append(label_new)\n",
    "#     return double_img,double_lab"
   ]
  },
  {
   "cell_type": "code",
   "execution_count": 192,
   "metadata": {},
   "outputs": [],
   "source": [
    "# #counter = 0\n",
    "# for i,(input,output) in enumerate(train_loader):\n",
    "#     data = DatasetGen((input,output))\n",
    "    \n",
    "# len(data)"
   ]
  },
  {
   "cell_type": "code",
   "execution_count": 193,
   "metadata": {},
   "outputs": [],
   "source": [
    "# f = np.random.randint(59000 , size = 20)\n",
    "# for k in f:\n",
    "#     #print(k)\n",
    "#     plt.imshow(data[k][0].squeeze())\n",
    "#     plt.show()\n",
    "#     print(data[k][1])"
   ]
  },
  {
   "cell_type": "code",
   "execution_count": 194,
   "metadata": {},
   "outputs": [],
   "source": [
    "epoch_no = 5\n",
    "\n",
    "def train_model(train_loader,validation_loader,model):\n",
    "    criterion = torch.nn.CrossEntropyLoss()\n",
    "    optimizer = torch.optim.SGD(model.parameters(), lr = 0.01, momentum=0.9)\n",
    "    \n",
    "    train_loss = []\n",
    "    val_loss = []\n",
    "    train_accuracy = []\n",
    "    val_accuracy = []\n",
    "     \n",
    "    \n",
    "    \n",
    "    for epochs in range(1,epoch_no+1):\n",
    "        training_loss = 0\n",
    "        validation_loss = 0\n",
    "        training_accuracy = 0\n",
    "        validation_accuracy = 0\n",
    "        total_n_train = 0\n",
    "        total_n_val = 0\n",
    "        for i,data in enumerate(train_loader):\n",
    "            # train_double_mnist = \n",
    "            inputs,targets = DatasetGen(data)\n",
    "            model.train()\n",
    "            # inputs = inputs.squeeze()\n",
    "            \n",
    "            flattened_input = torch.flatten(inputs, start_dim = 1)\n",
    "            \n",
    "            optimizer.zero_grad()\n",
    "            output = model(flattened_input)\n",
    "            _, preds = torch.max(output.data, 1)\n",
    "            loss = criterion(output,targets)\n",
    "            loss.backward()\n",
    "            optimizer.step()\n",
    "            \n",
    "            total_n_train += flattened_input.size(0)\n",
    "            training_loss += loss.item() * flattened_input.size(0)\n",
    "            training_accuracy += torch.sum(preds == targets.data)\n",
    "            \n",
    "        train_loss.append(training_loss/total_n_train)\n",
    "        train_accuracy.append(training_accuracy/total_n_train)\n",
    "        \n",
    "        for i,data in enumerate(test_loader):\n",
    "            \n",
    "            inputs,targets =  DatasetGen(data)\n",
    "            model.eval()\n",
    "            # inputs = inputs.squeeze()\n",
    "            \n",
    "            flattened_input = torch.flatten(inputs, start_dim = 1)\n",
    "            \n",
    "            optimizer.zero_grad()\n",
    "            output = model(flattened_input)\n",
    "            _, preds = torch.max(output.data , 1)\n",
    "            loss = criterion(output,targets)\n",
    "            \n",
    "            loss.backward()\n",
    "            optimizer.step()\n",
    "            \n",
    "            total_n_val += flattened_input.size(0)\n",
    "            validation_loss += loss.item() * flattened_input.size(0)\n",
    "            validation_accuracy += torch.sum(preds == targets.data)\n",
    "            \n",
    "        \n",
    "        val_loss.append(validation_loss/total_n_val)\n",
    "        val_accuracy.append(validation_accuracy/total_n_val)\n",
    "        \n",
    "        \n",
    "    return train_loss,val_loss,train_accuracy,val_accuracy,inputs,targets,preds\n",
    "    "
   ]
  },
  {
   "cell_type": "code",
   "execution_count": 195,
   "metadata": {},
   "outputs": [
    {
     "ename": "RuntimeError",
     "evalue": "expected scalar type Long but found Double",
     "output_type": "error",
     "traceback": [
      "\u001b[0;31m---------------------------------------------------------------------------\u001b[0m",
      "\u001b[0;31mRuntimeError\u001b[0m                              Traceback (most recent call last)",
      "\u001b[1;32m/Users/Soham/Documents/CMI-SEM 3/Advanced ML/AssignmentOne/SohamPyne_AML_assignment_one_ (1).ipynb Cell 14'\u001b[0m in \u001b[0;36m<cell line: 1>\u001b[0;34m()\u001b[0m\n\u001b[0;32m----> <a href='vscode-notebook-cell:/Users/Soham/Documents/CMI-SEM%203/Advanced%20ML/AssignmentOne/SohamPyne_AML_assignment_one_%20%281%29.ipynb#ch0000013?line=0'>1</a>\u001b[0m train_loss,val_loss , train_accuracy,val_accuracy,inp,tar,pre \u001b[39m=\u001b[39m train_model(train_loader,validation_loader, model)\n",
      "\u001b[1;32m/Users/Soham/Documents/CMI-SEM 3/Advanced ML/AssignmentOne/SohamPyne_AML_assignment_one_ (1).ipynb Cell 13'\u001b[0m in \u001b[0;36mtrain_model\u001b[0;34m(train_loader, validation_loader, model)\u001b[0m\n\u001b[1;32m     <a href='vscode-notebook-cell:/Users/Soham/Documents/CMI-SEM%203/Advanced%20ML/AssignmentOne/SohamPyne_AML_assignment_one_%20%281%29.ipynb#ch0000012?line=29'>30</a>\u001b[0m output \u001b[39m=\u001b[39m model(flattened_input)\n\u001b[1;32m     <a href='vscode-notebook-cell:/Users/Soham/Documents/CMI-SEM%203/Advanced%20ML/AssignmentOne/SohamPyne_AML_assignment_one_%20%281%29.ipynb#ch0000012?line=30'>31</a>\u001b[0m _, preds \u001b[39m=\u001b[39m torch\u001b[39m.\u001b[39mmax(output\u001b[39m.\u001b[39mdata, \u001b[39m1\u001b[39m)\n\u001b[0;32m---> <a href='vscode-notebook-cell:/Users/Soham/Documents/CMI-SEM%203/Advanced%20ML/AssignmentOne/SohamPyne_AML_assignment_one_%20%281%29.ipynb#ch0000012?line=31'>32</a>\u001b[0m loss \u001b[39m=\u001b[39m criterion(output,targets)\n\u001b[1;32m     <a href='vscode-notebook-cell:/Users/Soham/Documents/CMI-SEM%203/Advanced%20ML/AssignmentOne/SohamPyne_AML_assignment_one_%20%281%29.ipynb#ch0000012?line=32'>33</a>\u001b[0m loss\u001b[39m.\u001b[39mbackward()\n\u001b[1;32m     <a href='vscode-notebook-cell:/Users/Soham/Documents/CMI-SEM%203/Advanced%20ML/AssignmentOne/SohamPyne_AML_assignment_one_%20%281%29.ipynb#ch0000012?line=33'>34</a>\u001b[0m optimizer\u001b[39m.\u001b[39mstep()\n",
      "File \u001b[0;32m~/opt/anaconda3/envs/ml/lib/python3.9/site-packages/torch/nn/modules/module.py:1185\u001b[0m, in \u001b[0;36mModule._call_impl\u001b[0;34m(self, *input, **kwargs)\u001b[0m\n\u001b[1;32m   <a href='file:///Users/Soham/opt/anaconda3/envs/ml/lib/python3.9/site-packages/torch/nn/modules/module.py?line=1180'>1181</a>\u001b[0m \u001b[39m# If we don't have any hooks, we want to skip the rest of the logic in\u001b[39;00m\n\u001b[1;32m   <a href='file:///Users/Soham/opt/anaconda3/envs/ml/lib/python3.9/site-packages/torch/nn/modules/module.py?line=1181'>1182</a>\u001b[0m \u001b[39m# this function, and just call forward.\u001b[39;00m\n\u001b[1;32m   <a href='file:///Users/Soham/opt/anaconda3/envs/ml/lib/python3.9/site-packages/torch/nn/modules/module.py?line=1182'>1183</a>\u001b[0m \u001b[39mif\u001b[39;00m \u001b[39mnot\u001b[39;00m (\u001b[39mself\u001b[39m\u001b[39m.\u001b[39m_backward_hooks \u001b[39mor\u001b[39;00m \u001b[39mself\u001b[39m\u001b[39m.\u001b[39m_forward_hooks \u001b[39mor\u001b[39;00m \u001b[39mself\u001b[39m\u001b[39m.\u001b[39m_forward_pre_hooks \u001b[39mor\u001b[39;00m _global_backward_hooks\n\u001b[1;32m   <a href='file:///Users/Soham/opt/anaconda3/envs/ml/lib/python3.9/site-packages/torch/nn/modules/module.py?line=1183'>1184</a>\u001b[0m         \u001b[39mor\u001b[39;00m _global_forward_hooks \u001b[39mor\u001b[39;00m _global_forward_pre_hooks):\n\u001b[0;32m-> <a href='file:///Users/Soham/opt/anaconda3/envs/ml/lib/python3.9/site-packages/torch/nn/modules/module.py?line=1184'>1185</a>\u001b[0m     \u001b[39mreturn\u001b[39;00m forward_call(\u001b[39m*\u001b[39;49m\u001b[39minput\u001b[39;49m, \u001b[39m*\u001b[39;49m\u001b[39m*\u001b[39;49mkwargs)\n\u001b[1;32m   <a href='file:///Users/Soham/opt/anaconda3/envs/ml/lib/python3.9/site-packages/torch/nn/modules/module.py?line=1185'>1186</a>\u001b[0m \u001b[39m# Do not call functions when jit is used\u001b[39;00m\n\u001b[1;32m   <a href='file:///Users/Soham/opt/anaconda3/envs/ml/lib/python3.9/site-packages/torch/nn/modules/module.py?line=1186'>1187</a>\u001b[0m full_backward_hooks, non_full_backward_hooks \u001b[39m=\u001b[39m [], []\n",
      "File \u001b[0;32m~/opt/anaconda3/envs/ml/lib/python3.9/site-packages/torch/nn/modules/loss.py:1173\u001b[0m, in \u001b[0;36mCrossEntropyLoss.forward\u001b[0;34m(self, input, target)\u001b[0m\n\u001b[1;32m   <a href='file:///Users/Soham/opt/anaconda3/envs/ml/lib/python3.9/site-packages/torch/nn/modules/loss.py?line=1171'>1172</a>\u001b[0m \u001b[39mdef\u001b[39;00m \u001b[39mforward\u001b[39m(\u001b[39mself\u001b[39m, \u001b[39minput\u001b[39m: Tensor, target: Tensor) \u001b[39m-\u001b[39m\u001b[39m>\u001b[39m Tensor:\n\u001b[0;32m-> <a href='file:///Users/Soham/opt/anaconda3/envs/ml/lib/python3.9/site-packages/torch/nn/modules/loss.py?line=1172'>1173</a>\u001b[0m     \u001b[39mreturn\u001b[39;00m F\u001b[39m.\u001b[39;49mcross_entropy(\u001b[39minput\u001b[39;49m, target, weight\u001b[39m=\u001b[39;49m\u001b[39mself\u001b[39;49m\u001b[39m.\u001b[39;49mweight,\n\u001b[1;32m   <a href='file:///Users/Soham/opt/anaconda3/envs/ml/lib/python3.9/site-packages/torch/nn/modules/loss.py?line=1173'>1174</a>\u001b[0m                            ignore_index\u001b[39m=\u001b[39;49m\u001b[39mself\u001b[39;49m\u001b[39m.\u001b[39;49mignore_index, reduction\u001b[39m=\u001b[39;49m\u001b[39mself\u001b[39;49m\u001b[39m.\u001b[39;49mreduction,\n\u001b[1;32m   <a href='file:///Users/Soham/opt/anaconda3/envs/ml/lib/python3.9/site-packages/torch/nn/modules/loss.py?line=1174'>1175</a>\u001b[0m                            label_smoothing\u001b[39m=\u001b[39;49m\u001b[39mself\u001b[39;49m\u001b[39m.\u001b[39;49mlabel_smoothing)\n",
      "File \u001b[0;32m~/opt/anaconda3/envs/ml/lib/python3.9/site-packages/torch/nn/functional.py:3022\u001b[0m, in \u001b[0;36mcross_entropy\u001b[0;34m(input, target, weight, size_average, ignore_index, reduce, reduction, label_smoothing)\u001b[0m\n\u001b[1;32m   <a href='file:///Users/Soham/opt/anaconda3/envs/ml/lib/python3.9/site-packages/torch/nn/functional.py?line=3019'>3020</a>\u001b[0m \u001b[39mif\u001b[39;00m size_average \u001b[39mis\u001b[39;00m \u001b[39mnot\u001b[39;00m \u001b[39mNone\u001b[39;00m \u001b[39mor\u001b[39;00m reduce \u001b[39mis\u001b[39;00m \u001b[39mnot\u001b[39;00m \u001b[39mNone\u001b[39;00m:\n\u001b[1;32m   <a href='file:///Users/Soham/opt/anaconda3/envs/ml/lib/python3.9/site-packages/torch/nn/functional.py?line=3020'>3021</a>\u001b[0m     reduction \u001b[39m=\u001b[39m _Reduction\u001b[39m.\u001b[39mlegacy_get_string(size_average, reduce)\n\u001b[0;32m-> <a href='file:///Users/Soham/opt/anaconda3/envs/ml/lib/python3.9/site-packages/torch/nn/functional.py?line=3021'>3022</a>\u001b[0m \u001b[39mreturn\u001b[39;00m torch\u001b[39m.\u001b[39;49m_C\u001b[39m.\u001b[39;49m_nn\u001b[39m.\u001b[39;49mcross_entropy_loss(\u001b[39minput\u001b[39;49m, target, weight, _Reduction\u001b[39m.\u001b[39;49mget_enum(reduction), ignore_index, label_smoothing)\n",
      "\u001b[0;31mRuntimeError\u001b[0m: expected scalar type Long but found Double"
     ]
    }
   ],
   "source": [
    "train_loss,val_loss , train_accuracy,val_accuracy,inp,tar,pre = train_model(train_loader,validation_loader, model)"
   ]
  },
  {
   "cell_type": "code",
   "execution_count": null,
   "metadata": {},
   "outputs": [
    {
     "data": {
      "text/plain": [
       "5"
      ]
     },
     "execution_count": 160,
     "metadata": {},
     "output_type": "execute_result"
    }
   ],
   "source": [
    "len(train_accuracy)"
   ]
  },
  {
   "cell_type": "code",
   "execution_count": null,
   "metadata": {},
   "outputs": [
    {
     "name": "stdout",
     "output_type": "stream",
     "text": [
      "train accuracy is 0.1943, valid accuracy is 0.1954\n"
     ]
    }
   ],
   "source": [
    "print(\"train accuracy is {:.4f}, valid accuracy is {:.4f}\".format(train_accuracy[-1].item(),val_accuracy[-1].item()))"
   ]
  },
  {
   "cell_type": "code",
   "execution_count": null,
   "metadata": {},
   "outputs": [
    {
     "data": {
      "text/plain": [
       "[tensor(0.7059),\n",
       " tensor(0.4575),\n",
       " tensor(0.3151),\n",
       " tensor(0.2404),\n",
       " tensor(0.1943)]"
      ]
     },
     "execution_count": 167,
     "metadata": {},
     "output_type": "execute_result"
    }
   ],
   "source": [
    "train_accuracy #,val_accuracy"
   ]
  },
  {
   "cell_type": "code",
   "execution_count": null,
   "metadata": {},
   "outputs": [
    {
     "data": {
      "image/png": "[encoded data removed]",
      "text/plain": [
       "<Figure size 432x288 with 1 Axes>"
      ]
     },
     "metadata": {
      "needs_background": "light"
     },
     "output_type": "display_data"
    }
   ],
   "source": [
    "epochs = [i for i in range(1,epoch_no+1)]\n",
    "plt.plot(epochs,train_loss,label = \"Training Loss\")\n",
    "plt.plot(epochs,val_loss,label = \"Validation Loss\")\n",
    "plt.title('Training and Validation Loss per epoch')\n",
    "plt.ylabel('Loss')\n",
    "plt.xlabel('Epochs')\n",
    "plt.legend()\n",
    "plt.show()"
   ]
  },
  {
   "cell_type": "code",
   "execution_count": null,
   "metadata": {},
   "outputs": [],
   "source": [
    "def test_nn(test_loader,model):\n",
    "    criterion = torch.nn.CrossEntropyLoss()\n",
    "    test_loss = []\n",
    "    test_accuracy = []\n",
    "    testing_loss = 0\n",
    "    testing_accuracy = 0 \n",
    "    total_n = 0\n",
    "    for i, data in enumerate(test_loader):\n",
    "        inputs,targets =  DatasetGen(data)\n",
    "        model.eval()\n",
    "        #inputs = inputs.squeeze()\n",
    "        \n",
    "        flattened_input = torch.flatten(inputs, start_dim=1)\n",
    "\n",
    "        output = model(flattened_input)\n",
    "        _, preds = torch.max(output.data, 1)\n",
    "        loss = criterion(output,targets)\n",
    "        \n",
    "        total_n += flattened_input.size(0)\n",
    "        testing_loss += loss.item() * flattened_input.size(0)\n",
    "        testing_accuracy += torch.sum(preds == targets.data)\n",
    "\n",
    "    test_loss.append(testing_loss/total_n)\n",
    "    test_accuracy.append(testing_accuracy/total_n)\n",
    "    \n",
    "    return test_loss, test_accuracy ,total_n"
   ]
  },
  {
   "cell_type": "code",
   "execution_count": null,
   "metadata": {},
   "outputs": [
    {
     "name": "stdout",
     "output_type": "stream",
     "text": [
      "The test accuracy is given by 0.9466\n"
     ]
    }
   ],
   "source": [
    "test_loss,test_accuracy,total_n = test_nn(test_loader,model)\n",
    "print(\"The test accuracy is given by {:.4f}\".format(test_accuracy[-1].item()))\n",
    "# print(total_n)"
   ]
  },
  {
   "cell_type": "code",
   "execution_count": null,
   "metadata": {},
   "outputs": [
    {
     "data": {
      "text/plain": [
       "[tensor(0.9466)]"
      ]
     },
     "execution_count": 166,
     "metadata": {},
     "output_type": "execute_result"
    }
   ],
   "source": [
    "test_accuracy"
   ]
  }
 ],
 "metadata": {
  "interpreter": {
   "hash": "dcb03482c70462c62b57536d38c2f1036ee427d80d688534f4d85e8ca7d04a76"
  },
  "kernelspec": {
   "display_name": "Python 3.9.12 ('ml')",
   "language": "python",
   "name": "python3"
  },
  "language_info": {
   "codemirror_mode": {
    "name": "ipython",
    "version": 3
   },
   "file_extension": ".py",
   "mimetype": "text/x-python",
   "name": "python",
   "nbconvert_exporter": "python",
   "pygments_lexer": "ipython3",
   "version": "3.9.12"
  },
  "orig_nbformat": 4,
  "vscode": {
   "interpreter": {
    "hash": "fb51b6b13e8232a64b369b5696b9d41218df7738edf9356f9fbcee5c06010241"
   }
  }
 },
 "nbformat": 4,
 "nbformat_minor": 2
}
