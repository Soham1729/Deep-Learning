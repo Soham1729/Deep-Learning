{
 "cells": [
  {
   "cell_type": "markdown",
   "metadata": {},
   "source": [
    "# <center> Advanced Machine Learning - Assignment 1\n",
    "## <center> Soham Pyne (MDS202148) <br><br>"
   ]
  },
  {
   "cell_type": "code",
   "execution_count": 31,
   "metadata": {},
   "outputs": [],
   "source": [
    "import os\n",
    "import warnings\n",
    "import torch\n",
    "import torchvision\n",
    "from torchvision import datasets\n",
    "import matplotlib.pyplot as plt\n",
    "import torchvision.transforms as transforms\n",
    "from torch.utils.data import DataLoader\n",
    "import random\n",
    "import numpy as np\n",
    "\n",
    "from torch import nn\n",
    "from torch.utils.data import Dataset, DataLoader"
   ]
  },
  {
   "cell_type": "code",
   "execution_count": 32,
   "metadata": {},
   "outputs": [
    {
     "data": {
      "text/plain": [
       "(60000, 10000)"
      ]
     },
     "execution_count": 32,
     "metadata": {},
     "output_type": "execute_result"
    }
   ],
   "source": [
    "# Download and Save MNIST \n",
    "mnist = torchvision.datasets.MNIST(root='./data', train=True, download=True, transform = transforms.ToTensor())\n",
    "mnist_test = torchvision.datasets.MNIST('./data', train=False, download=True, transform = transforms.ToTensor())\n",
    "len(mnist),len(mnist_test)"
   ]
  },
  {
   "cell_type": "markdown",
   "metadata": {},
   "source": [
    "#### The input size is $1568$ and output is $100$"
   ]
  },
  {
   "cell_type": "code",
   "execution_count": 34,
   "metadata": {},
   "outputs": [],
   "source": [
    "input_size = 1568\n",
    "output_size = 100"
   ]
  },
  {
   "cell_type": "markdown",
   "metadata": {},
   "source": [
    "#### Train test data split($70-30$ split)"
   ]
  },
  {
   "cell_type": "code",
   "execution_count": 35,
   "metadata": {},
   "outputs": [
    {
     "data": {
      "text/plain": [
       "(42000, 18000)"
      ]
     },
     "execution_count": 35,
     "metadata": {},
     "output_type": "execute_result"
    }
   ],
   "source": [
    "def train_test_split(data,split_train = 0.70):\n",
    "    trainSize = int(len(data)*split_train)\n",
    "    validationSize = len(data) - trainSize\n",
    "    \n",
    "    trainData, valData = torch.utils.data.random_split(data, [trainSize, validationSize])\n",
    "    \n",
    "    return trainData,valData\n",
    "\n",
    "mnist_train , mnist_validation = train_test_split(mnist,0.70)\n",
    "\n",
    "len(mnist_train), len(mnist_validation) # Number of Images in each set"
   ]
  },
  {
   "cell_type": "markdown",
   "metadata": {},
   "source": [
    "#### Dataloader function which unloads $10$ datapoint at a time"
   ]
  },
  {
   "cell_type": "code",
   "execution_count": 36,
   "metadata": {},
   "outputs": [
    {
     "data": {
      "text/plain": [
       "(4200, 1800, 1000)"
      ]
     },
     "execution_count": 36,
     "metadata": {},
     "output_type": "execute_result"
    }
   ],
   "source": [
    "train_loader = torch.utils.data.DataLoader(mnist_train , batch_size = 10, shuffle = False)\n",
    "validation_loader = torch.utils.data.DataLoader(mnist_validation , batch_size = 10, shuffle = False)\n",
    "test_loader = torch.utils.data.DataLoader(mnist_test , batch_size = 10 , shuffle = False)\n",
    "\n",
    "len(train_loader),len(validation_loader),len(test_loader)"
   ]
  },
  {
   "cell_type": "markdown",
   "metadata": {},
   "source": [
    "#### The deep neural network containing three hidden layer containing $300,200,150$ nodes."
   ]
  },
  {
   "cell_type": "code",
   "execution_count": 37,
   "metadata": {},
   "outputs": [],
   "source": [
    "class DNN1(nn.Module):  \n",
    "    def __init__(self):\n",
    "        super(DNN1, self).__init__()\n",
    "        self.input_size = input_size\n",
    "        self.network = nn.Sequential(nn.Linear(input_size,300),\n",
    "                                     nn.ReLU(),\n",
    "                                     nn.Linear(300,200),\n",
    "                                     nn.ReLU(),\n",
    "                                     nn.Linear(200,150),\n",
    "                                     nn.ReLU(),\n",
    "                                     nn.Linear(150,output_size),\n",
    "                                     nn.LogSoftmax(dim=1)\n",
    "                                     )\n",
    "        \n",
    "    def forward(self,x):\n",
    "        x = x.view(-1, self.input_size)\n",
    "        return self.network(x)\n",
    "    \n",
    "model = DNN1()"
   ]
  },
  {
   "cell_type": "markdown",
   "metadata": {},
   "source": [
    "#### Function to generate double mnist dataset"
   ]
  },
  {
   "cell_type": "code",
   "execution_count": 39,
   "metadata": {},
   "outputs": [],
   "source": [
    "def DatasetGen(tuple_data):\n",
    "    images,labels = tuple_data\n",
    "    new_images = torch.empty((images.size(0)*images.size(0), images.size(1), images.size(2), images.size(3)*2))\n",
    "    new_labels = torch.empty(labels.size(0)*images.size(0))\n",
    "    for i in range(images.size(0)):\n",
    "        for j in range(images.size(0)):\n",
    "            img = torch.cat((images[i],images[j]), dim=2)\n",
    "            lab = labels[i]*10 + labels[j]\n",
    "            new_images[i*10 + j] = img\n",
    "            new_labels[i*10 + j] = lab\n",
    "\n",
    "    return new_images.to(torch.float), new_labels.to(torch.long)"
   ]
  },
  {
   "cell_type": "code",
   "execution_count": 43,
   "metadata": {},
   "outputs": [],
   "source": [
    "epoch_no = 15\n",
    "\n",
    "def train_model(train_loader,validation_loader,model):\n",
    "    criterion = torch.nn.CrossEntropyLoss()\n",
    "    optimizer = torch.optim.SGD(model.parameters(), lr = 0.01, momentum=0.9)\n",
    "    \n",
    "    train_loss = []\n",
    "    val_loss = []\n",
    "    train_accuracy = []\n",
    "    val_accuracy = []\n",
    "    \n",
    "    for epochs in range(1,epoch_no+1):\n",
    "        total_n_train = 0 \n",
    "        total_n_val = 0\n",
    "        training_loss = 0\n",
    "        validation_loss = 0\n",
    "        training_accuracy = 0\n",
    "        validation_accuracy = 0\n",
    "        for i,data in enumerate(train_loader):\n",
    "            model.train()\n",
    "            inputs,targets = DatasetGen(data)\n",
    "            flattened_input = torch.flatten(inputs, start_dim = 1)\n",
    "\n",
    "            optimizer.zero_grad()\n",
    "            output = model(flattened_input)\n",
    "            _, preds = torch.max(output.data, 1)\n",
    "            loss = criterion(output,targets)\n",
    "            loss.backward()\n",
    "            optimizer.step()\n",
    "            \n",
    "            total_n_train += output.size(0)\n",
    "            training_loss += loss.item() * inputs.size(0)\n",
    "            training_accuracy += torch.sum(preds == targets.data)\n",
    "            \n",
    "        train_loss.append(training_loss/total_n_train)\n",
    "        train_accuracy.append(training_accuracy/total_n_train)\n",
    "        \n",
    "        for i,data in enumerate(test_loader):\n",
    "            model.eval()\n",
    "            validation_double_mnist = DatasetGen(data)\n",
    "            inputs,targets = validation_double_mnist\n",
    "            \n",
    "            flattened_input = torch.flatten(inputs, start_dim = 1)\n",
    "            \n",
    "            optimizer.zero_grad()\n",
    "            output = model(flattened_input)\n",
    "            _, preds = torch.max(output.data, 1)\n",
    "            loss = criterion(output,targets)\n",
    "            \n",
    "            loss.backward()\n",
    "            optimizer.step()\n",
    "            \n",
    "            total_n_val += inputs.size(0)\n",
    "            validation_loss += loss.item() * inputs.size(0)\n",
    "            validation_accuracy += torch.sum(preds == targets.data)\n",
    "        \n",
    "        val_loss.append(validation_loss/total_n_val)\n",
    "        val_accuracy.append(validation_accuracy/total_n_val)\n",
    "\n",
    "    return train_loss,val_loss,train_accuracy,val_accuracy,inputs,targets,preds\n",
    "    "
   ]
  },
  {
   "cell_type": "code",
   "execution_count": 44,
   "metadata": {},
   "outputs": [],
   "source": [
    "train_loss,val_loss , train_accuracy,val_accuracy,inp,tar,pre = train_model(train_loader,validation_loader, model)"
   ]
  },
  {
   "cell_type": "code",
   "execution_count": 45,
   "metadata": {},
   "outputs": [
    {
     "name": "stdout",
     "output_type": "stream",
     "text": [
      "train accuracy is 0.9926, valid accuracy is 0.9942\n"
     ]
    }
   ],
   "source": [
    "print(\"train accuracy is {:.4f}, valid accuracy is {:.4f}\".format(train_accuracy[-1].item(),val_accuracy[-1].item()))"
   ]
  },
  {
   "cell_type": "code",
   "execution_count": 57,
   "metadata": {},
   "outputs": [],
   "source": [
    "# train_accuracy"
   ]
  },
  {
   "cell_type": "code",
   "execution_count": 47,
   "metadata": {},
   "outputs": [
    {
     "data": {
      "image/png": "[encoded data removed]",
      "text/plain": [
       "<Figure size 432x288 with 1 Axes>"
      ]
     },
     "metadata": {
      "needs_background": "light"
     },
     "output_type": "display_data"
    }
   ],
   "source": [
    "epochs = [i for i in range(1,epoch_no+1)]\n",
    "plt.plot(epochs,train_loss,label = \"Training Loss\")\n",
    "plt.plot(epochs,val_loss,label = \"Validation Loss\")\n",
    "plt.title('Training and Validation Loss per epoch')\n",
    "plt.ylabel('Loss')\n",
    "plt.xlabel('Epochs')\n",
    "plt.legend()\n",
    "plt.show()"
   ]
  },
  {
   "cell_type": "code",
   "execution_count": 48,
   "metadata": {},
   "outputs": [],
   "source": [
    "def test_nn(test_loader,model):\n",
    "    criterion = torch.nn.CrossEntropyLoss()\n",
    "    test_loss = []\n",
    "    test_accuracy = []\n",
    "    testing_loss = 0\n",
    "    testing_accuracy = 0 \n",
    "    total_n = 0\n",
    "    for i, data in enumerate(test_loader):\n",
    "        inputs,targets = DatasetGen(data)\n",
    "        model.eval()\n",
    "        #inputs = inputs.squeeze()\n",
    "        \n",
    "        flattened_input = torch.flatten(inputs, start_dim=1)\n",
    "\n",
    "        output = model(flattened_input)\n",
    "        _, preds = torch.max(output.data, 1)\n",
    "        loss = criterion(output,targets)\n",
    "        \n",
    "        total_n += flattened_input.size(0)\n",
    "        testing_loss += loss.item() * flattened_input.size(0)\n",
    "        testing_accuracy += torch.sum(preds == targets.data)\n",
    "\n",
    "    test_loss.append(testing_loss/total_n)\n",
    "    test_accuracy.append(testing_accuracy/total_n)\n",
    "    \n",
    "    return test_loss, test_accuracy ,total_n"
   ]
  },
  {
   "cell_type": "code",
   "execution_count": 49,
   "metadata": {},
   "outputs": [
    {
     "name": "stdout",
     "output_type": "stream",
     "text": [
      "The test accuracy is given by 0.9898\n"
     ]
    }
   ],
   "source": [
    "test_loss,test_accuracy,total_n = test_nn(test_loader,model)\n",
    "print(\"The test accuracy is given by {:.4f}\".format(test_accuracy[-1].item()))\n",
    "# print(total_n)"
   ]
  },
  {
   "cell_type": "code",
   "execution_count": 50,
   "metadata": {},
   "outputs": [
    {
     "data": {
      "text/plain": [
       "[tensor(0.9898)]"
      ]
     },
     "execution_count": 50,
     "metadata": {},
     "output_type": "execute_result"
    }
   ],
   "source": [
    "test_accuracy"
   ]
  },
  {
   "cell_type": "code",
   "execution_count": null,
   "metadata": {},
   "outputs": [],
   "source": [
    "# def cr_two_dg_images(images, labels):\n",
    "#     new_images = torch.empty((images.size(0)*images.size(0), images.size(1), images.size(2), images.size(3)*2))\n",
    "#     new_labels = torch.empty(labels.size(0)*images.size(0))\n",
    "#     for i in range(images.size(0)):\n",
    "#         for j in range(images.size(0)):\n",
    "#             img = torch.cat((images[i],images[j]), dim=2)\n",
    "#             lab = labels[i]*10 + labels[j]\n",
    "#             new_images[i*10 + j] = img\n",
    "#             new_labels[i*10 + j] = lab\n",
    "\n",
    "#     return new_images, new_labels.to(int)"
   ]
  },
  {
   "cell_type": "code",
   "execution_count": null,
   "metadata": {},
   "outputs": [],
   "source": [
    "# def DatasetGen(tuple_data):\n",
    "#     double_img = []\n",
    "#     double_lab = []\n",
    "#     for j in range(len(tuple_data[1])):\n",
    "#         for k in range(len(tuple_data[1])):\n",
    "#             img_new = torch.cat((tuple_data[0][j],tuple_data[0][k]),dim = 2)\n",
    "#             label_new = int(10*tuple_data[1][j].item()+tuple_data[1][k].item())\n",
    "#             double_img.append(img_new.flatten())\n",
    "#             double_lab.append(label_new)\n",
    "#     return double_img,double_lab"
   ]
  },
  {
   "cell_type": "code",
   "execution_count": null,
   "metadata": {},
   "outputs": [],
   "source": [
    "# #counter = 0\n",
    "# for i,(input,output) in enumerate(train_loader):\n",
    "#     data = DatasetGen((input,output))\n",
    "    \n",
    "# len(data)"
   ]
  },
  {
   "cell_type": "code",
   "execution_count": null,
   "metadata": {},
   "outputs": [],
   "source": [
    "# f = np.random.randint(59000 , size = 20)\n",
    "# for k in f:\n",
    "#     #print(k)\n",
    "#     plt.imshow(data[k][0].squeeze())\n",
    "#     plt.show()\n",
    "#     print(data[k][1])"
   ]
  }
 ],
 "metadata": {
  "interpreter": {
   "hash": "dcb03482c70462c62b57536d38c2f1036ee427d80d688534f4d85e8ca7d04a76"
  },
  "kernelspec": {
   "display_name": "Python 3.9.12 ('ml')",
   "language": "python",
   "name": "python3"
  },
  "language_info": {
   "codemirror_mode": {
    "name": "ipython",
    "version": 3
   },
   "file_extension": ".py",
   "mimetype": "text/x-python",
   "name": "python",
   "nbconvert_exporter": "python",
   "pygments_lexer": "ipython3",
   "version": "3.9.12"
  },
  "orig_nbformat": 4,
  "vscode": {
   "interpreter": {
    "hash": "fb51b6b13e8232a64b369b5696b9d41218df7738edf9356f9fbcee5c06010241"
   }
  }
 },
 "nbformat": 4,
 "nbformat_minor": 2
}
