{
  "cells": [
    {
      "cell_type": "markdown",
      "metadata": {
        "id": "view-in-github",
        "colab_type": "text"
      },
      "source": [
        "<a href=\"https://colab.research.google.com/github/Soham1729/Deep-Learning/blob/main/SohamPyne_MDS202148_Assignment_01_02.ipynb\" target=\"_parent\"><img src=\"https://colab.research.google.com/assets/colab-badge.svg\" alt=\"Open In Colab\"/></a>"
      ]
    },
    {
      "cell_type": "markdown",
      "metadata": {
        "id": "rM5QEEfyVnSh"
      },
      "source": [
        "# <center> Text Analytics - Assignment 1 & 2\n",
        "## <center> Soham Pyne (MDS202148) <br><br>"
      ]
    },
    {
      "cell_type": "markdown",
      "metadata": {
        "id": "QlO8ggAuVnSi"
      },
      "source": [
        "### Importing necessary libraries"
      ]
    },
    {
      "cell_type": "code",
      "execution_count": 116,
      "metadata": {
        "id": "jAWfYu0fqAFu"
      },
      "outputs": [],
      "source": [
        "import gzip\n",
        "import json\n",
        "import re\n",
        "import string\n",
        "import nltk\n",
        "import contractions"
      ]
    },
    {
      "cell_type": "code",
      "execution_count": null,
      "metadata": {
        "id": "DcwvIT-MqAFy"
      },
      "outputs": [],
      "source": [
        "from nltk.tokenize import sent_tokenize \n",
        "from nltk.tokenize import word_tokenize\n",
        "from nltk.corpus import stopwords \n",
        "from nltk.stem.porter import *\n",
        "from nltk.tokenize import RegexpTokenizer\n"
      ]
    },
    {
      "cell_type": "code",
      "execution_count": null,
      "metadata": {
        "colab": {
          "base_uri": "https://localhost:8080/"
        },
        "id": "ZqSRelPvrZKE",
        "outputId": "467c9520-9b7d-462e-c680-6fbeb88cf0a5"
      },
      "outputs": [
        {
          "name": "stdout",
          "output_type": "stream",
          "text": [
            "Mounted at /content/drive\n"
          ]
        }
      ],
      "source": [
        "from google.colab import drive\n",
        "drive.mount('/content/drive')"
      ]
    },
    {
      "cell_type": "code",
      "execution_count": null,
      "metadata": {
        "id": "yQnb5EuIqAFw"
      },
      "outputs": [],
      "source": [
        "file = '/content/drive/Othercomputers/My MacBook Pro/Documents/CMI-SEM 3/Text Analytics/AmazonMobileReviews/Cell_Phones_and_Accessories_5.json.gz'"
      ]
    },
    {
      "cell_type": "markdown",
      "metadata": {
        "id": "Y6n7caLzVnSl"
      },
      "source": [
        "### Function to read the review texts from the JSON file and appending to the list of reviews. "
      ]
    },
    {
      "cell_type": "code",
      "execution_count": null,
      "metadata": {
        "id": "59tzNX6VqAFx"
      },
      "outputs": [],
      "source": [
        "def read_gz_file(filename:str):\n",
        "    data = []\n",
        "    with gzip.open(filename, 'r') as f:\n",
        "        for files in f:\n",
        "            try:\n",
        "                text = str(json.loads(files.decode('utf-8'))['reviewText'])\n",
        "                data.append(text)    \n",
        "            except KeyError:\n",
        "                pass\n",
        "        return data\n",
        "\n",
        "reviews = read_gz_file(file)\n"
      ]
    },
    {
      "cell_type": "code",
      "execution_count": null,
      "metadata": {
        "colab": {
          "base_uri": "https://localhost:8080/"
        },
        "id": "gh7pcIprVnSl",
        "outputId": "fa6a2bd3-cc10-41a1-995f-8a146c571090"
      },
      "outputs": [
        {
          "data": {
            "text/plain": [
              "1127672"
            ]
          },
          "execution_count": 7,
          "metadata": {},
          "output_type": "execute_result"
        }
      ],
      "source": [
        "len(reviews)"
      ]
    },
    {
      "cell_type": "markdown",
      "metadata": {
        "id": "Xwud4QrfVnSm"
      },
      "source": [
        "### Writing to 'text_corpus.txt'"
      ]
    },
    {
      "cell_type": "code",
      "execution_count": null,
      "metadata": {
        "id": "FOr6J1_4VnSm"
      },
      "outputs": [],
      "source": [
        "with open('text_corpus.txt', 'w') as f:\n",
        "    for review in reviews:\n",
        "        f.write(f\"{review}\\n\")"
      ]
    },
    {
      "cell_type": "code",
      "execution_count": null,
      "metadata": {
        "id": "FWIj68JosNyM"
      },
      "outputs": [],
      "source": [
        "pattern_dot = re.compile(r'.+\\.')          #RegEx expression to filter sentences ending with period.\n",
        "pattern_qmark = re.compile(r'.+\\?')        #RegEx expression to filter sentences ending with question mark. \n",
        "pattern_exmark = re.compile(r'.+\\!')       #RegEx expression to filter sentences ending with exclamation mark."
      ]
    },
    {
      "cell_type": "code",
      "execution_count": null,
      "metadata": {
        "id": "qlulq3-zT5-G"
      },
      "outputs": [],
      "source": [
        "dict_of_sentences = {'qmark':0,'exclamation':0,'period':0}\n",
        "sent_found = {'qmark':[],'exclamation':[],'period':[]}"
      ]
    },
    {
      "cell_type": "code",
      "execution_count": null,
      "metadata": {
        "id": "t2uns7CoqAFz"
      },
      "outputs": [],
      "source": [
        "def punctuation_finder(tokenized_sent):\n",
        "  for se in tokenized_sent:\n",
        "    if pattern_dot.search(se) is not None:\n",
        "      sent_found['period'].extend(pattern_dot.findall(se))\n",
        "      dict_of_sentences['period'] += 1\n",
        "    elif pattern_qmark.search(se) is not None:\n",
        "      sent_found['qmark'].extend(pattern_qmark.findall(se))\n",
        "      dict_of_sentences['qmark'] += 1\n",
        "    elif pattern_exmark.search(se) is not None:\n",
        "      sent_found['exclamation'].extend(pattern_exmark.findall(se))\n",
        "      dict_of_sentences['exclamation'] += 1\n",
        "  return sent_found"
      ]
    },
    {
      "cell_type": "code",
      "execution_count": null,
      "metadata": {
        "id": "Vg9Lg28ONXea"
      },
      "outputs": [],
      "source": [
        "for review in reviews:\n",
        "  tokenized_sent = sent_tokenize(review)\n",
        "  punctuation_finder(tokenized_sent)\n"
      ]
    },
    {
      "cell_type": "markdown",
      "metadata": {
        "id": "jlk1YL3PVnSo"
      },
      "source": [
        "### The dictionay to count the occurances of the sentences with the following punctuations"
      ]
    },
    {
      "cell_type": "code",
      "execution_count": null,
      "metadata": {
        "colab": {
          "base_uri": "https://localhost:8080/"
        },
        "id": "vbWe4P81PBNs",
        "outputId": "115fc137-a347-45a0-bc26-14cbbcb667cf"
      },
      "outputs": [
        {
          "data": {
            "text/plain": [
              "{'qmark': 28197, 'exclamation': 317587, 'period': 3523068}"
            ]
          },
          "execution_count": 15,
          "metadata": {},
          "output_type": "execute_result"
        }
      ],
      "source": [
        "dict_of_sentences"
      ]
    },
    {
      "cell_type": "code",
      "execution_count": 96,
      "metadata": {
        "id": "TL10fLhdVnSo"
      },
      "outputs": [],
      "source": [
        "# sent_found['exclamation']"
      ]
    },
    {
      "cell_type": "markdown",
      "metadata": {
        "id": "lXQr-kJfmaPp"
      },
      "source": [
        "### Assignment 2"
      ]
    },
    {
      "cell_type": "markdown",
      "metadata": {
        "id": "hdg-vFknVnSp"
      },
      "source": [
        "### The preprocessing steps suggested for the dataset is as follows\n",
        "* Removing stopwords : This is very generic preprocessing step as stop words account for a significant portion of the vocabulary frequency count and generally it does not contain any special information.\n",
        "* Removing digits : We are removing the digits while adding words to the vocabulary.\n",
        "* Stemming(?) : Here we have not undertaken the stemming operations \n",
        "* Casefolding : Lowercasing the words \n",
        "* Fixing contractions : Fixing the contractions. e.g. They've = They have\n",
        "* Removing punctuations : We are removing the punctuations and special characters while making the vocabulary."
      ]
    },
    {
      "cell_type": "code",
      "execution_count": 125,
      "metadata": {
        "id": "MslZf_w-PZUw"
      },
      "outputs": [],
      "source": [
        "freq_dict = {}\n",
        "stop_words = set(stopwords.words(\"english\"))\n",
        "# stemmer = PorterStemmer()\n",
        "tokenizer = RegexpTokenizer(r'\\w+')\n",
        "count = 0\n",
        "for review in reviews:\n",
        "  review = contractions.fix(review)           #Fixing the contractions. e.g. They've = They have\n",
        "  review = review.replace(\"_\", \"\")\n",
        "  review = re.sub(r'[0-9]', '', review)       #Removing the digits from the corpus\n",
        "  tokenized_word = tokenizer.tokenize(review) # Removing punctuations from the corpus\n",
        "  # tokenized_word = word_tokenize(review)\n",
        "  count += 1\n",
        "  for word in tokenized_word:\n",
        "    word = word.lower()\n",
        "    #word = stemmer.stem(word)\n",
        "    if word in stop_words:                    # Removing the stopwords from the corpus\n",
        "      continue\n",
        "    if word in freq_dict and not None:\n",
        "      freq_dict[word] += 1\n",
        "    else:\n",
        "      freq_dict[word] = 1\n",
        "  if count >= 1127672:\n",
        "    break"
      ]
    },
    {
      "cell_type": "code",
      "execution_count": 126,
      "metadata": {
        "id": "KZB3hfqXIWJH"
      },
      "outputs": [],
      "source": [
        "freq_dict = dict(sorted(freq_dict.items(), key=lambda item: item[1],reverse=True))\n"
      ]
    },
    {
      "cell_type": "markdown",
      "metadata": {
        "id": "mqEFtCQpVnSp"
      },
      "source": [
        "### The dictionary for frequency of the words"
      ]
    },
    {
      "cell_type": "code",
      "execution_count": 127,
      "metadata": {
        "id": "mXYS13ZnVnSp",
        "outputId": "ff0ea91f-2252-49e8-fcf1-d90f6fa71e35",
        "colab": {
          "base_uri": "https://localhost:8080/"
        }
      },
      "outputs": [
        {
          "output_type": "execute_result",
          "data": {
            "text/plain": [
              "118339"
            ]
          },
          "metadata": {},
          "execution_count": 127
        }
      ],
      "source": [
        "len(freq_dict.keys())"
      ]
    },
    {
      "cell_type": "code",
      "execution_count": 89,
      "metadata": {
        "id": "RRHdugFZVnSq"
      },
      "outputs": [],
      "source": [
        "list_freq_dict_values = list(freq_dict.values())\n",
        "total = sum(list_freq_dict_values)"
      ]
    },
    {
      "cell_type": "code",
      "execution_count": 128,
      "metadata": {
        "id": "JLJ2rpaQVnSq",
        "outputId": "0067a66d-92d2-457a-85aa-49acbdd8c3c8",
        "colab": {
          "base_uri": "https://localhost:8080/"
        }
      },
      "outputs": [
        {
          "output_type": "execute_result",
          "data": {
            "text/plain": [
              "0.9768546294966157"
            ]
          },
          "metadata": {},
          "execution_count": 128
        }
      ],
      "source": [
        "(1156/118339)*100"
      ]
    },
    {
      "cell_type": "markdown",
      "metadata": {
        "id": "AaDakmDcVnSr"
      },
      "source": [
        "### Pareto rule is applicable here since less than one percent of the words account for $80\\%$ occurance of the words."
      ]
    },
    {
      "cell_type": "code",
      "execution_count": 129,
      "metadata": {
        "id": "IPwLLIwyVnSr",
        "outputId": "d0be1334-862f-4a01-f388-db3dcd36c5be",
        "colab": {
          "base_uri": "https://localhost:8080/"
        }
      },
      "outputs": [
        {
          "output_type": "execute_result",
          "data": {
            "text/plain": [
              "0.8023511638162296"
            ]
          },
          "metadata": {},
          "execution_count": 129
        }
      ],
      "source": [
        "list_freq_dict_values_ratio = [i/total for i in list_freq_dict_values]\n",
        "value = sum(list_freq_dict_values_ratio[:1156])\n",
        "value"
      ]
    },
    {
      "cell_type": "markdown",
      "metadata": {
        "id": "Xq125bxfVnSr"
      },
      "source": [
        "#### Vocabulary of corpus"
      ]
    },
    {
      "cell_type": "markdown",
      "source": [
        "### Total number of words without truncation"
      ],
      "metadata": {
        "id": "rERok3S1Kpld"
      }
    },
    {
      "cell_type": "code",
      "execution_count": 92,
      "metadata": {
        "id": "pgPeWcftVnSr",
        "outputId": "36316ae9-2f26-4fea-c6d4-8094a849426d",
        "colab": {
          "base_uri": "https://localhost:8080/"
        }
      },
      "outputs": [
        {
          "output_type": "execute_result",
          "data": {
            "text/plain": [
              "118632"
            ]
          },
          "metadata": {},
          "execution_count": 92
        }
      ],
      "source": [
        "len(freq_dict.keys())"
      ]
    },
    {
      "cell_type": "code",
      "execution_count": 81,
      "metadata": {
        "id": "ZBCsvWgTVnSr"
      },
      "outputs": [],
      "source": [
        "# list(freq_dict.keys())"
      ]
    },
    {
      "cell_type": "code",
      "source": [
        "# '_' in freq_dict.keys()"
      ],
      "metadata": {
        "id": "CnwOvb2_Olys"
      },
      "execution_count": 136,
      "outputs": []
    },
    {
      "cell_type": "markdown",
      "source": [
        "### Removing the words with frequency lower than $(k=99)$"
      ],
      "metadata": {
        "id": "S9Hwbqw5KVKb"
      }
    },
    {
      "cell_type": "code",
      "source": [
        "relevant_occurances = [(key,value) for (key,value) in freq_dict.items() if value>=99]"
      ],
      "metadata": {
        "id": "M1wIjvvRIrmP"
      },
      "execution_count": 131,
      "outputs": []
    },
    {
      "cell_type": "code",
      "source": [
        "len(relevant_occurances)"
      ],
      "metadata": {
        "colab": {
          "base_uri": "https://localhost:8080/"
        },
        "id": "PnRGfJdnTzws",
        "outputId": "e7136a87-e59c-4517-8a6f-52f1fa74408d"
      },
      "execution_count": 132,
      "outputs": [
        {
          "output_type": "execute_result",
          "data": {
            "text/plain": [
              "8453"
            ]
          },
          "metadata": {},
          "execution_count": 132
        }
      ]
    },
    {
      "cell_type": "code",
      "source": [
        "relevant_occurances[:20]"
      ],
      "metadata": {
        "colab": {
          "base_uri": "https://localhost:8080/"
        },
        "id": "Dtp0oD7bJJL_",
        "outputId": "06ee8f5d-834d-4e69-a954-2d39525131ce"
      },
      "execution_count": 133,
      "outputs": [
        {
          "output_type": "execute_result",
          "data": {
            "text/plain": [
              "[('phone', 707626),\n",
              " ('case', 641996),\n",
              " ('great', 329632),\n",
              " ('one', 280478),\n",
              " ('screen', 271854),\n",
              " ('good', 257064),\n",
              " ('like', 243743),\n",
              " ('would', 211493),\n",
              " ('product', 196467),\n",
              " ('well', 194075),\n",
              " ('use', 179901),\n",
              " ('love', 145685),\n",
              " ('works', 142888),\n",
              " ('get', 141151),\n",
              " ('nice', 134117),\n",
              " ('iphone', 131959),\n",
              " ('really', 130625),\n",
              " ('protector', 127554),\n",
              " ('battery', 120104),\n",
              " ('charge', 117485)]"
            ]
          },
          "metadata": {},
          "execution_count": 133
        }
      ]
    }
  ],
  "metadata": {
    "colab": {
      "collapsed_sections": [],
      "provenance": [],
      "include_colab_link": true
    },
    "interpreter": {
      "hash": "dcb03482c70462c62b57536d38c2f1036ee427d80d688534f4d85e8ca7d04a76"
    },
    "kernelspec": {
      "display_name": "Python 3.9.12 ('ml')",
      "language": "python",
      "name": "python3"
    },
    "language_info": {
      "codemirror_mode": {
        "name": "ipython",
        "version": 3
      },
      "file_extension": ".py",
      "mimetype": "text/x-python",
      "name": "python",
      "nbconvert_exporter": "python",
      "pygments_lexer": "ipython3",
      "version": "3.9.12"
    },
    "orig_nbformat": 4
  },
  "nbformat": 4,
  "nbformat_minor": 0
}