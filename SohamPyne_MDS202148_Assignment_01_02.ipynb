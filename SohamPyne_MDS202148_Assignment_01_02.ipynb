{
  "cells": [
    {
      "cell_type": "markdown",
      "metadata": {
        "id": "view-in-github",
        "colab_type": "text"
      },
      "source": [
        "<a href=\"https://colab.research.google.com/github/Soham1729/Deep-Learning/blob/main/SohamPyne_MDS202148_Assignment_01_02.ipynb\" target=\"_parent\"><img src=\"https://colab.research.google.com/assets/colab-badge.svg\" alt=\"Open In Colab\"/></a>"
      ]
    },
    {
      "cell_type": "markdown",
      "metadata": {
        "id": "rM5QEEfyVnSh"
      },
      "source": [
        "# <center> Text Analytics - Assignment 1 & 2\n",
        "## <center> Soham Pyne (MDS202148) <br><br>"
      ]
    },
    {
      "cell_type": "markdown",
      "metadata": {
        "id": "QlO8ggAuVnSi"
      },
      "source": [
        "### Importing necessary libraries"
      ]
    },
    {
      "cell_type": "code",
      "execution_count": null,
      "metadata": {
        "id": "jAWfYu0fqAFu",
        "outputId": "c493eaea-b0b9-4955-9b91-d2b8d845e736"
      },
      "outputs": [
        {
          "ename": "",
          "evalue": "",
          "output_type": "error",
          "traceback": [
            "\u001b[1;31mFailed to start the Kernel. \n",
            "spawn /conda ENOENT. \n",
            "View Jupyter <a href='command:jupyter.viewOutput'>log</a> for further details."
          ]
        }
      ],
      "source": [
        "import gzip\n",
        "import json\n",
        "import re\n",
        "import string\n",
        "import nltk"
      ]
    },
    {
      "cell_type": "code",
      "execution_count": null,
      "metadata": {
        "id": "DcwvIT-MqAFy"
      },
      "outputs": [],
      "source": [
        "from nltk.tokenize import sent_tokenize \n",
        "from nltk.tokenize import word_tokenize\n",
        "from nltk.corpus import stopwords \n",
        "from nltk.stem.porter import *\n",
        "from nltk.tokenize import RegexpTokenizer\n"
      ]
    },
    {
      "cell_type": "code",
      "execution_count": null,
      "metadata": {
        "colab": {
          "base_uri": "https://localhost:8080/"
        },
        "id": "ZqSRelPvrZKE",
        "outputId": "467c9520-9b7d-462e-c680-6fbeb88cf0a5"
      },
      "outputs": [
        {
          "name": "stdout",
          "output_type": "stream",
          "text": [
            "Mounted at /content/drive\n"
          ]
        }
      ],
      "source": [
        "from google.colab import drive\n",
        "drive.mount('/content/drive')"
      ]
    },
    {
      "cell_type": "code",
      "execution_count": null,
      "metadata": {
        "id": "yQnb5EuIqAFw"
      },
      "outputs": [],
      "source": [
        "file = '/content/drive/Othercomputers/My MacBook Pro/Documents/CMI-SEM 3/Text Analytics/AmazonMobileReviews/Cell_Phones_and_Accessories_5.json.gz'"
      ]
    },
    {
      "cell_type": "markdown",
      "metadata": {
        "id": "Y6n7caLzVnSl"
      },
      "source": [
        "### Function to read the review texts from the JSON file and appending to the list of reviews. "
      ]
    },
    {
      "cell_type": "code",
      "execution_count": null,
      "metadata": {
        "id": "59tzNX6VqAFx"
      },
      "outputs": [],
      "source": [
        "def read_gz_file(filename:str):\n",
        "    data = []\n",
        "    with gzip.open(filename, 'r') as f:\n",
        "        for files in f:\n",
        "            try:\n",
        "                text = str(json.loads(files.decode('utf-8'))['reviewText'])\n",
        "                data.append(text)    \n",
        "            except KeyError:\n",
        "                pass\n",
        "        return data\n",
        "\n",
        "reviews = read_gz_file(file)\n"
      ]
    },
    {
      "cell_type": "code",
      "execution_count": null,
      "metadata": {
        "colab": {
          "base_uri": "https://localhost:8080/"
        },
        "id": "gh7pcIprVnSl",
        "outputId": "fa6a2bd3-cc10-41a1-995f-8a146c571090"
      },
      "outputs": [
        {
          "data": {
            "text/plain": [
              "1127672"
            ]
          },
          "execution_count": 7,
          "metadata": {},
          "output_type": "execute_result"
        }
      ],
      "source": [
        "len(reviews)"
      ]
    },
    {
      "cell_type": "markdown",
      "metadata": {
        "id": "Xwud4QrfVnSm"
      },
      "source": [
        "### Writing to 'text_corpus.txt'"
      ]
    },
    {
      "cell_type": "code",
      "execution_count": null,
      "metadata": {
        "id": "FOr6J1_4VnSm"
      },
      "outputs": [],
      "source": [
        "with open('text_corpus.txt', 'w') as f:\n",
        "    for review in reviews:\n",
        "        f.write(f\"{review}\\n\")"
      ]
    },
    {
      "cell_type": "code",
      "execution_count": null,
      "metadata": {
        "id": "FWIj68JosNyM"
      },
      "outputs": [],
      "source": [
        "pattern_dot = re.compile(r'.+\\.')          #RegEx expression to filter sentences ending with period.\n",
        "pattern_qmark = re.compile(r'.+\\?')        #RegEx expression to filter sentences ending with question mark. \n",
        "pattern_exmark = re.compile(r'.+\\!')       #RegEx expression to filter sentences ending with exclamation mark."
      ]
    },
    {
      "cell_type": "code",
      "execution_count": null,
      "metadata": {
        "id": "qlulq3-zT5-G"
      },
      "outputs": [],
      "source": [
        "dict_of_sentences = {'qmark':0,'exclamation':0,'period':0}\n",
        "sent_found = {'qmark':[],'exclamation':[],'period':[]}"
      ]
    },
    {
      "cell_type": "code",
      "execution_count": null,
      "metadata": {
        "id": "t2uns7CoqAFz"
      },
      "outputs": [],
      "source": [
        "def punctuation_finder(tokenized_sent):\n",
        "  for se in tokenized_sent:\n",
        "    if pattern_dot.search(se) is not None:\n",
        "      sent_found['period'].extend(pattern_dot.findall(se))\n",
        "      dict_of_sentences['period'] += 1\n",
        "    elif pattern_qmark.search(se) is not None:\n",
        "      sent_found['qmark'].extend(pattern_qmark.findall(se))\n",
        "      dict_of_sentences['qmark'] += 1\n",
        "    elif pattern_exmark.search(se) is not None:\n",
        "      sent_found['exclamation'].extend(pattern_exmark.findall(se))\n",
        "      dict_of_sentences['exclamation'] += 1\n",
        "  return sent_found"
      ]
    },
    {
      "cell_type": "code",
      "execution_count": null,
      "metadata": {
        "id": "Vg9Lg28ONXea"
      },
      "outputs": [],
      "source": [
        "for review in reviews:\n",
        "  tokenized_sent = sent_tokenize(review)\n",
        "  punctuation_finder(tokenized_sent)\n"
      ]
    },
    {
      "cell_type": "markdown",
      "metadata": {
        "id": "jlk1YL3PVnSo"
      },
      "source": [
        "### The dictionay to count the occurances of the sentences with the following punctuations"
      ]
    },
    {
      "cell_type": "code",
      "execution_count": null,
      "metadata": {
        "colab": {
          "base_uri": "https://localhost:8080/"
        },
        "id": "vbWe4P81PBNs",
        "outputId": "115fc137-a347-45a0-bc26-14cbbcb667cf"
      },
      "outputs": [
        {
          "data": {
            "text/plain": [
              "{'qmark': 28197, 'exclamation': 317587, 'period': 3523068}"
            ]
          },
          "execution_count": 15,
          "metadata": {},
          "output_type": "execute_result"
        }
      ],
      "source": [
        "dict_of_sentences"
      ]
    },
    {
      "cell_type": "code",
      "execution_count": null,
      "metadata": {
        "colab": {
          "base_uri": "https://localhost:8080/"
        },
        "id": "TL10fLhdVnSo",
        "outputId": "fec5b8a1-8e0c-4a2c-c80b-2e0c167b6049"
      },
      "outputs": [
        {
          "data": {
            "text/plain": [
              "['It took forever to get here!',\n",
              " 'DO NOT BUY!',\n",
              " 'I wish I got my money back on this item!',\n",
              " 'Very cheap broke the first time we put it on :( It was pretty but very cheaply made!!',\n",
              " 'Beautiful quality and outstanding product!',\n",
              " 'I have used this case for a couple weeks & so far its been great!',\n",
              " 'Beautiful!',\n",
              " 'really pretty!',\n",
              " 'here is another I love as well!!',\n",
              " '!, I am so happy with my phone cover,, I get so many compliments from other females!!!!',\n",
              " 'but it is my phone that wears it!!!',\n",
              " 'This case is very cute!!',\n",
              " 'Two problems though!!',\n",
              " 'The case is VERY hard to take off, I had to get my dad to help me take it off!!',\n",
              " 'This case is soo super pretty!',\n",
              " 'GET IT!!',\n",
              " 'Would recommend it if you like prissy & pink!',\n",
              " 'For the price i received a pretty great case!',\n",
              " 'I received many compliments on how cute it was!',\n",
              " 'the bow on the back looked like it might fall out but i have had it for 6 months and nope, its strongly attached!',\n",
              " \"but i don't recommend dropping your phone because it doesn't give you protection from impacts!\",\n",
              " 'But i will definitely buy another one to put on my iPhone on special occasions only!',\n",
              " 'I just feel like its going to break if i drop it!',\n",
              " 'It also provides NO protection for the phone at all!!',\n",
              " 'It was a great deal,, I would keep buying !!!!!!!',\n",
              " 'It is so cute!',\n",
              " 'Love the bling and love the pink!',\n",
              " 'SHE LOVED THIS PHONE CASE FROM THE MOMENT SHE OPENED THE PACKAGE!!',\n",
              " 'soooo cute!',\n",
              " \"It's very cute and the stones lasted a long time!\",\n",
              " 'love it!',\n",
              " 'love it!!!!!',\n",
              " \"I can't believe the mark up on these things!\",\n",
              " 'It was an excellent buy!',\n",
              " 'Thanks for being an honest company!!!!!',\n",
              " 'it fits my phone but does not stay clipped!',\n",
              " 'Great !',\n",
              " 'Charges like a champ!',\n",
              " 'You are saying that you sell a Universal charger but what you sold me was a blasted Blackberry charger!',\n",
              " 'I am so mad right now!!',\n",
              " 'This Charger is awesome!',\n",
              " \"First of all I wasn't expecting it until between 12/12  and 12/17, but it arrived on 12/11,So That was a plus for me!\",\n",
              " 'Second, I was kinda skeptical about purchasing it because it says that its for a Galaxy S and Blackberry so that can mean a lot of things!',\n",
              " 'but I figured what the heck its cheap, so what can I loose!',\n",
              " 'Well, I just got it today and decided to give it a try at work on my Galaxy S4,  it charged  from 80%  to 100%  in about 7 minutes!!',\n",
              " 'Yes i timed it!',\n",
              " 'and also the cord is long which is a plus for me!',\n",
              " 'So if your looking for a fast charger with a long cord and not to mention a great price, this is the one!!',\n",
              " \"update:  not sure what the other reviewer meant by saying these are poor quality chargers, because I've had mine for a little over 2 weeks and it's still going strong!!\",\n",
              " 'Love this charger  especially  for the length!',\n",
              " 'it chargers the phone fast and the price is great!',\n",
              " 'Highly Recommended product!',\n",
              " 'very great charger it worked well and was a great deal!',\n",
              " 'what a great product!!!',\n",
              " '!Samsung Galaxy S2 Phone OEM Official Travel USB Charger (Detachable, comes with OEM USB to Micro USB Cable)!',\n",
              " 'by Samsung it was what it says it was and more!!!!',\n",
              " 'the product is build for your phone to Safely charge your phone using the original authentic brand!',\n",
              " 'Using the authentic OEM brand will ensure your phones warranty is never voided!',\n",
              " 'I have to say it was great and was worth the money!!',\n",
              " 'Works great!',\n",
              " 'Excellent quality!',\n",
              " 'would recommend to all!',\n",
              " 'thanks!',\n",
              " \"Charges my phone pretty fast (as long as im not using it) Ive had this for a few months now and haven't had a single problem with it!\",\n",
              " 'WHAT A GREAT PRICE!',\n",
              " 'great!',\n",
              " 'Works great!!',\n",
              " 'Shipping was on point!!',\n",
              " 'It is most definitely a good buy for the price!',\n",
              " 'Finally a real oem charger!!!!',\n",
              " 'DO NOT BUY THIS PRODUCT!!!',\n",
              " 'Ugh!',\n",
              " 'Brand new charger!',\n",
              " 'and the price was beyond awesome!!!',\n",
              " 'I love it!',\n",
              " 'I am very satisfied with this product!',\n",
              " 'It was also a very good price!',\n",
              " 'Also they are very helpful and have great communication!',\n",
              " 'I have finally lernt my lesson>!',\n",
              " 'Works great!',\n",
              " 'Yay!',\n",
              " 'Love this!',\n",
              " 'QUE COSA TAN MALAAAAA!!',\n",
              " 'My husband said, Holly Cow, that is clunky!',\n",
              " 'IT IS huge and heavy!',\n",
              " \"I am hoping it didn't stretched out the tension hold of the holder!\",\n",
              " 'In fact, it appeared that the case was draining power from the phone!',\n",
              " 'Great PRICE!',\n",
              " 'I love It!',\n",
              " 'I love them because the \"I had a dead battery\" excuse no longer works!',\n",
              " 'Thank you PowerBear!',\n",
              " 'The S5 battery should come stock this good!',\n",
              " 'I love that my battery goes all day, sometimes TWO without having to charge!',\n",
              " \"WHY Samsung didn't make the S7 with the extended batter option is a mystery!!!\",\n",
              " 'Doesnt last quite as long as the one I had for my last phone, but It helps a lot!',\n",
              " 'Many thanks!',\n",
              " 'Great Product and fit perfectly for my phone!',\n",
              " \"Great Product and no issues that I've been aware of as of yet!\",\n",
              " \"I'm so glad I bought this extended battery and it's under warranty for 24 months!\",\n",
              " 'GREAT BATTERY LIFE SO FAR !!',\n",
              " 'This thing works fantastic!',\n",
              " 'Works perfect and it lasts significantly very long battery life up to two days on a single charge with regular phone usage!',\n",
              " 'Now the cons!',\n",
              " 'All the extra battery is worth the extra thickness but just be careful around moisture!',\n",
              " 'Not with this case!',\n",
              " 'This is an Awesome product!',\n",
              " 'I went from worrying early on the day  (around noon ) about where I could plug the phone to charge it while using it at the same time, to not needing to do it at all until I got home to charge it overnight!!',\n",
              " 'I would highly recomend PowerBear!',\n",
              " 'Well-crafted and precise in all aspects of fitting and performance!',\n",
              " 'We haven\\'t calculated exact length it lasts, so I\\'m not going to give any technical info here,but as many times as he\\'s gone \"HA!',\n",
              " 'Thank you!',\n",
              " 'Sometimes even go for 2 days!',\n",
              " 'No more signal issues!',\n",
              " \"Just got a new Galaxy S5 and 15 hours later I'm still at 82%!!\",\n",
              " 'Works great!',\n",
              " 'Thanks,  PowerBear!',\n",
              " 'To charge 70% with this charger would take 6 hours!!!!',\n",
              " 'Overally great charger!',\n",
              " 'GOOD PHONE !',\n",
              " 'STILL USING !',\n",
              " 'Great product for the money!',\n",
              " 'The PowerBear is a bit bulky but worth it!!',\n",
              " 'Works great!',\n",
              " 'I am a real estate agent and when showing houses with my blue tooth ekey, my phone would always die!',\n",
              " 'This battery keeps my phone charged and is great quality!',\n",
              " 'You will not regret it!!!',\n",
              " \"Works great but it's so big!\",\n",
              " 'Awesome charging case!!',\n",
              " \"I've referred lots of friends to buy one!\",\n",
              " \"It's been little over 7 months now and it's still strong and I still love it!\",\n",
              " 'I reckon it gives the extra power back up !',\n",
              " 'A very nice case that fits perfectly around my phone!',\n",
              " \"It's protecting my phone in style!\",\n",
              " 'Love the fit, and the case and screen protector are a very nice bonus!',\n",
              " 'This is very pretty and ubber functional on my phone!',\n",
              " \"I couldn't see spending a fortune to cover my phone with an ugly otter box, this one does the job and is gorgeous!\",\n",
              " 'The blue and gray combination with the stylish design on the case are a great fit for my galaxy sii!',\n",
              " 'Oh it also includes a cute carry bag which my daughter was tickled silly over!',\n",
              " 'Dear Lord in Heaven!',\n",
              " \"Where have you've been all of my life PowerBear LLC!\",\n",
              " 'Yeah I know, WAH WAH WAAAAAHHHHH!',\n",
              " 'Peace!',\n",
              " 'What a rip of!!!',\n",
              " 'The only setting that works is \"Just Charge\"!',\n",
              " 'Each of the 3 cables fails slightly differently which makes me believe that each has a different flaw!',\n",
              " 'Look elsewhere when attempting to purchase a cable for your Palm device!',\n",
              " 'I have used this cable about 10x to charge now, and it works great!',\n",
              " 'Do not hesitate to purchase this if you need another cable, or two!',\n",
              " 'This did the trick!',\n",
              " 'Very cheap material!',\n",
              " 'perfect!',\n",
              " 'I hope this helps!',\n",
              " 'Just no better way to keep up with such a tiny item in my car!',\n",
              " 'Highly recommend!',\n",
              " 'Jabra tech support at first claimed it was a feature - \"thats the way all headsets work\" - yeah right!',\n",
              " 'I have tried a lot of headsets and this is the most clear (and loud)!!!',\n",
              " 'Excellent!',\n",
              " \"I don't know who Emerald City Graphics is or why I was apparently purchasing their products, but I don't like it and never I never have!\",\n",
              " 'I followed the instructions listed under Existing AT&T Customers and everything went smooth!',\n",
              " 'My new, beautiful phone was up and running very quickly, with no problems!',\n",
              " 'You can also do it with the BlueTooth connection (a BlueTooth USB adaptor is under 40 bucks!',\n",
              " \"I've missed calls with the phone only a few feet away, or on the car seat next to me with the radio on (and not that loud!\",\n",
              " 'Apart from the retro-layout of the keypad and the huge (for a cell phone) screen, the phone also has another strange feature - no external antenna!',\n",
              " 'Yet the reception is great!',\n",
              " 'Very cool!',\n",
              " 'How fun is that!',\n",
              " 'Works great!',\n",
              " 'This is, simply put, the best phone on the market to date!',\n",
              " \"You can't go wrong--and it's free!\",\n",
              " \"DON'T BUY, IT DOESN'T WORK!!\",\n",
              " 'Really!',\n",
              " 'I bought this phone a few days ago, and it is awesome!',\n",
              " 'So, at this point, I can check my e-mail, browse the web, chat on MSN or Yahoo!',\n",
              " 'then this is the phone for you!',\n",
              " 'After a while you might realize that you got more than what you bargained for!',\n",
              " 'Than you may notice that the 3650 likes to turn it self off sometimes even when the key lock is active!',\n",
              " 'After a full night charge I was back up and running, Great!',\n",
              " \"Don't fall for this scam like I did!!!\",\n",
              " 'Nice!',\n",
              " 'Had to get a new phone while on vacation and the service at my rental was terrible!!!',\n",
              " \"Slapped one of these on and, I don't know if it's the power of suggestion, but my new phone works soooo much better!!!!\",\n",
              " 'Love these things!',\n",
              " 'Recommend!!',\n",
              " 'well, they say you get what you pay for and that was certainly true in this case!',\n",
              " \"expect nothing from this product and you won't be disappointed!\",\n",
              " 'ZERO!',\n",
              " 'Once I peeled off the booster, my 4G was fine again!',\n",
              " 'Buyers/Users beware!',\n",
              " \"Come on Amazon, I can't really believe you are selling this under your own name!\",\n",
              " 'But other than that, no complaints!',\n",
              " 'WOW, this is a great box for my iphone 4!',\n",
              " 'I ordered it this past May - knowing that w/ 3 kids & all their friends, my phone would need protection from the summer pools, water sprinklers, garden hoses & water balloon fights!',\n",
              " 'Well, it paid for itself more than once, when the kids or myself knocked it accidentally into a pool!',\n",
              " 'I initially panicked both times, but my phone was bone dry, and the case popped right back up to the surface & bobbed till I could reach it!',\n",
              " 'HIGHLY recommend!',\n",
              " 'NO reservations :-) Well made, well priced, works EXCELLENTLY!',\n",
              " 'Fabulous!!!',\n",
              " 'If you have an iphone, you need an otterbox DEFENDER case (to protect against drops or crushing) and this waterproof otterbox - both under $20 each on amazon!',\n",
              " 'Small price to pay to protect ones iphone investment!',\n",
              " 'VERY handy!',\n",
              " '1 in customer service, 2) Great rate plans, 3) It works great where I need it the most!',\n",
              " '2)it lacks features!',\n",
              " 'You can ONLY HANG UP ON BOTH CALLS!',\n",
              " \"So what happens is if you tell one person you'll get back with them and then flip over to the other call BOTH CALLS CONTINUE TO RACK UP AIR TIME, regardless of whether the other person has hung up!\",\n",
              " 'This is RIDICULOUS!!',\n",
              " 'ENJOY!',\n",
              " \"As a delivery driver in Michigan, I'm out in all types of weather, no problems yet with this phone, but I wouldn't suggest using in a downpour!\",\n",
              " 'All volume levels can be set from whisper quiet to LOUD LOUD!',\n",
              " 'Voila!',\n",
              " 'No delays like with Verizon (up to 30 seconds!',\n",
              " \"I didn't realize that maps were insanely expensive!\",\n",
              " 'Even the cities that are not printed, you can get a rough estimate as to where they are because the map is actually accurate!',\n",
              " 'Hopefully they start making bigger ones so I can make a big travel map for the family to put in the basement!',\n",
              " \"It's a map!\",\n",
              " 'I ordered this and this is exactly what I got!',\n",
              " 'i love this poster!',\n",
              " 'its soo big!',\n",
              " 'it shows not only the US, but all the countries!',\n",
              " 'even the pacific and Atlantic ocean!',\n",
              " 'This thing has so many charge terminals on it!',\n",
              " \"I was impressed how it could take old batteries that wouldn't recharge in other chargers, and it completely restores them to working order!\",\n",
              " 'The 16-bay charger makes it so easy to just dump all the batteries in over night and be ready in the morning for work!',\n",
              " \"Also, this thing is built so ruggedly, that I don't think I could break it if I tried!\",\n",
              " 'Highly recommended!',\n",
              " 'BEST CHARGER EVER!',\n",
              " '$10 extra is a small price to pay for a $350 unit NOT to fall off your windshied or bike!',\n",
              " 'However, the wrist strap saved it from hitting the ground!',\n",
              " 'Works great!',\n",
              " \"I've had it for about 6 months now and it still works as good as the 1st day, and i haven't even cleaned it once!\",\n",
              " \"The only problem I have now is that I sometimes elbow the Gamecube's carry handle when I shift into second and, because this product works so well, it kinda hurts!\",\n",
              " 'This works great in my vehicle to keep my phone handy!',\n",
              " 'These are fantasic!',\n",
              " 'Good in all weather conditions!',\n",
              " 'Big!',\n",
              " 'Thanks!',\n",
              " \"My food hasn't spilled yet!\",\n",
              " 'I recommend this product and have bought a 2nd one!',\n",
              " 'NEVER GET VERIZON!',\n",
              " 'Fast useage checking!',\n",
              " 'I was going to buy a new PlayStation 3 and a few games when I stumbled across this offer for Regulatory Fee!',\n",
              " \"out of all the regulatory fees i've ever paid, this was HANDS DOWN the BEST!!!!!!!!!!!!!!\",\n",
              " 'i absolutely loved every minute of the joy that it brought to me and my family!!!',\n",
              " 'five out of FIVE STARS!!',\n",
              " \"Now I can't imagine living without it!\",\n",
              " 'But a little experience shows that this Regulatory Cost Recovery Fee is a marvel of innovation that is packed with value!',\n",
              " 'So, the phone companies came to the rescue with teams of lobbyists to help write the new laws!',\n",
              " 'Hurray!',\n",
              " \"This wonderful invention allows the phone companies to charge an extra fee over-and-above the rates that they are allowed to charge for their services, so that they can fund the very expensive effort of fighting the other parts of the laws that they don't like!\",\n",
              " 'With high-powered Washington lawyer/lobbyists charging $400 an hour, you can imagine how hard it would be to survive without these great fees!',\n",
              " 'Sanyo added a few extra nice features for this phone like an alarm (yippie!!!',\n",
              " 'Best wishes!',\n",
              " 'I have had this phone going on a year now and can faithfully say that I have very few complaints!!',\n",
              " 'First of all the phone has NEVER and I mean NEVER failed me!',\n",
              " 'Also you cannot expect board room sound out of a tiny micro-sized speaker!',\n",
              " 'All in all another great Sanyo product!',\n",
              " 'To Sanyo, I suggest you use the iPod Mini color scheme, because not many people like big red!',\n",
              " \"do heed jabra's warnings about the wireless home network interfering with this device!\",\n",
              " '*range, range, range!',\n",
              " \"needless to say, it's for sale on ebay!\",\n",
              " 'I love this headset!',\n",
              " 'This price is $30 cheaper than most wholesalers can get it for!',\n",
              " 'Worked for me!',\n",
              " 'Great buy and definitely recommend!',\n",
              " 'Works great!',\n",
              " 'Very light duty!',\n",
              " 'Highly recommend!',\n",
              " 'very good ,great  stuff!',\n",
              " 'Works Great!',\n",
              " 'Thanks!',\n",
              " 'Great socket and looks!',\n",
              " 'Excelent!!!',\n",
              " \"Appears to be good and water proof, we'll see!\",\n",
              " 'Works great!',\n",
              " \"Another thing I'm ecstatic about never hearing again is WELCOME TO THE MOTOROLA BUDS!!!!!!!!!\",\n",
              " 'DEVICE ONE CONNECTED!!!!!!!!!!!!!!!!!!!!!!!!!!!!!!',\n",
              " 'Got my Mom this Bluetooth and she loves!',\n",
              " 'Thanks!',\n",
              " 'Peace!!',\n",
              " \"So I bought another pair, and I'm okay with that, because I LOVE THESE THINGS!\",\n",
              " '$30 a year for exactly what I want in headphones is fine with me!',\n",
              " 'But, man, these are terrific!',\n",
              " 'Good on you Motorola!',\n",
              " 'Great product!',\n",
              " 'Love it and great price too!',\n",
              " 'buds are small enough and fit well into my hear holes that I can get my motorcycle helmet on and off with these in place without disturbing them!',\n",
              " \"I've already recommended these to others so I guess I like them that well and at $35 they're a steal!\",\n",
              " 'They sound great!',\n",
              " \"So comfortable I don't even know I'm wearing them!\",\n",
              " 'Absolutely excellent!',\n",
              " 'Has made using my phone so much more pleasurable!',\n",
              " 'Easy to connect and battery lasts a long time!',\n",
              " 'Were delivered ahead of time in great packaging!',\n",
              " 'Would buy again!',\n",
              " 'THEY ARE DEAD!',\n",
              " 'Get done with a 30 min run and they are now dead!',\n",
              " \"I'm not a giraffe, but I do have a long neck!\",\n",
              " 'In terms of operation, the sound (as Larry David would say) is \"prittttttty, prittttttttty good!',\n",
              " 'Definitely a good buy (not a GOOD BYE!',\n",
              " '- Price!',\n",
              " '- If you need a go to \"git \\'er done\" headset for calls and basic audio, and you don\\'t want to break the bank, these are for you!',\n",
              " \"Let's not forget that!\",\n",
              " 'Great headset!',\n",
              " 'So far so good!',\n",
              " 'These work, perfectly!',\n",
              " 'those are my only complaints other than that it works fantastic!',\n",
              " 'I would definitely buy this product again!',\n",
              " 'She had no idea I was on a bluetooth headset during the call, it sounded that good!',\n",
              " 'Great earbuds!!',\n",
              " 'I love them!',\n",
              " 'Also they made my neck look like a big squeezed marshmallow!',\n",
              " \"I don't know if this is due to me trying to glue down the rubber stripping (I used the blunt end of a sewing needle to apply the glue, so it was a precision glue job, I'll tell you!\",\n",
              " 'I really thought I had found the perfect Bluetooth headphones!!!',\n",
              " 'Original review: I LOVE THESE BUDS!!!!!',\n",
              " \"And that's through three interior walls!\",\n",
              " \"As an aside for any ladies considering these, they don't mess up your hair!!!!\",\n",
              " \"Much better than any of the ear buds I have been using plus I'm free to leave my phone on the charger while I go around the house doing what I need to with no worry about missing a call!\",\n",
              " \"It sounded as if these Motorola Buds were getting good reviews, so I picked up a pair (from a store in NYC with a guaranteed return policy) -- and I must say, they're outstanding!!!\",\n",
              " 'Add to the sound quality the comfort and superb ergonomics at work here -- and I have a new favorite pair of ear buds!',\n",
              " 'Excellent!',\n",
              " 'Neat!',\n",
              " \"So if you're looking for a superb pair of ear buds that cut the cord and sound fantastic, I give these Motos my highest recommendation -- this is a brilliant product!\",\n",
              " 'There is a voice notification of EQ mode changed!',\n",
              " 'When you power it up, the headset plays a short musical tune and then a chipper female voice says Welcome to the Motorola Buds!',\n",
              " 'When you connect to a phone or mp3 player, the same voice says Device 1 connected!',\n",
              " 'ALL OK, PERFECT!',\n",
              " '- two-tone cable color may as well be illuminated with a sign that says, \"look at me!',\n",
              " 'And, most importantly for me, lasts all day on a single charge!',\n",
              " 'I have had many many many head phone this is the best all around so far mic is a little low but better than most!',\n",
              " \"Don't fall off like some others!\",\n",
              " 'This is a great phone for those on a budget (like me!',\n",
              " 'So if you can afford it, get the v400 instead!',\n",
              " 'The V220 connects via a small USB plug, but you have to order the datalink software & drivers from motorola before you can use it (another fourty bucks!',\n",
              " \"I got my software on a file-sharing program because I've NEVER heard of a company charging money just for DRIVERS!!\",\n",
              " 'The motorola software also allows you to sync to your Microsoft Outlook contacts and calendar, and it was truly easy to use!',\n",
              " \"It's a good buy, and on Amazon right now with their rebate, you actually get money BACK for buying the phone!\",\n",
              " 'If you like my review please vote for it!',\n",
              " 'This phone is great and with great features!!!',\n",
              " 'Bluetooth headsets are a godsend!',\n",
              " \"Update: I just found that there are in fact stereo headsets for this phone, it's just that Amazon does not carry them!\",\n",
              " 'as seen on tv, yea ok!',\n",
              " 'If you are having issues I recommend these!',\n",
              " 'You just put this sticky little piece of film by your battery and *viola* you have way better reception!!',\n",
              " 'Recommend!!',\n",
              " 'This told me why!',\n",
              " \"Can't recommend this enough!!!\",\n",
              " 'Get it!',\n",
              " \"You'll be shocked at what's going on around you!\",\n",
              " 'Seems to work well and saved us from living in a seemingly very desirable ground floor apartment which had a couple of power lines running directly under the floors of the bedrooms!',\n",
              " \"Yeah, I think I'll pass!\",\n",
              " 'Works Great!',\n",
              " 'Brand New arrived DOA!',\n",
              " 'One house I looked at had a very powerful regional distribution line running under the street -- the line was so strong that it pinned the needle past the highest tick mark!',\n",
              " 'Those pesky ghosts were always sneaking up on me and saying \"boo!',\n",
              " 'Wonderful product!',\n",
              " 'THE UNIT WORKS THRU THE BOSE SYSTEM IN MY CAR AND ALWAYS PAIRS UP AUTOMATICLY WHEN I ENTER MY CAR AND DOWN LOADS MY TELEPHONE CONTACTS AS WELL INTO ITS MEMORY , AND THE SOUND QUALITY IS EXCELLENT!!',\n",
              " 'Can you say RIPOFF!',\n",
              " \"I was dreading having to run the wiring for power until I realized I didn't have too!!\",\n",
              " 'For example, when you turn your key ignition off while on a call, instead of going dead and dropping the call, it continues to to stay on and asks you if you would like to transfer the audio back to the phone!',\n",
              " 'Because the Parrot voice recognition limits you to half a dozen voice commands, they actually work!',\n",
              " 'Further, the Sidekick II has both AIM and Yahoo!',\n",
              " 'First, let me just say to those who bash this phove because of T-Mobile, STOP!',\n",
              " \"Don't expect cable speed!\",\n",
              " 'I love my CSK2!',\n",
              " 'This is especially handy when you need to get to the facts fast!',\n",
              " 'Worked great after I actually read the DIRECTIONS!',\n",
              " 'Very understanding of them!',\n",
              " \"Combined with T-Mobile's features I can use my cell phone to receive faxes, view assorted files, create, send, and view jpg's, chat on AOL, Chat on Yahoo, buy and sell on Amazon!!!!\",\n",
              " 'This device deserves Katheryn Zeta-Jones!',\n",
              " 'WHAT A DISAPPOINTMENT!',\n",
              " 'Work Great!',\n",
              " 'Great product, highly recommend!',\n",
              " 'On the odd time I use my motorcycle, it also fits easily under the helmet and if its a longer trip, i just take a small (easy to remove!',\n",
              " \"Great product; it just works and you can't beat the price!\",\n",
              " 'Recommended!',\n",
              " 'Just gotta say, this phone rocks!',\n",
              " \"It's an effin computer!\",\n",
              " 'Web browser is slow!',\n",
              " 'A 1+GB SD memory card will hold alot of porn!',\n",
              " 'I highly recommend this device!',\n",
              " 'Bluetooth sync with my Mac Powerbook is awesome - no more plugging up cables to HotSync!',\n",
              " 'The 6035 I could use for almost a week without charging it!',\n",
              " \"The New-Age Treo's are the best smart devices ever made!\",\n",
              " 'And out of every smart device I have ever used, the Treo 600 and 650 are 1000 times better then any of them!',\n",
              " '2# The battery life is insanely long!',\n",
              " 'With the added bonus of the dependability of Linux!',\n",
              " 'I get a great signal with Sprint, but with Sprint and my Treo, my service is even better!',\n",
              " 'In fact, I get better signal strength with my Treo, then my friends get with their phones!',\n",
              " \"SO the next generation of Treo's will be even better!\",\n",
              " 'But if Palmone keeps making phones this perfect, then I will only buy their phones for the rest of my life!',\n",
              " 'I can not say enough good things about these phones!',\n",
              " \"Use it with Sprint PCS's $10 unlimited Visions access!\",\n",
              " \"I am not too picky when it comes to a PDA phone, if I can keep my outlook calendar, appointment, and call the contact store on it, I'm happy!\",\n",
              " 'But I do wish the Treo 600 can be better!',\n",
              " 'Makes for a clean install!',\n",
              " 'Be very careful about polarity, the wires are not marked!',\n",
              " 'Highly Recommend!!',\n",
              " 'Edit: emailed cyberpower and within a week they provided a new AC adapter free of charge!',\n",
              " 'Not only are they very functional, but they are just way cool looking!',\n",
              " 'They work and look great!',\n",
              " \"Unfortunately it's probably wasted money since I don/t think mine will ever fail me!!\",\n",
              " 'This USB Hub I have 4 usb powered hard drives and an external DVD burner plugged in and they all work without any problems!',\n",
              " 'Okay, this little guy ROCKS!',\n",
              " 'Was I ever wrong!',\n",
              " \"Without a hub, I wouldn't have enough USB ports to plug everything in!\",\n",
              " 'I had hoped this Hub would actually work unlike the D-Link hub and it does the job great!',\n",
              " 'It stands up most of the time!',\n",
              " 'I liked it so much I bought a second one!',\n",
              " \"- The cables plug into both sides of the hub, so even with the hardest bending of the cable you'd risk to route the wires, the width footprint of the hub goes from ~2 inches empty to OVER SIX INCHES!\",\n",
              " 'They are on even if nothing is plugged into a port!',\n",
              " 'Works great!',\n",
              " \"I give this product a 4-star rating only because I can't shut off the blue power light, which is so bright, it illuminates my home office as well as any night-light!\",\n",
              " 'Works like a charm!',\n",
              " 'Problem solved!',\n",
              " \"I would prefer that Mikey didn't like it!\",\n",
              " 'Nice Product!',\n",
              " 'Great price!',\n",
              " 'Little too much money !!!!',\n",
              " 'DO NOT BUY THIS PRODUCT!',\n",
              " \"I really don't want to return this (what a pain!\",\n",
              " \"I've been using my BT200 for over a year and it's been GREAT!\",\n",
              " 'I call this a \"gee whiz\" feature because I never knew I needed it until I had it!',\n",
              " 'All of the designs and features can be confusing, but you can rest assured knowing that this headset has everything you need (and some things you may not!',\n",
              " 'Someone in the quality control shd be fired!',\n",
              " 'Excellent Product!!',\n",
              " 'Believe me: this was the weirdest reboot I\\'ve ever seen in my life, like \"Clap your hands, hit the table, turn around, and bam!',\n",
              " \"This is the best bluetooth headset I've ever owned!\",\n",
              " \"If you don't need the vibrating feature, try the new Jabra BT 500 which is an upgrade of the Jabra BT 250, charging can be USB cable which is great as you will not have to take another charger on the trip!\",\n",
              " 'Good Product, good seller!',\n",
              " 'Good!',\n",
              " \"The only reason that I give it 4 stars instead of 5 is that it's a little bulky, but you can't beat the price!\",\n",
              " 'But this headset is phenomenal!',\n",
              " 'Open/close the boom to turn off/on!',\n",
              " 'You can get a car-charger, too!',\n",
              " 'I like the fact that Amazon guarantees a genuine Motorola product if you buy direct from them, and it was even more of a bargain with no tax and free shipping!',\n",
              " \"I'm glad you asked!\",\n",
              " 'Both have the cheek problem!',\n",
              " \"Unless you have a very narrow face, chances are this will happen to you and you'll blame it on the bluetooth!\",\n",
              " 'This will make a space between your cheek and the boom so people can hear you!',\n",
              " 'Use a Blackberry Perl horrible!',\n",
              " 'But fast delivery great value!',\n",
              " 'No more holding the button down just the right way for just the right length of time to turn it on!',\n",
              " 'Even when driving!',\n",
              " 'I purchased mine from Amazon, which i considered a serious seller, but after i took it to a repair shop after dropping it in coffee, the guy laughed at me and showed me its VERY cheap (<$2)ERICSSON speaker!',\n",
              " 'What a mistake!!',\n",
              " 'I love the HS850 since it has no power button!',\n",
              " \"And I'll certainly have nomo Moto!\",\n",
              " 'This makes using it a snap!',\n",
              " \"My Chiropractor Gives it 6 stars, and he doesn't own one!\",\n",
              " 'Yep!',\n",
              " 'Good piece of Techn here!',\n",
              " 'Go for it!',\n",
              " 'Spend a little more and get something useful !!',\n",
              " 'The charging port was halfway covered by the leather!',\n",
              " 'GAME OVER!',\n",
              " 'The V330 is a real winner!',\n",
              " 'All of this is good news!',\n",
              " 'Bluetooth, I LOVE wireless headset feature!',\n",
              " 'If it did, it would get my last star!',\n",
              " 'So, I would definitely recommend it!',\n",
              " 'Comments like, \"doesn\\'t hold a charge\" or \"it doesn\\'t let you know when to recharge the batteries\" are totally false!',\n",
              " 'By turning on your phone\\'s \"auto answer\" your cell phone will ring along with a very distinct and pleasant ring from the HF unit itself and you can just start talking!',\n",
              " \"It's really cool!\",\n",
              " 'The unit lists for about 99 bucks, I purchased it on sale for $69 with free shipping -- great value!',\n",
              " '(Quite useful if you need to have a conference call from your car!',\n",
              " 'Internet, although not 3G or Wifi, will suffice!',\n",
              " 'Hope this helps others in the same boat!',\n",
              " '-One program I added for instance is basically Google Earth--in my pocket!',\n",
              " 'great then!',\n",
              " 'Great!',\n",
              " 'Ripoff!',\n",
              " 'I called ATT, activated the card, popped it in my phone and it worked great!',\n",
              " 'It just worked!',\n",
              " 'The envelope arrived in 3 days!',\n",
              " 'Cut it with the sim cutter, stick it in the iPhone and voila!',\n",
              " 'It works!',\n",
              " 'Excellent product!',\n",
              " 'Saved me $23 vs buying at the store, but had to wait for a few days for it to arrive!',\n",
              " 'So if you are not married to the cell phone, you have a deal at this site!',\n",
              " 'I just had to call my provider with the updated sim information!',\n",
              " 'Great sound quality combined with comfortable design!!!',\n",
              " 'Highly recommended!!',\n",
              " 'Great product!',\n",
              " 'Great product!',\n",
              " 'great quality headset!',\n",
              " 'First, this does create a rather odd looking mismatched pair of ears!',\n",
              " 'But I do miss my Motorola H300 using a regular battery that lasts for months!',\n",
              " \"I often forget it's on my head for hours at a time!\",\n",
              " '5 stars!',\n",
              " 'after a few months it would automatically lose signal for some darn reason!',\n",
              " \"just yesterday I noticed my iphone can't pick up the signal to this thing anymore, and I just changed a new one like 4 months ago!\",\n",
              " \"For the most part, people can't tell that I'm on a Bluetooth headset!\",\n",
              " 'The Pros: Great audio quality!',\n",
              " 'Never seen a case that not only protects but also charges!',\n",
              " 'Sent myself a voice-mail while rolling the windows up and down on the freeway without an appreciable loss of sound quality!',\n",
              " 'I am glad I did!',\n",
              " 'Overall, I am pleased and would definitely recommend this headset!',\n",
              " \"It's quite enjoyable not to have to repeat myself when transmitting - no one on receiving end has complained about poor sound quality!\",\n",
              " 'It is easy for you to hear and even more importantly the other party hears you clearly also!',\n",
              " 'Annoying to say the least and THANK YOU Amazon for being so amazing and taking both headsets back!',\n",
              " '-Fit: unlike most other headsets (especially the *terrible* jawbone series!',\n",
              " 'My God, look at the SIZE of that thing!',\n",
              " 'Great ear piece!',\n",
              " 'No one even knows I had a call coming!',\n",
              " 'They get the point pretty quickly, because they can hear the person I am talking to just about as clearly as I can!',\n",
              " \"I guess these aren't for everyone!\",\n",
              " 'In short, we think these are great!',\n",
              " 'And, it still works perfectly!',\n",
              " 'PLEASE JUST LET ME USE ONE OF THE BAZILLION mini-USB ADAPTERS I ALREADY HAVE!!!',\n",
              " 'Design:  2 stars (only because of the charging adapter!',\n",
              " 'Bought this with the unit that converts your desk phone to a bluetooth compatible headset - best buy for the money!',\n",
              " 'BUT, GIVE ME BREAK PLANTRONICS!!!',\n",
              " 'This model has been out long enough and only needs to be tweeked a little and shrunk slightly and everyone should buy it!!',\n",
              " 'I returned this headset even before I got to use it!',\n",
              " \"But I couldn't even get the original one off!\",\n",
              " 'The Plantronics 510 bluetooth actually works!!',\n",
              " \"I can't believe the price listed @ $119!!\",\n",
              " 'In comparison to the Jawbone I had the sound, mic pick up, distance is the same, but the 510 is soooooo!',\n",
              " 'After using a low-end JABRA bluetooth for the past year, this Plantronics voyager is so welcome!',\n",
              " 'Also, he said that it was too bulky for his liking, but I like it just fine!',\n",
              " \"I have had it for almost 2 months and only had to charge it once besides that first time and I use it everyday for 1-2 hours each time - that's good battery life!\",\n",
              " 'Great purchase at just over $40!!',\n",
              " \"He didn't drop it!\",\n",
              " 'The sweat; that is!',\n",
              " 'The verdict is that their customer service is exceptional!',\n",
              " 'Will update soon!',\n",
              " 'The hunt continues and Plantronics says it does not have any bluetooth headsets for the 755P!',\n",
              " 'Caveat emptor!',\n",
              " \"I'm terrible at remembering to charge these guys up!\",\n",
              " 'Once the battery dies, I use my backup headset until I charge up my favorite!',\n",
              " 'It still works!',\n",
              " '5 stars!',\n",
              " 'It still works!',\n",
              " '5 stars!',\n",
              " 'I can appreciate it that I did select free shipping (which I qualified for, and they offered to provide), but to intentionally hold my order for a week really sucked!',\n",
              " 'Especially for the price, this is a great choice!',\n",
              " 'Both were small enough that I lost or misplaced both of them!',\n",
              " \"So, it's a matter of preference when it comes to the things I disliked about it!\",\n",
              " 'The only problem is that I always forget where I put my phone!',\n",
              " 'I accidentally forgot I left it in my sweatshirt pocket and WASHED IT, and it still works!',\n",
              " \"Don't even think twice!\",\n",
              " 'Just one more reason to get this product!',\n",
              " 'DUH!!!',\n",
              " \"It's comfortable in the ear, has a mute function and works flawlessly with my PS3 and KRAZR!\",\n",
              " \"2) It's big!\",\n",
              " '3) Flashing blue light is way too bright!',\n",
              " 'When it snapped in two, I decided on the Voyager 510!',\n",
              " 'Wow, not only does it work great, but it is VERY, VERY COMFORTABLE!',\n",
              " 'So for all of you thinking of a headset, you cannot go wrong with this one!',\n",
              " 'Five stars!',\n",
              " 'I recently purchased the new model of the Voyager 510, the Voyager 520, and love it!',\n",
              " 'It still has excellent battery life of the 510 (in fact, slightly longer battery life!',\n",
              " \"I've only had it two days, but for overall performance it beats the Motorola HS820 and HS850 I had before this!\",\n",
              " 'NOW I CALL THAT SUPPORT!',\n",
              " \"i'll let you know!\",\n",
              " 'I love it!!',\n",
              " 'A Superb Product !!',\n",
              " 'Other than that this thing actually works pretty well!',\n",
              " 'Great sound, it picks up very little in the way of ambient noise, and the charge lasts forever, seemingly!',\n",
              " 'THE SAME ONE!',\n",
              " \"However, once mounted, it's pretty secure!\",\n",
              " 'I thought I lost my 510, so after reviewing all the newer units, I bought another one!',\n",
              " 'After two weeks of testing, almost everyone liked the 510 better than all the rest, so we ordered up 20 of them!',\n",
              " 'Hope this helps!',\n",
              " \"On the other end, I've not had anyone complain about being unable to hear my voice or that my voice is coming across muddled -- interestingly, I've had such complaints while using my old, corded headset!\",\n",
              " 'UPDATE January 2009/ My Voyager 510 seems to be unbreakable - after about three years of constant use and abuse, this headset survived the ultimate challenge - full washer and dryer cycle in my shirt pocket!',\n",
              " 'Amazing!',\n",
              " 'DISSAPOINTED IN PLANTRONICS!',\n",
              " 'When I then disconnect the headset and talk directly into the phone, they all say, \"That\\'s much better!',\n",
              " 'Apparently very, very tasty!',\n",
              " 'Now I have this and I love it!',\n",
              " 'Awesome!',\n",
              " \"Although this is my first bluetooth headset, I've owned several regular headsets, and even without the wires this blows all the others away!\",\n",
              " '* Range is phenomenal!',\n",
              " '* The STUPID flashing blue light!',\n",
              " 'Overall - this is a very well designed, comfortable & headset, and I love it!',\n",
              " 'I left it in the Juice store but it was right there when I went back (lucky me)!',\n",
              " 'I highly recommend it overall!',\n",
              " 'I love it!',\n",
              " 'The volume in the earpiece is so loud I had to turn it down halfway (that is a good thing!',\n",
              " 'Buy it!',\n",
              " 'The perfect headset!',\n",
              " \"I've had it for 5 months or so, and it's been great!\",\n",
              " 'You will not regret it!',\n",
              " 'Noise-Cancelling technology (must have!',\n",
              " \"With this headset, you won't be the jerk standing around yelling on a phone call (but if you are, I hope you get punched!\",\n",
              " 'This unit works!',\n",
              " 'The bad, is it can be really loud!',\n",
              " 'If you multitask frequently I definately recommend this headset!',\n",
              " '* Battery life is excellent!',\n",
              " \"That's correct, for men!\",\n",
              " 'This headset is heavier then most but the sounds quality is excellent and most importantly it can be VERY LOUD!',\n",
              " 'Definitely a good buy, especially as the price keeps dropping!',\n",
              " 'excellent!',\n",
              " 'Works great!',\n",
              " 'Good!',\n",
              " 'This phone is sharp!',\n",
              " 'Now he sporting chats allover the place!',\n",
              " \"Motorola you've done it again!\",\n",
              " 'This is a very durable charger/sync cord!',\n",
              " \"I've had it for about two weeks and it's great!\",\n",
              " 'It has a different configuration for the connection thus, I cannot use it!',\n",
              " 'So nice to be able to practice putting whenever I want!',\n",
              " 'Great basket!',\n",
              " 'Overall, a very nice headset, and the number one reason I wish mine were still functional is the Vibrate Function for incoming calls!',\n",
              " 'It works great!',\n",
              " 'Reception and battery life are great!',\n",
              " 'I LOVE IT!',\n",
              " 'Delicate!',\n",
              " \"But it's always flashing!\",\n",
              " 'I finally figured out it was the reflection of my headsets indicator light reflecting off the windows!',\n",
              " 'Bottom line is that the most important aspect of any phone is the ability to hear the person you are talking to!!!',\n",
              " \"Like the previous Motorola phones that I've had, this one has the easy intutive system for navigating its numerous menus --- I'm sold on using Motorola for this reason,  compared to the Noxxxx, Motorola is great!\",\n",
              " 'It comes in a very pretty case that will make you happy each and every time you open it!',\n",
              " 'Yeah I am a dork!',\n",
              " 'I am very pleased with it so far!',\n",
              " 'Pleased enough to come write a review!',\n",
              " 'but who cares the phone looks hot!',\n",
              " \"It's a cinch to setup (don't forget to ground!\",\n",
              " 'Matched with some good quality RCA Audio cables and man I can not believe the sound!!',\n",
              " 'He had me shut off all the DSP additives on my Harman Kardon receiver and BAM!!!',\n",
              " 'perfection!!!',\n",
              " 'The Doors Alive She Cried never sounded so good!!!!!',\n",
              " 'Rock On!!!',\n",
              " 'As typical with Amazon buys, this showed up at my doorstep nearly INSTANTANEOUSLY !!',\n",
              " 'At least, I ordered like midnight on Thursday, and it was here before noon Monday !!!!',\n",
              " 'My first record recorded like a DREAM !!!',\n",
              " 'Kudos to both companies !',\n",
              " 'That was at 1 bar!!',\n",
              " 'Yes, 1 bar!!!',\n",
              " 'DO NOT BE MISGUIDED!!!!',\n",
              " \"However, the Wilson unit continuously loses it's signal and the base unit's LED will switch from green to amber to red quite often!\",\n",
              " 'DO NOT EXPECT YOUR INDOOR RECEPTION TO BE BOOSTED THROUGHOUT YOUR ENTIRE 2500 SQ FT HOME!!',\n",
              " 'This is not to say that the Wilson is a better buy, it is not!',\n",
              " 'Thank You!',\n",
              " 'What a terrific phone Motorola developed!!!!',\n",
              " 'Cell Phone is great!',\n",
              " 'DONT LET THE NICE LOOK DECEIVE YOU!!!',\n",
              " 'To put it simply the V3 looks great!',\n",
              " 'My friends all want one too!',\n",
              " 'The camera and video are wicked!',\n",
              " \"The RAZR would be the perfect phone for me, but it's too darn wide!\",\n",
              " 'Not as stylish, but so far the battery life has been great!',\n",
              " 'If they could only fix the battery problem!',\n",
              " \"But looks aren't everything!\",\n",
              " 'You can put the phone in a pocket or purse and talk totally hands free with a Bluetooth headset!',\n",
              " 'My phone in Japan (V602SH by Sharp) had an SD card, TV out, 2 megapixel camera, a huge, bright and colorful screen, plus a blindingly bright led flashlight!',\n",
              " 'Current models take even smaller mini-SD cards, or XD!',\n",
              " \"The menus are hard to navigate and I've had this phone for 4 months without knowing how to increase the volume!\",\n",
              " \"The other MAJOR gripe is that you can't have multiple phone numbers for the same person!\",\n",
              " 'Where I used to get dropped calls all the time I can now hear perfectly for as long as I want (or until the person I am talking to hangs up!',\n",
              " 'So we just terminated T-mobile service, got her a Samsung phone (SCH-A630) through Verizon and SHE IS VERY HAPPY!',\n",
              " 'Many people do that here, which annoys everyone (even the ones who are doing just that!',\n",
              " 'But oooh that LCD in bright light simply vanishes!',\n",
              " 'None of my myriad of prior chargers work with the RAZR despite being manufactured by the same company!',\n",
              " \"WHY CAN'T YOU BUY A SIMPLE CELL PHONE ANYMORE!!\",\n",
              " 'Talk about crappy and worthless addons!',\n",
              " 'Come on Moto,I still believe in you!',\n",
              " 'My Gosh, I have the volume to the MAX but I CANNNOT hear the words of people on the other end!!!!',\n",
              " 'Very nice!',\n",
              " 'This is a wonderful Shish Kabob set!',\n",
              " 'Although the roasted marshmallows I tried in the oven eventually split and fell off (only due to lack of turning), they still got that flavor that made them perfect for Smores!',\n",
              " 'Bought as gift for a superman fanatic!',\n",
              " 'I love it!',\n",
              " 'I would buy it again!',\n",
              " 'Love you Foldgers!',\n",
              " 'Worth every penny!',\n",
              " 'NO MORE BELT CLIP HOLSTERS SINCE THESE PHONES ARE SUPER NICE AND EXPENSIVE AND THERES A 95% CHANCE THAT YOU MAY NEVER RECOVER IT IF U EVER LOOSE IT!',\n",
              " 'I bought this product not knowing what I got into, but it was worth the risk!!',\n",
              " \"It's fits PERFECTLY on the Razr and it keeps it clean on both the inside and outside screens!!\",\n",
              " 'I have no complaints about it and I HIGHLY RECOMMEND that you get this if you get or already have a Razr!!!!!',\n",
              " 'But if what you need is a headset to listen to music, FANTASTIC!!!',\n",
              " 'The unit still worked!',\n",
              " 'This Plantronics headset is the third Bluetooth unit that I have used and it is by far THE BEST one out there!',\n",
              " 'I highly recommend it!',\n",
              " 'I paid a little extra there because of the counterfeit scare in the online world!',\n",
              " \"I cheaped out and I'm sorry!\",\n",
              " 'I bought the wife a Samsung WEP200 for $15 more than the Motorola H300 and the Samsung rocks!',\n",
              " 'Very annoying when not using, no pouch, NO WHERE TO PUT IT!',\n",
              " \"THIS IS THE HEADSET YOU'VE BEEN LOOKING FOR,EASY TO LINK TO YOU'RE FONE,PLENTY OF VOLUME,WE ALL KNOW THAT'S A PROBLEM,ALSO NO BACKGROUND NOISE FOR THE PARTY YOU'RE TALKING TO,IT STAYS CHARGED ALL DAY FOR ME I JUST PLUG IT IN AT NITE,I PROBABLY SPEND 4 OR 5 HOURS A DAY ON THE FONE,HAVEN'T HAD A CHARGING PROBLEM YET,NOW WHEN I SAY STAYS CHARGED ALL DAY THAT COULD BE 10 HRS OR 20 GREAT PIECE OF EQUIPEMENT!!!!!!!!!!!\",\n",
              " 'And second that Verizon has had LG remove file transfer features that forces user to pay for MIDIs and MP3 that are already on your PC, just to use up your air time (= money!',\n",
              " '  black/white Nokias!',\n",
              " '  to yourself, and charge yourself for airtime!!',\n",
              " 'There is not even a wall in the way, I could see my phone!',\n",
              " 'Used in a home system and is still going strong!!',\n",
              " 'You cannot go wrong!',\n",
              " 'Does exactly what I need it to do!',\n",
              " \"Great service and great price, I'll be buying replacement UPS batteries from them as well!\",\n",
              " \"This is definitely the best universal bracket I've used, and for an awesome price!\",\n",
              " \"I suggest getting a Pro Clip mount for your car, then a slim swivel adapter, then attach this bracket and you're all set!\",\n",
              " 'The Blackberry 8700 is wonderful!',\n",
              " 'I only wish I had discovered Blackberry sooner!',\n",
              " 'Avoid this product at all costs!',\n",
              " 'I should have remembered all the times Amazon has come to the rescue!',\n",
              " 'Highly recommended!',\n",
              " 'Its not like new as I was waiting for, but works very well!',\n",
              " 'Stylish AND works great!',\n",
              " 'I can actually hear the conversation when driving in the car!',\n",
              " 'I love it!',\n",
              " 'WATCH OUT DONT BUY!',\n",
              " 'I have a small face & small ears -- this dainty piece is perfect!',\n",
              " \"Look no further, you've found a great headset!\",\n",
              " 'BUY IT NOW!',\n",
              " \"(and no, I don't work for Motorola!!\",\n",
              " \"Unless you have a very narrow face, chances are this will happen to you and you'll blame it on the bluetooth!\",\n",
              " 'This will make a space between your cheek and the boom so people can hear you!',\n",
              " 'There was no charging light on the headset!!',\n",
              " 'Talk about being mad!!',\n",
              " 'So where is my replacement AMAZON!!!',\n",
              " 'HOW WRONG I WAS!',\n",
              " 'This has caused me to miss so many calls!',\n",
              " 'And the \"bulked packaged\" thing sounded a bit scary, but what I got was great and supposedly saved some Bucks!',\n",
              " 'However, if you are in a mall or at the check out counter, you hear the background noises better than you hear the person on the phone!',\n",
              " 'Feature-wise, the H700 is great!',\n",
              " \"and the response it always that they didn't know I was using one!\",\n",
              " 'Some people have said the boom mic touches their faces-- not the case for me, but again, it depends on your head!',\n",
              " 'I have to lift the mic boom away from my cheek and then they will say \"Ah!',\n",
              " 'Very comfortable!',\n",
              " 'This creates an air gap between the mic opening and your cheek - problem solved!',\n",
              " '5 stars if they fix the mic hole clearance problem!',\n",
              " 'I highly recommend the H700!',\n",
              " 'The H700 - Finally a good quality headset!',\n",
              " 'This thing has volume galore!',\n",
              " 'This is with a Motorola phone!',\n",
              " 'Wonderful headset!',\n",
              " 'This is my first BT headset and I needed it to work easily, hold a charge all day because I drive a lot and need to have access to customers without causing accidents!',\n",
              " \"* Lightweight:  I have had a hate / hate relationship with all wired headsets because they were a `pain in the ear'!\",\n",
              " 'I dutifully charged the unit fully then paired it with my Moto phone (easily!',\n",
              " '(If not, I will update my comments!',\n",
              " \"But the styling is very nice, including the charger, and I would rather have some people think I am trying to look `trendy' if, in the end, I am a safer driver than the rest of the morons who cannot use their turn signals because they are too busy talking on their cell phones!\",\n",
              " 'A car charger would make this absolutely perfect!',\n",
              " 'We now have 3-5 bars all over our house, deck, porch, and even garage!',\n",
              " 'Eureka!',\n",
              " \"My only regret is that we didn't get this unit a couple of years ago!!\",\n",
              " 'lo and behold!',\n",
              " 'If any of you have any advice, please let me know!',\n",
              " 'My Outlook contact list (and all of those phone numbers!',\n",
              " \"are instantly transferred into the phone's contact list- it really has revolutionized the way I organize all of my business trips!\",\n",
              " '- Internet connectivity - sure it is \"watered down\" webpages, but it does give me pitch-by-pitch updates on my favorite baseball games!',\n",
              " '- The camera is surprisingly good!',\n",
              " 'Therefore, I give a thumbs-up to the Treo 700w, but I can not wait for the next generation!',\n",
              " 'No problem!!',\n",
              " \"Sometimes it comes in clusters where I'm rebooting 3 times a day!\",\n",
              " '- Visit Palms Support Forums and educate yourself before you buy this phone!',\n",
              " 'I thought to myself \"Good Lord, I\\'m getting a piece!',\n",
              " \"I'm glad to be back home again!\",\n",
              " 'In addition to Microsoft themselves recommending 64MB of RAM and the fact that EVERY PDA and phone for the past year and a half has at LEAST 64 MB of RAM, Palm foolishly decided to go with HALF that number -- the same 32 MB of RAM that was available to users in their Treo 600 released in 2002!!!',\n",
              " 'Overall, this phone had potential but it falls DRASTICALLY short in 5 areas!',\n",
              " 'Good luck getting your exisitng programs to display properly!',\n",
              " \"They don't!\",\n",
              " 'GEEE!',\n",
              " 'Thanks so much!',\n",
              " 'You get R&D at our expense!',\n",
              " 'Ooops, there goes your storage!!!',\n",
              " '5 - AND WORST OF ALL - NOT ENOUGH RAM !!!!!!!!!!!!!!!!!!!!!',\n",
              " 'GET READY FOR (out of memory) errors galore!!!!!!',\n",
              " 'Overall, this is one of those stories of how a phone could have been great!',\n",
              " 'SURE!',\n",
              " 'SURE!',\n",
              " 'Works perfectly!',\n",
              " 'Its a 12 volt power supply for an XM radio!',\n",
              " \"I plugged it into my radio, then plugged it into my lighter and Ill be damned if it didn't work great!\",\n",
              " 'Magic!',\n",
              " 'It has worked great!!!',\n",
              " \"It fits perfectly, works perfectly and I'm thrilled!\",\n",
              " 'When I turned it on, I saw the Cingular logo and thought \"uh oh, locked phone!!',\n",
              " 'A plus is that this phone uses the same mini usb charger as my Blackberry Curve 8310 so I can just carry one charger abroad!',\n",
              " 'Hope this helps!',\n",
              " 'Ciao!',\n",
              " 'I understand Tmo locks this functionality so you have to buy ringtones from them, whatevs Tmo!',\n",
              " 'Hello: Mac, Samsung, communitcate!!',\n",
              " 'No more Samsung for me!',\n",
              " 'I took the phone out of the pocket and HORRORS!',\n",
              " \"I've had this phone for two months now and LOOOOVE IT!\",\n",
              " 'Sometimes, I even have to turn the phone volume down cos the caller comes through too loud!',\n",
              " \"Speakin' of videos, there's  a music video on this phone!\",\n",
              " 'I just gotta find out how and where to get some more!',\n",
              " \"Lemme find out I could be watchin' Duran Duran on my cell phone, whaaaaat!\",\n",
              " 'UPDATE!',\n",
              " '*) deleting messages is worse!',\n",
              " \"*) bluetooth - it's supposed to be convenient, but NO, you are always asked if you want to connect - there is no such thing as auto-connect!\",\n",
              " 'ARRRGH!',\n",
              " 'This baby is going back!',\n",
              " 'There is NO voice recognition feature!!!',\n",
              " 'I even went into a spa with one and it still worked after drying out!',\n",
              " 'Purchase a case!',\n",
              " 'This is the Razr Killer!',\n",
              " 'Not for the faint of heart!',\n",
              " 'Caveat emptor!',\n",
              " 'The only thing that kept me from returning it was that I lost the receipt and i threw away the box!',\n",
              " 'Cheap looks ok and best of all, it works!!!!',\n",
              " 'I have tried several cases and this one is the best!',\n",
              " \"It's a bit bulky but if you want to protect your investment this is a must!\",\n",
              " \"Only reason for 4 star review is that it's made in China!\",\n",
              " 'Great phone/PDA!',\n",
              " \"If you don't require a  full fledged pda phone, you cannot go wrong with this one so give it a shot!\",\n",
              " \"In fact, I've discovered numerous free hotspots around my home town that I didn't know about until I had this phone!\",\n",
              " \"I don't really care too much about quality, it's a cell phone!\",\n",
              " '* Voice dialing actually works really well!',\n",
              " \"* The keyboard - I'm glad it's qwerty, but there's got to be a better way to type in numbers!\",\n",
              " \"Arrived promptly and price couldn't be beat (compared to what it used to cost!\",\n",
              " 'No need to buy them!',\n",
              " 'After that it would sync the KRZR with my PC with no problem whatsoever!',\n",
              " \"One thing I caution is based off of reading the reviews on Motorola's site - confirm your phone can work with this before buying!\",\n",
              " 'It was extremely easy to install (the directions were very clear) and right away I was creating my own ring tones!',\n",
              " 'This will do it!',\n",
              " 'It worked great!',\n",
              " 'IF YOU HAVE MOTOROLA NEXTEL PHONE STOP!!',\n",
              " \"It even works with my wife's Verizon V3m, some tinkering was required to get the multimedia features to work on the Verizon phone (instructions were supplied my the vendor), but at the end everything works great!!\",\n",
              " \"It even works with my wife's Verizon V3m, some tinkering was required to get the multimedia features to work on the Verizon phone (instructions were supplied my the vendor), but at the end everything works great!!\",\n",
              " \"It even works with my wife's Verizon V3m, some tinkering was required to get the multimedia features to work on the Verizon phone (instructions were supplied my the vendor), but at the end everything works great!!\",\n",
              " \"It even works with my wife's Verizon V3m, some tinkering was required to get the multimedia features to work on the Verizon phone (instructions were supplied my the vendor), but at the end everything works great!!\",\n",
              " '!!!',\n",
              " 'THE ATT VERSION IS GOOD, BUT THIS IS A NO GOOD PHONE!!',\n",
              " \"But with all the other good stuff that it does have, that little detail doesn't bother me a bit!\",\n",
              " '* Social Security Number!!!!!!!!!!!!!',\n",
              " 'Contact me (matman713 at hotmail dot com) for my referral and get started with a bunch of free minutes!',\n",
              " 'What a terrific purchase!',\n",
              " 'I was so tired of constantly wiping down my screens over and over again, but this little shield truly was worth its weight in gold!',\n",
              " 'Although it seems insignificant at first, its great to have a clear scratch free, dust free screen every time I pop open my phone!',\n",
              " 'It is a MUST OWN for those who want to keep their screen staying pristine!',\n",
              " 'DANG!',\n",
              " 'If I could, I would have given no stars at all!',\n",
              " 'Very upsetting!!!',\n",
              " 'Edit: As of around mid-October, T-mobile will finally release a smartphone with (stereo!',\n",
              " 'The device lures you in!',\n",
              " 'Finally!',\n",
              " \"got this so long ago, I'm not even sure I was the one who go it!\",\n",
              " 'So I went back and ordered the Nokia OEM CA-53 USB data cable, great choice!',\n",
              " \"Like another person said, it looks OEM, but heck, it's only a cable!\",\n",
              " 'I have a Nokia 6125 (a little tricky to connect, just line it up and take your time!',\n",
              " \"If this stuff is a knock-off, they're good versions of them!\",\n",
              " 'HA WOW THANKS!',\n",
              " '5 stars, working great, and is wonderful to have this when needed!',\n",
              " 'I was happy!',\n",
              " 'Highly recommended if you need this!',\n",
              " 'I hate searching for it on the floor of my car!',\n",
              " '- send it back to the seller!!',\n",
              " \"i think it's the best!!!!!\",\n",
              " 'would get it all over again!',\n",
              " 'WHAT A MISTAKE!!',\n",
              " 'HERE ARE THE NEGATIVES IN ORDER OF ITS MOST ANNOYING OFFENCES:  1)THIS PHONE IS NOT USER FRIENDLY!',\n",
              " 'YOU HAVE BEEN WARNED!!!',\n",
              " 'DONT BUY IT!!!',\n",
              " 'Looking at the screen I could see the time, owner information, how much mail I have in the four Email addresses I have, Active Tasks, Calendar information, and MSN information with room to spare!',\n",
              " \"But this version of Windows Mobile is wonderful and has finally convinced me to switch over to Microsoft's OS!!\",\n",
              " '1)  Battery life!!!',\n",
              " 'You have to go through at least 4 steps to dial Speed-Dial numbers on this phone!',\n",
              " 'I have returned my phone(s) yes, plural!!',\n",
              " 'Wow, what a difference!',\n",
              " 'How wrong I was!',\n",
              " \"My wife had this phone for a few days, then all of a sudden, we couldn't get past the 'Verizon screen'!\",\n",
              " 'Apparently, judging from other negative reviews online, Verizon is having some issues with some of these phones!',\n",
              " \"The CallerID with picture is a nice touch, but it doesn't fill the screen!\",\n",
              " \"I don't think I could have picked a better phone!\",\n",
              " 'If you are looking for a great Slider, or want to try a new company because you had a bad experience with someone else (like Motorola for instance), this is a WONDERFUL phone!',\n",
              " 'This phone is $170 in cingular stores!',\n",
              " \"Normally, I like small but the dial pad is so small that I can barely press the keys and I've small fingers!\",\n",
              " 'great product!',\n",
              " 'A couple of years ago, I switched to an iPhone (love Apple!',\n",
              " 'After three weeks, I wanted to take my phone with me somewhere and found that my battery started holding a charge for a full three weeks again!',\n",
              " \"That was a year ago and it still holds it's charge for two to three weeks at a time!\",\n",
              " 'I wanted a phone that had good clear connections and had MAN-BUTTONS!',\n",
              " \"I recommend these to all my realtor friends who do extensive telemarketing and they're happy with this as well as with the other Plantronic products!\",\n",
              " 'Go buy one!',\n",
              " 'It works great!',\n",
              " 'It is a very good device though!',\n",
              " 'I highly recommend it!',\n",
              " 'BIG MISTAKE!!!',\n",
              " 'It did not ship until Oct 26th!',\n",
              " 'When I saw the ear hook, I was like WHAT!',\n",
              " 'This is a flimsy piece of cr@p!',\n",
              " 'Then to my utter AMAZEMENT!',\n",
              " 'YOU HAVE TO TAKE IT OFF TO CHARGE THE DUMB THING!',\n",
              " 'IT BROKE!',\n",
              " 'Big surprise!',\n",
              " 'It was about an hour phone call, but gee whiz!',\n",
              " 'LOL!',\n",
              " 'This little thing works great!',\n",
              " 'I really like this inexpensive lightweight bluetooth headset!',\n",
              " 'I love it that this was only $18!!!',\n",
              " \"Can't beat that price!\",\n",
              " \"But, don't say I (we!\",\n",
              " \"didn't warn you!\",\n",
              " \"The Samsung WEP200 Bluetooth Wireless Headset arrived promptly, and I was very pleased to discover that it's the GENUINE article !!\",\n",
              " 'Get one of these as an excellent saftey feature for use during your driving commute !!',\n",
              " 'I highy recommend it!',\n",
              " 'AWESOME!',\n",
              " 'It works great with the phone and he his pleased with it which might not seem too impressive but this is a very picky person!',\n",
              " 'I really would recomend this product!',\n",
              " 'I highly recommend it!',\n",
              " '1) Size - Unit is super tiny!',\n",
              " '\"Hang on a second!',\n",
              " 'I need to find the headset!!!',\n",
              " 'This trouble is well worth the superior size and sound quality of this pproduct!',\n",
              " \"i am giving it a 4 because it won't work with my phone!\",\n",
              " 'I just love it to death!!!',\n",
              " 'I LOVE this item!!',\n",
              " 'Makes it much easier to carry the Bluetooth - THANKS!',\n",
              " 'Get with it, Motorola!!!',\n",
              " 'Much cheaper that replacing bluetooth units!',\n",
              " 'Works great!',\n",
              " 'AVOID!!!!!',\n",
              " \"Occasionally it dials the phone on accident but it doesn't happen as much as it did without it!\",\n",
              " 'You could also call that a design flaw in the headset, but either way you should get the combination of this case with that headset!',\n",
              " 'As a stereo headset, these have NO range, but they are better than nothing (try finding anything with the mini usb connector!',\n",
              " 'If there is a magic trick to shielding these things short of a lead encasement, I would LOVE to know it!',\n",
              " 'nokia is louder!',\n",
              " 'BUT!!',\n",
              " 'IT IS uncomfortable!',\n",
              " \"I've tried out several bluetooth headsets, and the Nokia BH-900 wins for my needs, hands down!\",\n",
              " 'The headset doesn\\'t need to be put in \"discovery\" mode, just turn it on, and have your phone \"search\", and it\\'ll show up!',\n",
              " 'LCD also blinks green when the headset is turned on but not connected to your phone, then blinks blue when linked to your phone!',\n",
              " 'Overall, an excellent headset!',\n",
              " 'very big and uncomfortable!',\n",
              " 'So I have to returned and now wait for my refund!!!',\n",
              " \"SUPER DUPER GREAT PRODUCT, GO FOR GOLD, YOU'RE IN IT TO WIN THIS IS IT AND DO IT WELL BUY THIS ITEM!\",\n",
              " '19 WORDS TO FILL THE REVIEW WOOT!',\n",
              " 'WOOT!',\n",
              " 'Another Pro about this item is that it is easily interchangeable between left and right ear, so if you get tired of having it on one side during a long drive, you could easily flip it to the other side quickly (even while in the middle of a conversation!',\n",
              " \"DON'T PUT IT IN YOUR POCKET WHEN THE HEADSET IS ON!\",\n",
              " 'I wish they would recess the ON/OFF buttons to avoid this!',\n",
              " 'Hope this helps!',\n",
              " 'Love this headset!',\n",
              " \"I'm happy!\",\n",
              " \"I'm very very satisfied (and relieved!\",\n",
              " 'Easy to install and it works!!!',\n",
              " 'No glue--all stitched!!',\n",
              " 'And so beautiful, it was hard to choose!!!',\n",
              " \"I just bought another one, because I just couldn't stop thinking about it!\",\n",
              " 'Perfect fit every time, every phone!',\n",
              " 'If you want to pay a fraction of the price, go no further!!',\n",
              " 'Recommended!!!!',\n",
              " 'got this case when I bought my GNote and I must say it looked sexy and great!',\n",
              " 'then I got a leather case to replace it!',\n",
              " 'but for the price the quality is great, and looks even better!',\n",
              " \"If you want a simple, affordable skin that will protect from bumps and bruises without much added bulk, for the price of a large Starbucks latte' you can't beat this one!\",\n",
              " \"It's standard protection, nothing more!!\",\n",
              " \"Love this skin, it's slim and light, but protects the phone very well!\",\n",
              " 'I dropped it already few times, but phone survived with no problems, still looks like brand new!',\n",
              " 'Like all the other reviews, this case is great!',\n",
              " 'This product works great!',\n",
              " 'FORGET ABOUT IT!',\n",
              " \"If you've recently bought the phone and are still within the return window, RETURN IT!\",\n",
              " 'MAGIC!!',\n",
              " 'pretty good!',\n",
              " 'This was just too good to be true!',\n",
              " 'Now that made sense!',\n",
              " 'Built like a Hummer!',\n",
              " 'I already have it on!',\n",
              " 'Earns a comfortable 5 stars!',\n",
              " \"I've gotten the same sound quality out of this $20something headset as I did from the $140+ Jawbone and $160+ Sennheiser!\",\n",
              " 'Other than the slightly large size and look of it, its a great headset!',\n",
              " 'I like the Plantronics brand because the sound is always great!',\n",
              " \"Don't waste your time and money!\",\n",
              " 'After going through a few headsets that were loose fitting and would feel like they are falling off, the 640E is a perfect fit!',\n",
              " \"It also didn't give very good tactile feedback when you tried to increase/decrease the sound!\",\n",
              " \"(At least I haven't figured out how to do it!\",\n",
              " 'This one takes a bit of getting used to!',\n",
              " 'At a cost of less than $20, that means this unit will cost you barely $1 per month, as opposed to $10-15 per month for some of the designer headsets!',\n",
              " 'I was very happy with the product I purchased from amazon, I got what I wanted for about 1/4 of the retail price!',\n",
              " 'I could have bought a 520 for $2 more but chose not to because of the SWIVEL!',\n",
              " 'Positives: very comfortable - I forget I have it on; fairly discreet looking; battery life is very good; hooks up to my phone (Treo 700p) seamlessly - I very rarely have to pair it up again; I can hear very well, even in my noisy diesel pickup!',\n",
              " \"Camera - It's pretty great!\",\n",
              " 'Phonebook - Good!',\n",
              " 'Overall, for the price you pay, it would be extremely tough to beat this headset!',\n",
              " 'My headset also split along the plastic seem and had to be glued back together - the scala 500 I had went through a washer and dryer and still worked!',\n",
              " \"They're both very comfortable (I keep mine on the whole day at work), look very nice - and yet - mine is 20$ cheaper!\",\n",
              " 'Overall I will never purchase from mobilecityonline again!',\n",
              " 'Merry Christmas!',\n",
              " 'When I opened the packaged and first put it in my ear, I thought \"oh no - they were right!',\n",
              " 'But I then read the manual and after adjusting the \"ear loop\" and angling the headset slightly downward, it fit perfectly into my ear!',\n",
              " 'In other words buy it!!!!!!!!!',\n",
              " 'Just amazing!',\n",
              " 'When I first used it, I thought this one is going back to where it came from!',\n",
              " 'Enjoy!',\n",
              " \"Update #2: This battery lasts forever - very impressed - and you really forget you're wearing this thing - it's that small and light!\",\n",
              " 'This mirror screen protector is kind of neat!',\n",
              " 'It still is a relatively good fit though, and in conjunction with a case, it looks and feels great!',\n",
              " 'For $29 including $5 in calls, what a DEAL!',\n",
              " \"Went on another trip to Mexico hoping it might work (eventho' info indicated it wouldn't and it it didn't!\",\n",
              " 'You will feel compelled to purchase additional \"wallpaper\" for an additional $2, because what comes on the phone as standard fare is ugly!',\n",
              " 'I like this phone, really!',\n",
              " 'Amazing!',\n",
              " 'Everything works great!',\n",
              " 'I love this Product!',\n",
              " 'Will order again!',\n",
              " 'Thx seller!',\n",
              " 'I Love it!',\n",
              " \"It's the Best!\",\n",
              " 'This product works great!',\n",
              " 'Thats why I bought a second!',\n",
              " 'There are more reliable products available for about the same price !',\n",
              " 'Slim case!',\n",
              " 'This kindle is for my 9 year old so I want all the protection I can get!',\n",
              " 'BlackBerry is with me for good!',\n",
              " 'Unacceptable!!',\n",
              " \"I'm a veteran Mac user & I was able to transfer all my Entourage data (calendar, notes, ToDos, addresses:) without a hitch using the software included on the CD - syncing is a snap!\",\n",
              " \"I'm off to MacWorld Expo tomorrow but no iPhone for me!\",\n",
              " 'But I was pleasantly surprised!',\n",
              " 'I LOVE IT!!',\n",
              " ...]"
            ]
          },
          "execution_count": 16,
          "metadata": {},
          "output_type": "execute_result"
        }
      ],
      "source": [
        "sent_found['exclamation']"
      ]
    },
    {
      "cell_type": "markdown",
      "metadata": {
        "id": "lXQr-kJfmaPp"
      },
      "source": [
        "### Assignment 2"
      ]
    },
    {
      "cell_type": "markdown",
      "metadata": {
        "id": "hdg-vFknVnSp"
      },
      "source": [
        "### The preprocessing steps suggested for the dataset is as follows\n",
        "* Removing stopwords\n",
        "* Removing digits\n",
        "* Stemming(?)\n",
        "* Casefolding"
      ]
    },
    {
      "cell_type": "code",
      "source": [
        "import contractions"
      ],
      "metadata": {
        "id": "l18y1T7iIMZa"
      },
      "execution_count": 85,
      "outputs": []
    },
    {
      "cell_type": "code",
      "execution_count": 86,
      "metadata": {
        "id": "MslZf_w-PZUw"
      },
      "outputs": [],
      "source": [
        "freq_dict = {}\n",
        "stop_words = set(stopwords.words(\"english\"))\n",
        "# stemmer = PorterStemmer()\n",
        "tokenizer = RegexpTokenizer(r'\\w+')\n",
        "count = 0\n",
        "for review in reviews:\n",
        "  review = contractions.fix(review)\n",
        "  review = re.sub(r'[0-9]', '', review) #Removing the digits from the corpus\n",
        "  tokenized_word = tokenizer.tokenize(review) # Removing punctuation from the corpus\n",
        "  # tokenized_word = word_tokenize(review)\n",
        "  count += 1\n",
        "  for word in tokenized_word:\n",
        "    word = word.lower()\n",
        "    #word = stemmer.stem(word)\n",
        "    if word in stop_words:   # Removing the stopwords from the corpus\n",
        "      continue\n",
        "    if word in freq_dict and not None:\n",
        "      freq_dict[word] += 1\n",
        "    else:\n",
        "      freq_dict[word] = 1\n",
        "  if count >= 1127672:\n",
        "    break"
      ]
    },
    {
      "cell_type": "code",
      "execution_count": 87,
      "metadata": {
        "id": "KZB3hfqXIWJH"
      },
      "outputs": [],
      "source": [
        "freq_dict = dict(sorted(freq_dict.items(), key=lambda item: item[1],reverse=True))\n"
      ]
    },
    {
      "cell_type": "markdown",
      "metadata": {
        "id": "mqEFtCQpVnSp"
      },
      "source": [
        "### The dictionary for frequency of the words"
      ]
    },
    {
      "cell_type": "code",
      "execution_count": 88,
      "metadata": {
        "id": "mXYS13ZnVnSp",
        "outputId": "3441017b-5627-427b-986e-e5c76be3c47d",
        "colab": {
          "base_uri": "https://localhost:8080/"
        }
      },
      "outputs": [
        {
          "output_type": "execute_result",
          "data": {
            "text/plain": [
              "118632"
            ]
          },
          "metadata": {},
          "execution_count": 88
        }
      ],
      "source": [
        "len(freq_dict.keys())"
      ]
    },
    {
      "cell_type": "code",
      "execution_count": 89,
      "metadata": {
        "id": "RRHdugFZVnSq"
      },
      "outputs": [],
      "source": [
        "list_freq_dict_values = list(freq_dict.values())\n",
        "total = sum(list_freq_dict_values)"
      ]
    },
    {
      "cell_type": "code",
      "execution_count": 90,
      "metadata": {
        "id": "JLJ2rpaQVnSq",
        "outputId": "4c6ea850-08a6-4d1a-b7f8-64fd6a35ad04",
        "colab": {
          "base_uri": "https://localhost:8080/"
        }
      },
      "outputs": [
        {
          "output_type": "execute_result",
          "data": {
            "text/plain": [
              "0.9744419718119901"
            ]
          },
          "metadata": {},
          "execution_count": 90
        }
      ],
      "source": [
        "(1156/118632)*100"
      ]
    },
    {
      "cell_type": "markdown",
      "metadata": {
        "id": "AaDakmDcVnSr"
      },
      "source": [
        "### Pareto rule is applicable here since less than one percent of the words account for $80\\%$ occurance of the words."
      ]
    },
    {
      "cell_type": "code",
      "execution_count": 91,
      "metadata": {
        "id": "IPwLLIwyVnSr",
        "outputId": "1bd771dd-17c3-44f3-d5a3-91be63f720e8",
        "colab": {
          "base_uri": "https://localhost:8080/"
        }
      },
      "outputs": [
        {
          "output_type": "execute_result",
          "data": {
            "text/plain": [
              "0.8023511638162296"
            ]
          },
          "metadata": {},
          "execution_count": 91
        }
      ],
      "source": [
        "list_freq_dict_values_ratio = [i/total for i in list_freq_dict_values]\n",
        "value = sum(list_freq_dict_values_ratio[:1156])\n",
        "value"
      ]
    },
    {
      "cell_type": "markdown",
      "metadata": {
        "id": "Xq125bxfVnSr"
      },
      "source": [
        "#### Vocabulary of corpus"
      ]
    },
    {
      "cell_type": "markdown",
      "source": [
        "### Total number of words without truncation"
      ],
      "metadata": {
        "id": "rERok3S1Kpld"
      }
    },
    {
      "cell_type": "code",
      "execution_count": 92,
      "metadata": {
        "id": "pgPeWcftVnSr",
        "outputId": "36316ae9-2f26-4fea-c6d4-8094a849426d",
        "colab": {
          "base_uri": "https://localhost:8080/"
        }
      },
      "outputs": [
        {
          "output_type": "execute_result",
          "data": {
            "text/plain": [
              "118632"
            ]
          },
          "metadata": {},
          "execution_count": 92
        }
      ],
      "source": [
        "len(freq_dict.keys())"
      ]
    },
    {
      "cell_type": "code",
      "execution_count": 81,
      "metadata": {
        "id": "ZBCsvWgTVnSr"
      },
      "outputs": [],
      "source": [
        "# list(freq_dict.keys())"
      ]
    },
    {
      "cell_type": "markdown",
      "source": [
        "### Removing the words with frequency lower than $(k=99)$"
      ],
      "metadata": {
        "id": "S9Hwbqw5KVKb"
      }
    },
    {
      "cell_type": "code",
      "source": [
        "relevant_occurances = [(key,value) for (key,value) in freq_dict.items() if value>=99]"
      ],
      "metadata": {
        "id": "M1wIjvvRIrmP"
      },
      "execution_count": 93,
      "outputs": []
    },
    {
      "cell_type": "code",
      "source": [
        "relevant_occurances[:20]"
      ],
      "metadata": {
        "colab": {
          "base_uri": "https://localhost:8080/"
        },
        "id": "Dtp0oD7bJJL_",
        "outputId": "29f01c43-98f3-4a69-c96d-090d9639b925"
      },
      "execution_count": 94,
      "outputs": [
        {
          "output_type": "execute_result",
          "data": {
            "text/plain": [
              "[('phone', 707625),\n",
              " ('case', 641995),\n",
              " ('great', 329632),\n",
              " ('one', 280478),\n",
              " ('screen', 271854),\n",
              " ('good', 257064),\n",
              " ('like', 243743),\n",
              " ('would', 211492),\n",
              " ('product', 196467),\n",
              " ('well', 194075),\n",
              " ('use', 179900),\n",
              " ('love', 145685),\n",
              " ('works', 142888),\n",
              " ('get', 141151),\n",
              " ('nice', 134117),\n",
              " ('iphone', 131957),\n",
              " ('really', 130623),\n",
              " ('protector', 127554),\n",
              " ('battery', 120104),\n",
              " ('charge', 117485)]"
            ]
          },
          "metadata": {},
          "execution_count": 94
        }
      ]
    }
  ],
  "metadata": {
    "colab": {
      "collapsed_sections": [],
      "provenance": [],
      "include_colab_link": true
    },
    "interpreter": {
      "hash": "dcb03482c70462c62b57536d38c2f1036ee427d80d688534f4d85e8ca7d04a76"
    },
    "kernelspec": {
      "display_name": "Python 3.9.12 ('ml')",
      "language": "python",
      "name": "python3"
    },
    "language_info": {
      "codemirror_mode": {
        "name": "ipython",
        "version": 3
      },
      "file_extension": ".py",
      "mimetype": "text/x-python",
      "name": "python",
      "nbconvert_exporter": "python",
      "pygments_lexer": "ipython3",
      "version": "3.9.12"
    },
    "orig_nbformat": 4
  },
  "nbformat": 4,
  "nbformat_minor": 0
}