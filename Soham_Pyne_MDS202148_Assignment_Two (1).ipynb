{
  "cells": [
    {
      "cell_type": "markdown",
      "metadata": {
        "id": "u8uAAu10z0-2"
      },
      "source": [
        "## Variational Autoencoder on Fashion MNIST dataset"
      ]
    },
    {
      "cell_type": "markdown",
      "metadata": {
        "id": "eBbqWQJGz0-3"
      },
      "source": [
        "#### Necessary libraries"
      ]
    },
    {
      "cell_type": "code",
      "execution_count": 13,
      "metadata": {
        "id": "fWacwQvBz0-4"
      },
      "outputs": [],
      "source": [
        "import pandas as pd\n",
        "import matplotlib.pyplot as plt\n",
        "import numpy as np\n",
        "import torch\n",
        "import torchvision\n",
        "import torch.nn.functional as fun\n",
        "import torch.nn as nn \n",
        "import torch.utils.data\n",
        "from torchvision import datasets\n",
        "from torch.utils.data import DataLoader\n",
        "from torchvision import transforms"
      ]
    },
    {
      "cell_type": "code",
      "execution_count": 14,
      "metadata": {
        "colab": {
          "base_uri": "https://localhost:8080/"
        },
        "id": "6uokj2Odz0-4",
        "outputId": "eead7ebc-ba25-45ad-f02d-a5025afc3787"
      },
      "outputs": [
        {
          "name": "stdout",
          "output_type": "stream",
          "text": [
            "cuda:0\n"
          ]
        }
      ],
      "source": [
        "device = torch.device(\"cuda:0\" if torch.cuda.is_available() else \"cpu\")\n",
        "print(device)"
      ]
    },
    {
      "cell_type": "code",
      "execution_count": 27,
      "metadata": {
        "id": "8ytl86Euz0-5"
      },
      "outputs": [],
      "source": [
        "# Convert vector to image\n",
        "def to_img(x):\n",
        "    x = 0.5 * (x + 1)\n",
        "    x = x.view(x.size(0), 28, 28)\n",
        "    return x\n",
        "\n",
        "\n",
        "# Display images, n=max number of images to show\n",
        "def display_images(in_raw, out_raw, n=1):\n",
        "    out_raw = out_raw[:n]\n",
        "    if in_raw is not None:\n",
        "        in_raw = in_raw[:n]\n",
        "        in_pic = to_img(in_raw.cpu().data).view(-1, 28, 28)  \n",
        "        plt.figure(figsize=(18, 6))\n",
        "        for i in range(n):\n",
        "            plt.subplot(1,n,i+1)\n",
        "            plt.imshow(in_pic[i])\n",
        "            plt.title('Input image')\n",
        "            plt.axis('off')\n",
        "    out_pic = to_img(out_raw.cpu().data).view(-1, 28, 28)\n",
        "    plt.figure(figsize=(18, 6))\n",
        "    for i in range(n):\n",
        "        plt.subplot(1,n,i+1)\n",
        "        plt.imshow(out_pic[i])\n",
        "        plt.title('Output image')\n",
        "        plt.axis('off')\n",
        "    plt.show()"
      ]
    },
    {
      "cell_type": "code",
      "execution_count": 16,
      "metadata": {
        "id": "4tZV3Vj-KNZF"
      },
      "outputs": [],
      "source": [
        "def isprime(num):\n",
        "    if num> 1:  \n",
        "        for n in range(2,num):  \n",
        "            if (num % n) == 0:  \n",
        "                return False\n",
        "        return True\n",
        "    else:\n",
        "        return False"
      ]
    },
    {
      "cell_type": "markdown",
      "metadata": {
        "id": "pi9_oT5Bz0-6"
      },
      "source": [
        "#### Making a dataloader class"
      ]
    },
    {
      "cell_type": "code",
      "execution_count": 17,
      "metadata": {
        "id": "q6-PZACez0-6"
      },
      "outputs": [],
      "source": [
        "# Define data loading step\n",
        "\n",
        "img_transform = transforms.Compose([\n",
        "    transforms.ToTensor(),\n",
        "    transforms.Normalize((0.5,), (0.5,))\n",
        "])\n",
        "\n",
        "train_loader = torch.utils.data.DataLoader(\n",
        "    datasets.FashionMNIST('../data', train=True, download=True, transform=img_transform),\n",
        "    batch_size=256, shuffle=True)\n",
        "\n",
        "test_loader = torch.utils.data.DataLoader(\n",
        "    datasets.FashionMNIST('../data', train=False, transform=img_transform),\n",
        "    batch_size=32, shuffle=True)"
      ]
    },
    {
      "cell_type": "markdown",
      "metadata": {
        "id": "Yai_SUnrz0-6"
      },
      "source": [
        "#### Loss function"
      ]
    },
    {
      "cell_type": "code",
      "execution_count": 18,
      "metadata": {
        "id": "tK0w7vn1z0-6"
      },
      "outputs": [],
      "source": [
        "def loss_function(x_hat, x, mu, logvar, beta=1):\n",
        "    #recon_loss = nn.functional.binary_cross_entropy(\n",
        "    recon_loss = nn.functional.mse_loss(\n",
        "        x_hat, x.view(-1, 784), reduction='sum'\n",
        "    )\n",
        "    KLD = 0.5 * torch.sum(logvar.exp() - logvar - 1 + mu.pow(2))\n",
        "\n",
        "    return recon_loss + beta * KLD"
      ]
    },
    {
      "cell_type": "markdown",
      "metadata": {
        "id": "jZZWSsiIz0-6"
      },
      "source": [
        "#### Code for VAE"
      ]
    },
    {
      "cell_type": "code",
      "execution_count": 19,
      "metadata": {
        "id": "hQEslBsSz0-6"
      },
      "outputs": [],
      "source": [
        "class VAE(nn.Module):\n",
        "    def __init__(self, d=50):\n",
        "        super().__init__()\n",
        "        self.d = d #latent dimension\n",
        "        \n",
        "        self.encoder = nn.Sequential(\n",
        "            nn.Linear(784, d ** 2),\n",
        "            nn.ReLU(),\n",
        "            nn.Linear(d ** 2, d * 2) # we have mean and variance, each is d-dim vector\n",
        "        )\n",
        "\n",
        "        self.decoder = nn.Sequential(\n",
        "            nn.Linear(d, d ** 2),\n",
        "            nn.ReLU(),\n",
        "            nn.Linear(d ** 2, 784),\n",
        "            nn.Tanh()\n",
        "        )\n",
        "\n",
        "    def sampler(self, mu, logvar):\n",
        "        if self.training:\n",
        "            std = logvar.mul(0.5).exp_()\n",
        "            eps = std.new_empty(std.size()).normal_()\n",
        "            return eps.mul_(std).add_(mu)\n",
        "        else:\n",
        "            return mu\n",
        "\n",
        "    def forward(self, x):\n",
        "        mu_logvar = self.encoder(x.view(-1, 784)).view(-1, 2, self.d)\n",
        "        mu = mu_logvar[:, 0, :]\n",
        "        logvar = mu_logvar[:, 1, :]\n",
        "        z = self.sampler(mu, logvar)\n",
        "        return self.decoder(z), mu, logvar\n",
        "    \n",
        "    def generate(self, N=10):\n",
        "        z = torch.randn((N, self.d)).to(device)\n",
        "        gen_img = self.decoder(z)\n",
        "        return gen_img"
      ]
    },
    {
      "cell_type": "markdown",
      "metadata": {
        "id": "nqJAeu_az0-7"
      },
      "source": [
        "#### Training the VAE"
      ]
    },
    {
      "cell_type": "code",
      "execution_count": 20,
      "metadata": {
        "id": "6YvA2ShwC0Ll"
      },
      "outputs": [],
      "source": [
        "latent_dim=50\n",
        "model = VAE(latent_dim).to(device)\n",
        "codes = dict(mu=list(), logσ2=list(), y=list())\n",
        "# Setting the optimiser\n",
        "epochs = 18"
      ]
    },
    {
      "cell_type": "code",
      "execution_count": 21,
      "metadata": {
        "id": "z_WLHeKAC6ZC"
      },
      "outputs": [],
      "source": [
        "def train(model):\n",
        "  learning_rate = 1e-3\n",
        "  optimizer = torch.optim.Adam(model.parameters(),lr=learning_rate,)\n",
        "  for epoch in range(0, epochs + 1):\n",
        "    # Training\n",
        "    if epoch > 0:  # test untrained net first\n",
        "        model.train()\n",
        "        train_loss = 0\n",
        "        for x, _ in train_loader:\n",
        "            x = x.to(device)\n",
        "            # ===================forward=====================\n",
        "            x_hat, mu, logvar = model(x)\n",
        "            loss = loss_function(x_hat, x, mu, logvar)\n",
        "            train_loss += loss.item()\n",
        "            # ===================backward====================\n",
        "            optimizer.zero_grad()\n",
        "            loss.backward()\n",
        "            optimizer.step()\n",
        "        # ===================log========================\n",
        "        if isprime(epoch):\n",
        "          print(f'====> Epoch: {epoch} Average loss: {train_loss / len(train_loader.dataset):.4f}')"
      ]
    },
    {
      "cell_type": "code",
      "execution_count": 22,
      "metadata": {
        "id": "Dwgq7V75Fmy9"
      },
      "outputs": [],
      "source": [
        "def test(model):\n",
        "  means, logvars, labels = list(), list(), list()\n",
        "  with torch.no_grad():\n",
        "      model.eval()\n",
        "      test_loss = 0\n",
        "      for x, y in test_loader:\n",
        "          x = x.to(device)\n",
        "            # ===================forward=====================\n",
        "          x_hat, mu, logvar = model(x)\n",
        "          test_loss += loss_function(x_hat, x, mu, logvar).item()\n",
        "            # =====================log=======================\n",
        "          means.append(mu.detach())\n",
        "          logvars.append(logvar.detach())\n",
        "          labels.append(y.detach())\n",
        "    # ===================log========================\n",
        "  codes['mu'].append(torch.cat(means))\n",
        "  codes['logσ2'].append(torch.cat(logvars))\n",
        "  codes['y'].append(torch.cat(labels))\n",
        "  test_loss /= len(test_loader.dataset)\n",
        "  print(f'====> Test set loss: {test_loss:.4f}')\n",
        "  display_images(x, x_hat, 5)\n",
        "\n",
        "  \n"
      ]
    },
    {
      "cell_type": "code",
      "execution_count": 24,
      "metadata": {
        "colab": {
          "base_uri": "https://localhost:8080/"
        },
        "id": "xlpjXWWjG86U",
        "outputId": "00fcfa8c-47ce-49ad-8775-d4e9bca34049"
      },
      "outputs": [
        {
          "name": "stdout",
          "output_type": "stream",
          "text": [
            "====> Epoch: 2 Average loss: 60.0792\n",
            "====> Epoch: 3 Average loss: 59.8119\n",
            "====> Epoch: 5 Average loss: 59.4745\n",
            "====> Epoch: 7 Average loss: 59.0931\n",
            "====> Epoch: 11 Average loss: 58.5861\n",
            "====> Epoch: 13 Average loss: 58.4123\n",
            "====> Epoch: 17 Average loss: 57.9701\n"
          ]
        }
      ],
      "source": [
        "train(model)"
      ]
    },
    {
      "cell_type": "markdown",
      "metadata": {
        "id": "BY9xY6hlqRn-"
      },
      "source": [
        "### Generating five random samples from latent space"
      ]
    },
    {
      "cell_type": "code",
      "execution_count": 28,
      "metadata": {
        "colab": {
          "base_uri": "https://localhost:8080/",
          "height": 441
        },
        "id": "WUVS_1MQJrC4",
        "outputId": "90449128-0e83-47a8-86bc-055422eb3539"
      },
      "outputs": [
        {
          "name": "stdout",
          "output_type": "stream",
          "text": [
            "====> Test set loss: 52.9609\n"
          ]
        },
        {
          "data": {
            "image/png": "[encoded data removed]",
            "text/plain": [
              "<Figure size 1296x432 with 5 Axes>"
            ]
          },
          "metadata": {
            "needs_background": "light"
          },
          "output_type": "display_data"
        },
        {
          "data": {
            "image/png": "[encoded data removed]",
            "text/plain": [
              "<Figure size 1296x432 with 5 Axes>"
            ]
          },
          "metadata": {
            "needs_background": "light"
          },
          "output_type": "display_data"
        }
      ],
      "source": [
        "test(model)"
      ]
    },
    {
      "cell_type": "markdown",
      "metadata": {
        "id": "MXrPJSqELxkc"
      },
      "source": [
        "### Interpolating between images"
      ]
    },
    {
      "cell_type": "code",
      "execution_count": null,
      "metadata": {
        "id": "QALo0NRfLws7"
      },
      "outputs": [],
      "source": [
        "x, _ = next(iter(test_loader))\n",
        "x = x.to(device)\n",
        "x_hat, mu, logvar = model(x)"
      ]
    },
    {
      "cell_type": "markdown",
      "metadata": {
        "id": "rrBYkMsdcaD4"
      },
      "source": [
        "### Generating k iterations of interpolations."
      ]
    },
    {
      "cell_type": "code",
      "execution_count": null,
      "metadata": {
        "colab": {
          "base_uri": "https://localhost:8080/",
          "height": 1000
        },
        "id": "5ItUWpHUcZPk",
        "outputId": "02c7337d-3096-4626-b742-0c648b88d01d"
      },
      "outputs": [
        {
          "name": "stdout",
          "output_type": "stream",
          "text": [
            "image 7 is interpolated to image 3\n"
          ]
        },
        {
          "data": {
            "image/png": "[encoded data removed]",
            "text/plain": [
              "<Figure size 1296x432 with 4 Axes>"
            ]
          },
          "metadata": {
            "needs_background": "light"
          },
          "output_type": "display_data"
        },
        {
          "name": "stdout",
          "output_type": "stream",
          "text": [
            "image 18 is interpolated to image 18\n"
          ]
        },
        {
          "data": {
            "image/png": "[encoded data removed]",
            "text/plain": [
              "<Figure size 1296x432 with 4 Axes>"
            ]
          },
          "metadata": {
            "needs_background": "light"
          },
          "output_type": "display_data"
        },
        {
          "name": "stdout",
          "output_type": "stream",
          "text": [
            "image 31 is interpolated to image 16\n"
          ]
        },
        {
          "data": {
            "image/png": "[encoded data removed]",
            "text/plain": [
              "<Figure size 1296x432 with 4 Axes>"
            ]
          },
          "metadata": {
            "needs_background": "light"
          },
          "output_type": "display_data"
        },
        {
          "name": "stdout",
          "output_type": "stream",
          "text": [
            "image 21 is interpolated to image 10\n"
          ]
        },
        {
          "data": {
            "image/png": "[encoded data removed]",
            "text/plain": [
              "<Figure size 1296x432 with 4 Axes>"
            ]
          },
          "metadata": {
            "needs_background": "light"
          },
          "output_type": "display_data"
        },
        {
          "name": "stdout",
          "output_type": "stream",
          "text": [
            "image 2 is interpolated to image 12\n"
          ]
        },
        {
          "data": {
            "image/png": "[encoded data removed]",
            "text/plain": [
              "<Figure size 1296x432 with 4 Axes>"
            ]
          },
          "metadata": {
            "needs_background": "light"
          },
          "output_type": "display_data"
        }
      ],
      "source": [
        "def interpolImg(steps,nEg):\n",
        "  N = nEg\n",
        "  for j in range(nEg):\n",
        "    code = torch.Tensor(N, latent_dim).to(device)\n",
        "    # sample = torch.Tensor(N, 28, 28).to(device)\n",
        "    A_1 = np.random.randint(32, size=1)[0]\n",
        "    B_1 = np.random.randint(32, size=1)[0]\n",
        "    print(\"image {} is interpolated to image {}\".format(A_1,B_1))\n",
        "    for i in range(N):\n",
        "      code[i] = i / (N - 1) * mu[B_1].data + (1 - i / (N - 1) ) * mu[A_1].data\n",
        "    # sample[i] = i / (N - 1) * x[B].data + (1 - i / (N - 1) ) * x[A].data\n",
        "    img_set = model.decoder(code)\n",
        "    for i in range(N//4):\n",
        "      display_images(None, img_set[i*4:4*(i+1)], 4)\n",
        "interpolImg(6,5)"
      ]
    },
    {
      "cell_type": "markdown",
      "metadata": {
        "id": "_jeMrC5Uz0_B"
      },
      "source": [
        "## GAN"
      ]
    },
    {
      "cell_type": "code",
      "execution_count": 29,
      "metadata": {
        "id": "sHPLBr4Uz0_C"
      },
      "outputs": [],
      "source": [
        "import torch\n",
        "import torch.nn as nn\n",
        "import torch.nn.functional as F\n",
        "from torch.utils.data import DataLoader\n",
        "from torchvision import datasets, transforms, models\n",
        "from torchvision.utils import make_grid\n",
        "\n",
        "from PIL import Image\n",
        "from IPython.display import display\n",
        "#import cv2\n",
        "\n",
        "\n",
        "import glob\n",
        "import os\n",
        "import random\n",
        "import numpy as np\n",
        "import pandas as pd\n",
        "import pickle as pkl\n",
        "import matplotlib.pyplot as plt \n",
        "%matplotlib inline\n",
        "import warnings\n",
        "warnings.filterwarnings('ignore')"
      ]
    },
    {
      "cell_type": "code",
      "execution_count": 30,
      "metadata": {
        "id": "XwkvRmwQz0_C"
      },
      "outputs": [],
      "source": [
        "def seed_everything(seed=1234):\n",
        "    random.seed(seed)\n",
        "    os.environ['PYTHONHASHSEED'] = str(seed)\n",
        "    np.random.seed(seed)\n",
        "    torch.manual_seed(seed)\n",
        "    torch.cuda.manual_seed(seed)\n",
        "    torch.backends.cudnn.deterministic = True\n",
        "seed_everything(42)"
      ]
    },
    {
      "cell_type": "code",
      "execution_count": 31,
      "metadata": {
        "id": "SGPRu0Puz0_C"
      },
      "outputs": [],
      "source": [
        "transform_img = transforms.Compose([\n",
        "        transforms.Resize(32),  \n",
        "        transforms.CenterCrop(32),\n",
        "        transforms.ToTensor()\n",
        "    ])\n",
        "\n",
        "batch_size = 32"
      ]
    },
    {
      "cell_type": "code",
      "execution_count": 32,
      "metadata": {
        "id": "vCVDlZrSz0_C"
      },
      "outputs": [],
      "source": [
        "def get_dataloader(batch_size, transforms):\n",
        "    \n",
        "    data_loader = torch.utils.data.DataLoader(datasets.FashionMNIST('../data', train=True, download=True, transform=transforms),batch_size=batch_size, shuffle=True)\n",
        "\n",
        "    return data_loader"
      ]
    },
    {
      "cell_type": "code",
      "execution_count": 33,
      "metadata": {
        "id": "cXN3uN67z0_C"
      },
      "outputs": [],
      "source": [
        "train_loader_GAN = get_dataloader(batch_size,transform_img)"
      ]
    },
    {
      "cell_type": "code",
      "execution_count": 34,
      "metadata": {
        "colab": {
          "base_uri": "https://localhost:8080/"
        },
        "id": "iZ7S1jMkz0_C",
        "outputId": "8f990bad-dbc4-4b13-fa04-c6aeb3115bc5"
      },
      "outputs": [
        {
          "name": "stdout",
          "output_type": "stream",
          "text": [
            "1875\n"
          ]
        }
      ],
      "source": [
        "print(len(train_loader_GAN))"
      ]
    },
    {
      "cell_type": "code",
      "execution_count": 35,
      "metadata": {
        "id": "5EI_xZ2qz0_C"
      },
      "outputs": [],
      "source": [
        "img,_ = next(iter(train_loader_GAN))"
      ]
    },
    {
      "cell_type": "code",
      "execution_count": 36,
      "metadata": {
        "id": "i2rLWIvt1smP"
      },
      "outputs": [],
      "source": [
        "def scale_images(x, max = 1.00 , min = -1.00):\n",
        "    x = x * (max - min) + min\n",
        "    return x"
      ]
    },
    {
      "cell_type": "code",
      "execution_count": 37,
      "metadata": {
        "colab": {
          "base_uri": "https://localhost:8080/"
        },
        "id": "h0lDIQhwz0_D",
        "outputId": "58782cac-03be-4ec7-c68b-9a21c11f7708"
      },
      "outputs": [
        {
          "name": "stdout",
          "output_type": "stream",
          "text": [
            "Before scaling min:  tensor(0.)\n",
            "Before scaling max:  tensor(0.9333)\n",
            "After Scaling Min:  tensor(-1.)\n",
            "After Scaling Max:  tensor(0.8667)\n"
          ]
        }
      ],
      "source": [
        "img = img[5]\n",
        "print('Before scaling min: ', img.min())\n",
        "print('Before scaling max: ', img.max())\n",
        "\n",
        "scaled_img = scale_images(img)\n",
        "\n",
        "print('After Scaling Min: ', scaled_img.min())\n",
        "print('After Scaling Max: ', scaled_img.max())"
      ]
    },
    {
      "cell_type": "markdown",
      "metadata": {
        "id": "-sQvgCpVz0_D"
      },
      "source": [
        "### Discriminator"
      ]
    },
    {
      "cell_type": "code",
      "execution_count": 38,
      "metadata": {
        "id": "i6W4qkN4z0_D"
      },
      "outputs": [],
      "source": [
        "def conv(in_channels, out_channels, kernel_size=4, stride=2, padding=1, batch_norm=True, bias = False):\n",
        "    layers = []\n",
        "    conv_layer = nn.Conv2d(in_channels=in_channels, out_channels=out_channels, \n",
        "                           kernel_size=kernel_size, stride=stride, padding=padding)\n",
        "    #appending convolutional layer\n",
        "    layers.append(conv_layer)\n",
        "    #appending batch norm layer\n",
        "    if batch_norm:\n",
        "        layers.append(nn.BatchNorm2d(out_channels))\n",
        "        \n",
        "    return nn.Sequential(*layers)"
      ]
    },
    {
      "cell_type": "code",
      "execution_count": 39,
      "metadata": {
        "id": "dhtrH2yMz0_D"
      },
      "outputs": [],
      "source": [
        "class Discriminator(nn.Module):\n",
        "    \n",
        "    def __init__(self, conv_dim):\n",
        "        \"\"\"\n",
        "        Initializing the Discriminator Module\n",
        "        :param conv_dim: The depth of the first convolutional layer based on which we will create the  next ones where next  layer depth = 2 * previous layer depth\n",
        "        \"\"\"\n",
        "        super(Discriminator, self).__init__()\n",
        "\n",
        "        # complete init function\n",
        "        self.conv_dim = conv_dim\n",
        "        \n",
        "        \n",
        "        self.conv1 = conv(1, conv_dim, batch_norm=False)  \n",
        "        self.conv2 = conv(conv_dim, conv_dim*2)           \n",
        "        self.conv3 = conv(conv_dim*2, conv_dim*4)\n",
        "        self.conv4 = conv(conv_dim*4, conv_dim*8)\n",
        "        self.fc = nn.Linear(conv_dim*4*4*2, 1)\n",
        "\n",
        "    def forward(self, x):\n",
        "        \"\"\"\n",
        "        Forward propagation of the neural network\n",
        "        :param x: The input to the neural network     \n",
        "        :return: Discriminator logits; the output of the neural network\n",
        "        \"\"\"\n",
        "        # define feedforward behavior\n",
        "        x = F.leaky_relu(self.conv1(x), 0.2)\n",
        "        x = F.leaky_relu(self.conv2(x), 0.2)\n",
        "        x = F.leaky_relu(self.conv3(x), 0.2)\n",
        "        x = F.leaky_relu(self.conv4(x), 0.2)\n",
        "        \n",
        "        x = x.view(-1, self.conv_dim*4*2*4)\n",
        "        \n",
        "        x = self.fc(x)\n",
        "        \n",
        "        \n",
        "        return x"
      ]
    },
    {
      "cell_type": "markdown",
      "metadata": {
        "id": "n1It3ww_z0_D"
      },
      "source": [
        "### Generator"
      ]
    },
    {
      "cell_type": "code",
      "execution_count": 40,
      "metadata": {
        "id": "dFkKR0F-z0_D"
      },
      "outputs": [],
      "source": [
        "def deconv(in_channels, out_channels, kernel_size=4, stride=2, padding=1, batch_norm=True, bias = False):\n",
        "    layers = []\n",
        "    \n",
        "    # append transpose conv layer -- we are not using bias terms in conv layers\n",
        "    layers.append(nn.ConvTranspose2d(in_channels, out_channels, kernel_size, stride, padding))\n",
        "    \n",
        "    # optional batch norm layer\n",
        "    if batch_norm:\n",
        "        layers.append(nn.BatchNorm2d(out_channels))\n",
        "        \n",
        "    return nn.Sequential(*layers)"
      ]
    },
    {
      "cell_type": "code",
      "execution_count": 41,
      "metadata": {
        "id": "iF9rQmekz0_D"
      },
      "outputs": [],
      "source": [
        "class Generator(nn.Module):\n",
        "    \n",
        "    def __init__(self, z_size, conv_dim):\n",
        "        \"\"\"\n",
        "        Initialize the Generator Module\n",
        "        :param z_size: The length of the input latent vector, z\n",
        "        :param conv_dim: The depth of the inputs to the *last* transpose convolutional layer\n",
        "        \"\"\"\n",
        "        super(Generator, self).__init__()\n",
        "        self.conv_dim = conv_dim\n",
        "        \n",
        "        self.fc = nn.Linear(z_size, conv_dim*4*4*4)\n",
        "        # complete init function\n",
        "        \n",
        "        self.de_conv1 = deconv(conv_dim*4, conv_dim*2)\n",
        "        self.de_conv2 = deconv(conv_dim*2, conv_dim)\n",
        "        self.de_conv3 = deconv(conv_dim, 1, 4, batch_norm=False )\n",
        "        \n",
        "        self.dropout = nn.Dropout(0.3)\n",
        "        \n",
        "        \n",
        "    def forward(self, x):\n",
        "        \"\"\"\n",
        "        Forward propagation of the neural network\n",
        "        :param x: The input to the neural network     \n",
        "        :return: A 32x32x3 Tensor image as output\n",
        "        \"\"\"\n",
        "        # define feedforward behavior\n",
        "        x = self.fc(x)\n",
        "        x = self.dropout(x)\n",
        "        \n",
        "        x = x.view(-1, self.conv_dim*4, 4, 4)\n",
        "        \n",
        "        x = F.relu(self.de_conv1(x))\n",
        "        x = F.relu(self.de_conv2(x))\n",
        "        x = self.de_conv3(x)\n",
        "        x = F.tanh(x)\n",
        "        \n",
        "        \n",
        "        return x"
      ]
    },
    {
      "cell_type": "code",
      "execution_count": 42,
      "metadata": {
        "id": "QtptYyWHz0_D"
      },
      "outputs": [],
      "source": [
        "def weights_init_normal(m):\n",
        "    \"\"\"\n",
        "    :param m: A module or layer in a network    \n",
        "    \"\"\"\n",
        "    # like `Conv`, `BatchNorm2d`, `Linear`, etc.\n",
        "    classname = m.__class__.__name__\n",
        "    \n",
        "    #  initial weights to convolutional and linear layers\n",
        "    if (classname.find('Conv') != -1 or classname.find('Linear') != -1):\n",
        "        nn.init.normal(m.weight.data, 0.0, 0.2)\n",
        "        \n",
        "    if hasattr(m, 'bias') and m.bias is not None:\n",
        "        nn.init.constant(m.bias.data, 0.0)"
      ]
    },
    {
      "cell_type": "code",
      "execution_count": 43,
      "metadata": {
        "colab": {
          "base_uri": "https://localhost:8080/"
        },
        "id": "PMIAr6Bez0_D",
        "outputId": "57519b72-8398-495b-8a19-f20539c0da76"
      },
      "outputs": [
        {
          "name": "stdout",
          "output_type": "stream",
          "text": [
            "done\n"
          ]
        }
      ],
      "source": [
        "d_conv_dim = 64\n",
        "g_conv_dim = 128\n",
        "z_size = 100\n",
        "# building discriminator and generator from the classes defined above\n",
        "discriminator = Discriminator(d_conv_dim)\n",
        "generator = Generator(z_size=z_size, conv_dim=g_conv_dim)\n",
        "\n",
        "# initialize model weights\n",
        "discriminator.apply(weights_init_normal)\n",
        "generator.apply(weights_init_normal)\n",
        "print(\"done\")"
      ]
    },
    {
      "cell_type": "code",
      "execution_count": 44,
      "metadata": {
        "colab": {
          "base_uri": "https://localhost:8080/"
        },
        "id": "2wZdXb0Vz0_E",
        "outputId": "7142ff3f-7fa3-4608-f732-dcd35b9fe26b"
      },
      "outputs": [
        {
          "name": "stdout",
          "output_type": "stream",
          "text": [
            "Discriminator(\n",
            "  (conv1): Sequential(\n",
            "    (0): Conv2d(1, 64, kernel_size=(4, 4), stride=(2, 2), padding=(1, 1))\n",
            "  )\n",
            "  (conv2): Sequential(\n",
            "    (0): Conv2d(64, 128, kernel_size=(4, 4), stride=(2, 2), padding=(1, 1))\n",
            "    (1): BatchNorm2d(128, eps=1e-05, momentum=0.1, affine=True, track_running_stats=True)\n",
            "  )\n",
            "  (conv3): Sequential(\n",
            "    (0): Conv2d(128, 256, kernel_size=(4, 4), stride=(2, 2), padding=(1, 1))\n",
            "    (1): BatchNorm2d(256, eps=1e-05, momentum=0.1, affine=True, track_running_stats=True)\n",
            "  )\n",
            "  (conv4): Sequential(\n",
            "    (0): Conv2d(256, 512, kernel_size=(4, 4), stride=(2, 2), padding=(1, 1))\n",
            "    (1): BatchNorm2d(512, eps=1e-05, momentum=0.1, affine=True, track_running_stats=True)\n",
            "  )\n",
            "  (fc): Linear(in_features=2048, out_features=1, bias=True)\n",
            ")\n"
          ]
        }
      ],
      "source": [
        "print(discriminator)"
      ]
    },
    {
      "cell_type": "code",
      "execution_count": 45,
      "metadata": {
        "colab": {
          "base_uri": "https://localhost:8080/"
        },
        "id": "w8jZN4Xqz0_E",
        "outputId": "2d25c38b-b078-4c77-8588-6b63ba6fa225"
      },
      "outputs": [
        {
          "name": "stdout",
          "output_type": "stream",
          "text": [
            "Generator(\n",
            "  (fc): Linear(in_features=100, out_features=8192, bias=True)\n",
            "  (de_conv1): Sequential(\n",
            "    (0): ConvTranspose2d(512, 256, kernel_size=(4, 4), stride=(2, 2), padding=(1, 1))\n",
            "    (1): BatchNorm2d(256, eps=1e-05, momentum=0.1, affine=True, track_running_stats=True)\n",
            "  )\n",
            "  (de_conv2): Sequential(\n",
            "    (0): ConvTranspose2d(256, 128, kernel_size=(4, 4), stride=(2, 2), padding=(1, 1))\n",
            "    (1): BatchNorm2d(128, eps=1e-05, momentum=0.1, affine=True, track_running_stats=True)\n",
            "  )\n",
            "  (de_conv3): Sequential(\n",
            "    (0): ConvTranspose2d(128, 1, kernel_size=(4, 4), stride=(2, 2), padding=(1, 1))\n",
            "  )\n",
            "  (dropout): Dropout(p=0.3, inplace=False)\n",
            ")\n"
          ]
        }
      ],
      "source": [
        "# let's look at our generator model\n",
        "print(generator)"
      ]
    },
    {
      "cell_type": "markdown",
      "metadata": {
        "id": "x8fpTP5Ez0_E"
      },
      "source": [
        "### Training the model"
      ]
    },
    {
      "cell_type": "code",
      "execution_count": 46,
      "metadata": {
        "id": "1kzBTb6Oz0_E"
      },
      "outputs": [],
      "source": [
        "lr = 0.0002 #learning rate\n",
        "beta1=0.5\n",
        "beta2=0.999\n",
        "\n",
        "# optimizers for the discriminator D and generator G\n",
        "discriminator_optimizer = torch.optim.Adam(discriminator.parameters(), lr, (beta1, beta2)) # for discriminator\n",
        "generator_optimizer = torch.optim.Adam(generator.parameters(), lr, (beta1, beta2)) # for generator"
      ]
    },
    {
      "cell_type": "code",
      "execution_count": 47,
      "metadata": {
        "id": "vi6kI-p3z0_E"
      },
      "outputs": [],
      "source": [
        "use_gpu = torch.cuda.is_available()"
      ]
    },
    {
      "cell_type": "code",
      "execution_count": 48,
      "metadata": {
        "id": "_Fu7jLocz0_E"
      },
      "outputs": [],
      "source": [
        "def real_loss(D_out, smooth = False):\n",
        "    '''Calculates how close discriminator outputs are to being real.\n",
        "       param, D_out: discriminator logits\n",
        "       return: real loss'''\n",
        "    batch_size = D_out.size(0)\n",
        "    \n",
        "    if smooth:\n",
        "        labels = torch.ones(batch_size)*0.9\n",
        "    else:\n",
        "        labels = torch.ones(batch_size) \n",
        "    \n",
        "    if use_gpu:\n",
        "        labels = labels.cuda()\n",
        "    \n",
        "    criterion = nn.BCEWithLogitsLoss()\n",
        "    loss = criterion(D_out.squeeze(), labels)\n",
        "    \n",
        "    return loss\n",
        "\n",
        "def fake_loss(D_out):\n",
        "    '''Calculates how close discriminator outputs are to being fake.\n",
        "       param, D_out: discriminator logits\n",
        "       return: fake loss'''\n",
        "    batch_size = D_out.size(0)\n",
        "    labels = torch.zeros(batch_size)\n",
        "    \n",
        "    if use_gpu:\n",
        "        labels = labels.cuda()\n",
        "        \n",
        "    criterion = nn.BCEWithLogitsLoss()\n",
        "    loss = criterion(D_out.squeeze(), labels)\n",
        "    \n",
        "    return loss"
      ]
    },
    {
      "cell_type": "code",
      "execution_count": 49,
      "metadata": {
        "id": "_fmtOka-z0_E"
      },
      "outputs": [],
      "source": [
        "def train(D, G, n_epochs, train_on_gpu, print_every=50):\n",
        "    '''Trains adversarial networks for some number of epochs\n",
        "       param, D: the discriminator network\n",
        "       param, G: the generator network\n",
        "       param, n_epochs: number of epochs to train for\n",
        "       param, print_every: when to print and record the models' losses\n",
        "       return: D and G losses'''\n",
        "    \n",
        "    # move models to GPU\n",
        "    if train_on_gpu:\n",
        "        D.cuda()\n",
        "        G.cuda()\n",
        "\n",
        "    # keep track of loss and generated, \"fake\" samples\n",
        "    samples = []\n",
        "    losses = []\n",
        "\n",
        "    # Get some fixed data for sampling. These are images that are held\n",
        "    # constant throughout training, and allow us to inspect the model's performance\n",
        "    sample_size=16\n",
        "    fixed_z = np.random.uniform(-1, 1, size=(sample_size, z_size))\n",
        "    fixed_z = torch.from_numpy(fixed_z).float()\n",
        "    # move z to GPU if available\n",
        "    if train_on_gpu:\n",
        "        fixed_z = fixed_z.cuda()\n",
        "\n",
        "    # epoch training loop\n",
        "    for epoch in range(n_epochs):\n",
        "\n",
        "        # batch training loop\n",
        "        for batch_i, (real_images, _) in enumerate(train_loader_GAN):\n",
        "\n",
        "            batch_size = real_images.size(0)\n",
        "            real_images = scale_images(real_images)\n",
        "\n",
        "            # Train the discriminator on real and fake images\n",
        "            discriminator_optimizer.zero_grad()\n",
        "            \n",
        "            if train_on_gpu:\n",
        "                real_images = real_images.cuda()\n",
        "                \n",
        "            D_real = D(real_images)\n",
        "            d_real_loss = real_loss(D_real)\n",
        "\n",
        "            z = np.random.uniform(-1, 1, size=(batch_size, z_size))\n",
        "            z = torch.from_numpy(z).float()\n",
        "\n",
        "            if train_on_gpu:\n",
        "                z = z.cuda()\n",
        "                \n",
        "            fake_images = G(z)\n",
        "            \n",
        "            D_fake = D(fake_images)\n",
        "            d_fake_loss = fake_loss(D_fake)\n",
        "            \n",
        "            \n",
        "            d_loss = d_real_loss + d_fake_loss\n",
        "            d_loss.backward()\n",
        "            discriminator_optimizer.step()     \n",
        "\n",
        "            # 2. Train the generator with an adversarial loss\n",
        "            generator_optimizer.zero_grad()\n",
        "            \n",
        "            z = np.random.uniform(-1, 1, size=(batch_size, z_size))\n",
        "            z = torch.from_numpy(z).float()\n",
        "            \n",
        "            if train_on_gpu:\n",
        "                z = z.cuda()\n",
        "            \n",
        "            fake_images = G(z)\n",
        "            \n",
        "            D_fake = D(fake_images)\n",
        "            \n",
        "            g_loss = real_loss(D_fake)\n",
        "        \n",
        "            g_loss.backward()\n",
        "            generator_optimizer.step()\n",
        "            \n",
        "            # Print some loss stats\n",
        "            if batch_i % print_every == 0:\n",
        "                # append discriminator loss and generator loss\n",
        "                losses.append((d_loss.item(), g_loss.item()))\n",
        "                # print discriminator and generator loss\n",
        "                print('Epoch [{:5d}/{:5d}] | d_loss: {:6.4f} | g_loss: {:6.4f}'.format(\n",
        "                        epoch+1, n_epochs, d_loss.item(), g_loss.item()))\n",
        "\n",
        "\n",
        "        ## AFTER EACH EPOCH##    \n",
        "        # this code assumes your generator is named G, feel free to change the name\n",
        "        # generate and save sample, fake images\n",
        "        G.eval() # for generating samples\n",
        "        samples_z = G(fixed_z)\n",
        "        samples.append(samples_z)\n",
        "        G.train() # back to training mode\n",
        "\n",
        "    # Save training generator samples\n",
        "    with open('train_samples.pkl', 'wb') as f:\n",
        "        pkl.dump(samples, f)\n",
        "    \n",
        "    # finally return losses\n",
        "    return losses"
      ]
    },
    {
      "cell_type": "code",
      "execution_count": 51,
      "metadata": {
        "colab": {
          "base_uri": "https://localhost:8080/"
        },
        "id": "7kAZOjISz0_E",
        "outputId": "239bf80c-41a1-4d37-db4b-09de6a9bfe68"
      },
      "outputs": [
        {
          "name": "stdout",
          "output_type": "stream",
          "text": [
            "Epoch [    1/   10] | d_loss: 0.0307 | g_loss: 13.3392\n",
            "Epoch [    1/   10] | d_loss: 0.0245 | g_loss: 9.1342\n",
            "Epoch [    1/   10] | d_loss: 0.1424 | g_loss: 10.5988\n",
            "Epoch [    1/   10] | d_loss: 0.0233 | g_loss: 9.2264\n",
            "Epoch [    1/   10] | d_loss: 0.0184 | g_loss: 10.1098\n",
            "Epoch [    1/   10] | d_loss: 0.0032 | g_loss: 10.9083\n",
            "Epoch [    1/   10] | d_loss: 0.0100 | g_loss: 10.9845\n",
            "Epoch [    1/   10] | d_loss: 0.1607 | g_loss: 12.2389\n",
            "Epoch [    1/   10] | d_loss: 0.0695 | g_loss: 11.4532\n",
            "Epoch [    1/   10] | d_loss: 0.0011 | g_loss: 12.8659\n",
            "Epoch [    1/   10] | d_loss: 0.0251 | g_loss: 11.3419\n",
            "Epoch [    1/   10] | d_loss: 0.0018 | g_loss: 12.7381\n",
            "Epoch [    1/   10] | d_loss: 0.0011 | g_loss: 13.5816\n",
            "Epoch [    1/   10] | d_loss: 0.0014 | g_loss: 11.7032\n",
            "Epoch [    1/   10] | d_loss: 0.0030 | g_loss: 15.7614\n",
            "Epoch [    1/   10] | d_loss: 0.0058 | g_loss: 10.2894\n",
            "Epoch [    1/   10] | d_loss: 0.0029 | g_loss: 11.9501\n",
            "Epoch [    1/   10] | d_loss: 0.0006 | g_loss: 10.1351\n",
            "Epoch [    1/   10] | d_loss: 0.0399 | g_loss: 11.1491\n",
            "Epoch [    1/   10] | d_loss: 0.0004 | g_loss: 11.6323\n",
            "Epoch [    1/   10] | d_loss: 0.0052 | g_loss: 12.8884\n",
            "Epoch [    1/   10] | d_loss: 0.0027 | g_loss: 11.8855\n",
            "Epoch [    1/   10] | d_loss: 0.1378 | g_loss: 7.4191\n",
            "Epoch [    1/   10] | d_loss: 0.0019 | g_loss: 12.2812\n",
            "Epoch [    1/   10] | d_loss: 0.0051 | g_loss: 10.8358\n",
            "Epoch [    1/   10] | d_loss: 0.0002 | g_loss: 16.8118\n",
            "Epoch [    1/   10] | d_loss: 0.0167 | g_loss: 13.6807\n",
            "Epoch [    1/   10] | d_loss: 0.0183 | g_loss: 10.9099\n",
            "Epoch [    1/   10] | d_loss: 0.0299 | g_loss: 9.9561\n",
            "Epoch [    1/   10] | d_loss: 0.0010 | g_loss: 10.7251\n",
            "Epoch [    1/   10] | d_loss: 0.0014 | g_loss: 12.6958\n",
            "Epoch [    1/   10] | d_loss: 0.0012 | g_loss: 8.4912\n",
            "Epoch [    1/   10] | d_loss: 0.0006 | g_loss: 15.0002\n",
            "Epoch [    1/   10] | d_loss: 0.0002 | g_loss: 10.3145\n",
            "Epoch [    1/   10] | d_loss: 0.0005 | g_loss: 12.4443\n",
            "Epoch [    1/   10] | d_loss: 0.0014 | g_loss: 11.1981\n",
            "Epoch [    1/   10] | d_loss: 0.0023 | g_loss: 13.0030\n",
            "Epoch [    1/   10] | d_loss: 0.0339 | g_loss: 12.2672\n",
            "Epoch [    2/   10] | d_loss: 0.0001 | g_loss: 10.4594\n",
            "Epoch [    2/   10] | d_loss: 0.0002 | g_loss: 12.6620\n",
            "Epoch [    2/   10] | d_loss: 0.0010 | g_loss: 10.4797\n",
            "Epoch [    2/   10] | d_loss: 0.0013 | g_loss: 11.3584\n",
            "Epoch [    2/   10] | d_loss: 0.0313 | g_loss: 8.7062\n",
            "Epoch [    2/   10] | d_loss: 0.0310 | g_loss: 9.3183\n",
            "Epoch [    2/   10] | d_loss: 0.0713 | g_loss: 15.5924\n",
            "Epoch [    2/   10] | d_loss: 0.0437 | g_loss: 8.8230\n",
            "Epoch [    2/   10] | d_loss: 0.0014 | g_loss: 15.8707\n",
            "Epoch [    2/   10] | d_loss: 0.0038 | g_loss: 8.9568\n",
            "Epoch [    2/   10] | d_loss: 0.0050 | g_loss: 8.6745\n",
            "Epoch [    2/   10] | d_loss: 0.0939 | g_loss: 9.1278\n",
            "Epoch [    2/   10] | d_loss: 0.2199 | g_loss: 6.7748\n",
            "Epoch [    2/   10] | d_loss: 0.0753 | g_loss: 8.5856\n",
            "Epoch [    2/   10] | d_loss: 0.0023 | g_loss: 9.3160\n",
            "Epoch [    2/   10] | d_loss: 0.1223 | g_loss: 7.0728\n",
            "Epoch [    2/   10] | d_loss: 0.0130 | g_loss: 8.0969\n",
            "Epoch [    2/   10] | d_loss: 0.0409 | g_loss: 7.6170\n",
            "Epoch [    2/   10] | d_loss: 0.0275 | g_loss: 6.8018\n",
            "Epoch [    2/   10] | d_loss: 0.0097 | g_loss: 9.0816\n",
            "Epoch [    2/   10] | d_loss: 0.0040 | g_loss: 8.3883\n",
            "Epoch [    2/   10] | d_loss: 0.0012 | g_loss: 5.9550\n",
            "Epoch [    2/   10] | d_loss: 0.0073 | g_loss: 9.9776\n",
            "Epoch [    2/   10] | d_loss: 0.5804 | g_loss: 13.1070\n",
            "Epoch [    2/   10] | d_loss: 0.0042 | g_loss: 10.8575\n",
            "Epoch [    2/   10] | d_loss: 0.0036 | g_loss: 7.1704\n",
            "Epoch [    2/   10] | d_loss: 0.0010 | g_loss: 7.1497\n",
            "Epoch [    2/   10] | d_loss: 0.0010 | g_loss: 9.2566\n",
            "Epoch [    2/   10] | d_loss: 0.0529 | g_loss: 9.4389\n",
            "Epoch [    2/   10] | d_loss: 0.0270 | g_loss: 9.7620\n",
            "Epoch [    2/   10] | d_loss: 0.0071 | g_loss: 5.3816\n",
            "Epoch [    2/   10] | d_loss: 0.0025 | g_loss: 6.9935\n",
            "Epoch [    2/   10] | d_loss: 0.0116 | g_loss: 7.6937\n",
            "Epoch [    2/   10] | d_loss: 0.0150 | g_loss: 8.2403\n",
            "Epoch [    2/   10] | d_loss: 0.0058 | g_loss: 10.1452\n",
            "Epoch [    2/   10] | d_loss: 0.0026 | g_loss: 8.7940\n",
            "Epoch [    2/   10] | d_loss: 0.0008 | g_loss: 8.2127\n",
            "Epoch [    2/   10] | d_loss: 0.0001 | g_loss: 6.8748\n",
            "Epoch [    3/   10] | d_loss: 0.0328 | g_loss: 9.1061\n",
            "Epoch [    3/   10] | d_loss: 0.0156 | g_loss: 9.9333\n",
            "Epoch [    3/   10] | d_loss: 0.0003 | g_loss: 11.1605\n",
            "Epoch [    3/   10] | d_loss: 0.0025 | g_loss: 6.9296\n",
            "Epoch [    3/   10] | d_loss: 0.0008 | g_loss: 7.4354\n",
            "Epoch [    3/   10] | d_loss: 0.0009 | g_loss: 9.3345\n",
            "Epoch [    3/   10] | d_loss: 0.0023 | g_loss: 8.6367\n",
            "Epoch [    3/   10] | d_loss: 0.0025 | g_loss: 9.2330\n",
            "Epoch [    3/   10] | d_loss: 0.0431 | g_loss: 7.7084\n",
            "Epoch [    3/   10] | d_loss: 0.0287 | g_loss: 9.3484\n",
            "Epoch [    3/   10] | d_loss: 0.1119 | g_loss: 7.7670\n",
            "Epoch [    3/   10] | d_loss: 0.0006 | g_loss: 9.9420\n",
            "Epoch [    3/   10] | d_loss: 0.1374 | g_loss: 9.0214\n",
            "Epoch [    3/   10] | d_loss: 0.0099 | g_loss: 7.3401\n",
            "Epoch [    3/   10] | d_loss: 0.2659 | g_loss: 2.9778\n",
            "Epoch [    3/   10] | d_loss: 0.0025 | g_loss: 9.8389\n",
            "Epoch [    3/   10] | d_loss: 0.0048 | g_loss: 8.3086\n",
            "Epoch [    3/   10] | d_loss: 0.0281 | g_loss: 7.8932\n",
            "Epoch [    3/   10] | d_loss: 0.0831 | g_loss: 6.4048\n",
            "Epoch [    3/   10] | d_loss: 0.0070 | g_loss: 11.2872\n",
            "Epoch [    3/   10] | d_loss: 0.0016 | g_loss: 8.3065\n",
            "Epoch [    3/   10] | d_loss: 0.0005 | g_loss: 9.3568\n",
            "Epoch [    3/   10] | d_loss: 0.0062 | g_loss: 8.0594\n",
            "Epoch [    3/   10] | d_loss: 0.0141 | g_loss: 9.8658\n",
            "Epoch [    3/   10] | d_loss: 0.0195 | g_loss: 9.2622\n",
            "Epoch [    3/   10] | d_loss: 0.0873 | g_loss: 4.7330\n",
            "Epoch [    3/   10] | d_loss: 0.0025 | g_loss: 8.4244\n",
            "Epoch [    3/   10] | d_loss: 0.0058 | g_loss: 8.3994\n",
            "Epoch [    3/   10] | d_loss: 0.0062 | g_loss: 4.1537\n",
            "Epoch [    3/   10] | d_loss: 0.2447 | g_loss: 12.1378\n",
            "Epoch [    3/   10] | d_loss: 0.0079 | g_loss: 9.8183\n",
            "Epoch [    3/   10] | d_loss: 0.0658 | g_loss: 9.1531\n",
            "Epoch [    3/   10] | d_loss: 0.3177 | g_loss: 5.5995\n",
            "Epoch [    3/   10] | d_loss: 0.0082 | g_loss: 8.7288\n",
            "Epoch [    3/   10] | d_loss: 0.0011 | g_loss: 8.1825\n",
            "Epoch [    3/   10] | d_loss: 0.0054 | g_loss: 10.6087\n",
            "Epoch [    3/   10] | d_loss: 0.0032 | g_loss: 6.8716\n",
            "Epoch [    3/   10] | d_loss: 0.0044 | g_loss: 9.7535\n",
            "Epoch [    4/   10] | d_loss: 0.0280 | g_loss: 7.6792\n",
            "Epoch [    4/   10] | d_loss: 0.0073 | g_loss: 6.7978\n",
            "Epoch [    4/   10] | d_loss: 0.1827 | g_loss: 7.3730\n",
            "Epoch [    4/   10] | d_loss: 0.0259 | g_loss: 8.4468\n",
            "Epoch [    4/   10] | d_loss: 0.1062 | g_loss: 8.4798\n",
            "Epoch [    4/   10] | d_loss: 0.0184 | g_loss: 8.0637\n",
            "Epoch [    4/   10] | d_loss: 0.1717 | g_loss: 10.8154\n",
            "Epoch [    4/   10] | d_loss: 0.0051 | g_loss: 10.2288\n",
            "Epoch [    4/   10] | d_loss: 0.0016 | g_loss: 8.7805\n",
            "Epoch [    4/   10] | d_loss: 0.0055 | g_loss: 8.7470\n",
            "Epoch [    4/   10] | d_loss: 0.0741 | g_loss: 7.4053\n",
            "Epoch [    4/   10] | d_loss: 0.0350 | g_loss: 6.8076\n",
            "Epoch [    4/   10] | d_loss: 0.0756 | g_loss: 8.6971\n",
            "Epoch [    4/   10] | d_loss: 0.0216 | g_loss: 6.8219\n",
            "Epoch [    4/   10] | d_loss: 0.0273 | g_loss: 8.4641\n",
            "Epoch [    4/   10] | d_loss: 0.0075 | g_loss: 6.9996\n",
            "Epoch [    4/   10] | d_loss: 0.0650 | g_loss: 5.9318\n",
            "Epoch [    4/   10] | d_loss: 0.0667 | g_loss: 6.7008\n",
            "Epoch [    4/   10] | d_loss: 0.0115 | g_loss: 6.8949\n",
            "Epoch [    4/   10] | d_loss: 0.0762 | g_loss: 5.4844\n",
            "Epoch [    4/   10] | d_loss: 0.5483 | g_loss: 11.8296\n",
            "Epoch [    4/   10] | d_loss: 0.3454 | g_loss: 4.7576\n",
            "Epoch [    4/   10] | d_loss: 0.0408 | g_loss: 6.9396\n",
            "Epoch [    4/   10] | d_loss: 0.0082 | g_loss: 7.4953\n",
            "Epoch [    4/   10] | d_loss: 0.0046 | g_loss: 5.2049\n",
            "Epoch [    4/   10] | d_loss: 0.0161 | g_loss: 7.1911\n",
            "Epoch [    4/   10] | d_loss: 0.0120 | g_loss: 9.2754\n",
            "Epoch [    4/   10] | d_loss: 0.0410 | g_loss: 5.8694\n",
            "Epoch [    4/   10] | d_loss: 0.0184 | g_loss: 5.2787\n",
            "Epoch [    4/   10] | d_loss: 0.0323 | g_loss: 7.4511\n",
            "Epoch [    4/   10] | d_loss: 0.0015 | g_loss: 11.3530\n",
            "Epoch [    4/   10] | d_loss: 0.0209 | g_loss: 3.7080\n",
            "Epoch [    4/   10] | d_loss: 0.1769 | g_loss: 8.1035\n",
            "Epoch [    4/   10] | d_loss: 0.3302 | g_loss: 4.0937\n",
            "Epoch [    4/   10] | d_loss: 0.0069 | g_loss: 9.6851\n",
            "Epoch [    4/   10] | d_loss: 0.1137 | g_loss: 4.6495\n",
            "Epoch [    4/   10] | d_loss: 0.0679 | g_loss: 2.8457\n",
            "Epoch [    4/   10] | d_loss: 0.0352 | g_loss: 6.5160\n",
            "Epoch [    5/   10] | d_loss: 0.0021 | g_loss: 7.6378\n",
            "Epoch [    5/   10] | d_loss: 0.1245 | g_loss: 6.9470\n",
            "Epoch [    5/   10] | d_loss: 0.0025 | g_loss: 7.3823\n",
            "Epoch [    5/   10] | d_loss: 0.0110 | g_loss: 10.4261\n",
            "Epoch [    5/   10] | d_loss: 0.0448 | g_loss: 4.1785\n",
            "Epoch [    5/   10] | d_loss: 0.0021 | g_loss: 8.9448\n",
            "Epoch [    5/   10] | d_loss: 0.0029 | g_loss: 6.7395\n",
            "Epoch [    5/   10] | d_loss: 0.1238 | g_loss: 6.0783\n",
            "Epoch [    5/   10] | d_loss: 0.0529 | g_loss: 9.1777\n",
            "Epoch [    5/   10] | d_loss: 0.2160 | g_loss: 4.4788\n",
            "Epoch [    5/   10] | d_loss: 0.0924 | g_loss: 3.3928\n",
            "Epoch [    5/   10] | d_loss: 0.3720 | g_loss: 10.3838\n",
            "Epoch [    5/   10] | d_loss: 0.0184 | g_loss: 8.5455\n",
            "Epoch [    5/   10] | d_loss: 0.1450 | g_loss: 8.3186\n",
            "Epoch [    5/   10] | d_loss: 0.0092 | g_loss: 7.6632\n",
            "Epoch [    5/   10] | d_loss: 0.0170 | g_loss: 2.4249\n",
            "Epoch [    5/   10] | d_loss: 0.0849 | g_loss: 9.5041\n",
            "Epoch [    5/   10] | d_loss: 0.0784 | g_loss: 6.5959\n",
            "Epoch [    5/   10] | d_loss: 0.0470 | g_loss: 6.2643\n",
            "Epoch [    5/   10] | d_loss: 0.0294 | g_loss: 7.3438\n",
            "Epoch [    5/   10] | d_loss: 0.0016 | g_loss: 8.3863\n",
            "Epoch [    5/   10] | d_loss: 0.0546 | g_loss: 4.9943\n",
            "Epoch [    5/   10] | d_loss: 0.0785 | g_loss: 4.9603\n",
            "Epoch [    5/   10] | d_loss: 0.0030 | g_loss: 4.0453\n",
            "Epoch [    5/   10] | d_loss: 0.0164 | g_loss: 7.1491\n",
            "Epoch [    5/   10] | d_loss: 0.0346 | g_loss: 4.1402\n",
            "Epoch [    5/   10] | d_loss: 0.1319 | g_loss: 4.1098\n",
            "Epoch [    5/   10] | d_loss: 0.3874 | g_loss: 7.9800\n",
            "Epoch [    5/   10] | d_loss: 0.0082 | g_loss: 7.4353\n",
            "Epoch [    5/   10] | d_loss: 0.0074 | g_loss: 9.4597\n",
            "Epoch [    5/   10] | d_loss: 0.0072 | g_loss: 7.4548\n",
            "Epoch [    5/   10] | d_loss: 0.0633 | g_loss: 7.6490\n",
            "Epoch [    5/   10] | d_loss: 0.0041 | g_loss: 6.2767\n",
            "Epoch [    5/   10] | d_loss: 0.0020 | g_loss: 5.8906\n",
            "Epoch [    5/   10] | d_loss: 0.2161 | g_loss: 4.3428\n",
            "Epoch [    5/   10] | d_loss: 0.0213 | g_loss: 7.0409\n",
            "Epoch [    5/   10] | d_loss: 0.0707 | g_loss: 7.0968\n",
            "Epoch [    5/   10] | d_loss: 0.0093 | g_loss: 7.0187\n",
            "Epoch [    6/   10] | d_loss: 0.4259 | g_loss: 3.3743\n",
            "Epoch [    6/   10] | d_loss: 0.4092 | g_loss: 9.7167\n",
            "Epoch [    6/   10] | d_loss: 0.0840 | g_loss: 11.9129\n",
            "Epoch [    6/   10] | d_loss: 0.0653 | g_loss: 4.2103\n",
            "Epoch [    6/   10] | d_loss: 0.2514 | g_loss: 9.1592\n",
            "Epoch [    6/   10] | d_loss: 0.0159 | g_loss: 3.0006\n",
            "Epoch [    6/   10] | d_loss: 0.0017 | g_loss: 6.6572\n",
            "Epoch [    6/   10] | d_loss: 0.0365 | g_loss: 11.8632\n",
            "Epoch [    6/   10] | d_loss: 0.2502 | g_loss: 5.4802\n",
            "Epoch [    6/   10] | d_loss: 0.0432 | g_loss: 10.5557\n",
            "Epoch [    6/   10] | d_loss: 0.0079 | g_loss: 4.8880\n",
            "Epoch [    6/   10] | d_loss: 0.0098 | g_loss: 8.0847\n",
            "Epoch [    6/   10] | d_loss: 0.0152 | g_loss: 8.6711\n",
            "Epoch [    6/   10] | d_loss: 0.0212 | g_loss: 4.6996\n",
            "Epoch [    6/   10] | d_loss: 0.0270 | g_loss: 7.8928\n",
            "Epoch [    6/   10] | d_loss: 0.1672 | g_loss: 3.5100\n",
            "Epoch [    6/   10] | d_loss: 0.0249 | g_loss: 10.1319\n",
            "Epoch [    6/   10] | d_loss: 0.0962 | g_loss: 4.8622\n",
            "Epoch [    6/   10] | d_loss: 0.0154 | g_loss: 5.6072\n",
            "Epoch [    6/   10] | d_loss: 0.0105 | g_loss: 5.7553\n",
            "Epoch [    6/   10] | d_loss: 0.0014 | g_loss: 8.2401\n",
            "Epoch [    6/   10] | d_loss: 0.0048 | g_loss: 5.0521\n",
            "Epoch [    6/   10] | d_loss: 0.0553 | g_loss: 8.3039\n",
            "Epoch [    6/   10] | d_loss: 0.0219 | g_loss: 3.3369\n",
            "Epoch [    6/   10] | d_loss: 0.0292 | g_loss: 6.1579\n",
            "Epoch [    6/   10] | d_loss: 0.0200 | g_loss: 7.8534\n",
            "Epoch [    6/   10] | d_loss: 0.0039 | g_loss: 8.8797\n",
            "Epoch [    6/   10] | d_loss: 0.0228 | g_loss: 7.6441\n",
            "Epoch [    6/   10] | d_loss: 0.0421 | g_loss: 6.7663\n",
            "Epoch [    6/   10] | d_loss: 0.0239 | g_loss: 6.6356\n",
            "Epoch [    6/   10] | d_loss: 0.0493 | g_loss: 6.7301\n",
            "Epoch [    6/   10] | d_loss: 0.0185 | g_loss: 5.4679\n",
            "Epoch [    6/   10] | d_loss: 0.0612 | g_loss: 6.2753\n",
            "Epoch [    6/   10] | d_loss: 0.0014 | g_loss: 8.7332\n",
            "Epoch [    6/   10] | d_loss: 0.0030 | g_loss: 3.4809\n",
            "Epoch [    6/   10] | d_loss: 0.0221 | g_loss: 5.2055\n",
            "Epoch [    6/   10] | d_loss: 0.0138 | g_loss: 7.8619\n",
            "Epoch [    6/   10] | d_loss: 0.0146 | g_loss: 11.7552\n",
            "Epoch [    7/   10] | d_loss: 0.0459 | g_loss: 1.9792\n",
            "Epoch [    7/   10] | d_loss: 0.0351 | g_loss: 8.6338\n",
            "Epoch [    7/   10] | d_loss: 0.0585 | g_loss: 7.3841\n",
            "Epoch [    7/   10] | d_loss: 0.0267 | g_loss: 6.7704\n",
            "Epoch [    7/   10] | d_loss: 0.1024 | g_loss: 6.7184\n",
            "Epoch [    7/   10] | d_loss: 0.1448 | g_loss: 5.8718\n",
            "Epoch [    7/   10] | d_loss: 0.1868 | g_loss: 5.1628\n",
            "Epoch [    7/   10] | d_loss: 0.0203 | g_loss: 9.1447\n",
            "Epoch [    7/   10] | d_loss: 0.1808 | g_loss: 4.9399\n",
            "Epoch [    7/   10] | d_loss: 0.0398 | g_loss: 4.8479\n",
            "Epoch [    7/   10] | d_loss: 0.0102 | g_loss: 7.7449\n",
            "Epoch [    7/   10] | d_loss: 0.4592 | g_loss: 3.5652\n",
            "Epoch [    7/   10] | d_loss: 0.3114 | g_loss: 8.2917\n",
            "Epoch [    7/   10] | d_loss: 0.7267 | g_loss: 8.2470\n",
            "Epoch [    7/   10] | d_loss: 0.0047 | g_loss: 8.0022\n",
            "Epoch [    7/   10] | d_loss: 0.0762 | g_loss: 8.9049\n",
            "Epoch [    7/   10] | d_loss: 0.0645 | g_loss: 7.9178\n",
            "Epoch [    7/   10] | d_loss: 0.1393 | g_loss: 8.7868\n",
            "Epoch [    7/   10] | d_loss: 0.0040 | g_loss: 4.7101\n",
            "Epoch [    7/   10] | d_loss: 0.4617 | g_loss: 7.4221\n",
            "Epoch [    7/   10] | d_loss: 0.1029 | g_loss: 8.9165\n",
            "Epoch [    7/   10] | d_loss: 0.1019 | g_loss: 5.1393\n",
            "Epoch [    7/   10] | d_loss: 0.2141 | g_loss: 7.3669\n",
            "Epoch [    7/   10] | d_loss: 0.0572 | g_loss: 5.4570\n",
            "Epoch [    7/   10] | d_loss: 0.0261 | g_loss: 7.6712\n",
            "Epoch [    7/   10] | d_loss: 0.0046 | g_loss: 4.2457\n",
            "Epoch [    7/   10] | d_loss: 0.0179 | g_loss: 8.0138\n",
            "Epoch [    7/   10] | d_loss: 0.1734 | g_loss: 4.2462\n",
            "Epoch [    7/   10] | d_loss: 0.0136 | g_loss: 9.2652\n",
            "Epoch [    7/   10] | d_loss: 0.0575 | g_loss: 8.2658\n",
            "Epoch [    7/   10] | d_loss: 0.0029 | g_loss: 8.2521\n",
            "Epoch [    7/   10] | d_loss: 0.9926 | g_loss: 11.4616\n",
            "Epoch [    7/   10] | d_loss: 0.0165 | g_loss: 5.1040\n",
            "Epoch [    7/   10] | d_loss: 0.0071 | g_loss: 4.9605\n",
            "Epoch [    7/   10] | d_loss: 0.0118 | g_loss: 7.2751\n",
            "Epoch [    7/   10] | d_loss: 0.2059 | g_loss: 7.8731\n",
            "Epoch [    7/   10] | d_loss: 0.0259 | g_loss: 9.7269\n",
            "Epoch [    7/   10] | d_loss: 0.0437 | g_loss: 5.2568\n",
            "Epoch [    8/   10] | d_loss: 0.1222 | g_loss: 5.4322\n",
            "Epoch [    8/   10] | d_loss: 0.0172 | g_loss: 8.3266\n",
            "Epoch [    8/   10] | d_loss: 0.1613 | g_loss: 8.5263\n",
            "Epoch [    8/   10] | d_loss: 0.0314 | g_loss: 4.4848\n",
            "Epoch [    8/   10] | d_loss: 0.3680 | g_loss: 6.0105\n",
            "Epoch [    8/   10] | d_loss: 0.0537 | g_loss: 6.6693\n",
            "Epoch [    8/   10] | d_loss: 0.0013 | g_loss: 6.4399\n",
            "Epoch [    8/   10] | d_loss: 0.0695 | g_loss: 5.0521\n",
            "Epoch [    8/   10] | d_loss: 0.0071 | g_loss: 4.2562\n",
            "Epoch [    8/   10] | d_loss: 0.0117 | g_loss: 5.5128\n",
            "Epoch [    8/   10] | d_loss: 0.2158 | g_loss: 7.2199\n",
            "Epoch [    8/   10] | d_loss: 0.0227 | g_loss: 6.6043\n",
            "Epoch [    8/   10] | d_loss: 0.0103 | g_loss: 3.7625\n",
            "Epoch [    8/   10] | d_loss: 0.0211 | g_loss: 4.3407\n",
            "Epoch [    8/   10] | d_loss: 0.0126 | g_loss: 8.6399\n",
            "Epoch [    8/   10] | d_loss: 0.0035 | g_loss: 6.4030\n",
            "Epoch [    8/   10] | d_loss: 0.0469 | g_loss: 8.1341\n",
            "Epoch [    8/   10] | d_loss: 0.0071 | g_loss: 9.4447\n",
            "Epoch [    8/   10] | d_loss: 0.0075 | g_loss: 5.6500\n",
            "Epoch [    8/   10] | d_loss: 0.0766 | g_loss: 8.8479\n",
            "Epoch [    8/   10] | d_loss: 0.0579 | g_loss: 10.0646\n",
            "Epoch [    8/   10] | d_loss: 0.0035 | g_loss: 8.3912\n",
            "Epoch [    8/   10] | d_loss: 0.0121 | g_loss: 5.4540\n",
            "Epoch [    8/   10] | d_loss: 0.2660 | g_loss: 3.3860\n",
            "Epoch [    8/   10] | d_loss: 0.0369 | g_loss: 5.7102\n",
            "Epoch [    8/   10] | d_loss: 0.5883 | g_loss: 1.9705\n",
            "Epoch [    8/   10] | d_loss: 0.0311 | g_loss: 7.3740\n",
            "Epoch [    8/   10] | d_loss: 0.0336 | g_loss: 3.2350\n",
            "Epoch [    8/   10] | d_loss: 0.0532 | g_loss: 5.6193\n",
            "Epoch [    8/   10] | d_loss: 0.0673 | g_loss: 5.4930\n",
            "Epoch [    8/   10] | d_loss: 0.0394 | g_loss: 7.7244\n",
            "Epoch [    8/   10] | d_loss: 0.0304 | g_loss: 8.7479\n",
            "Epoch [    8/   10] | d_loss: 0.5556 | g_loss: 3.6454\n",
            "Epoch [    8/   10] | d_loss: 0.0234 | g_loss: 5.0362\n",
            "Epoch [    8/   10] | d_loss: 0.0932 | g_loss: 8.1180\n",
            "Epoch [    8/   10] | d_loss: 0.0053 | g_loss: 10.0059\n",
            "Epoch [    8/   10] | d_loss: 0.1704 | g_loss: 5.4420\n",
            "Epoch [    8/   10] | d_loss: 0.0092 | g_loss: 4.8382\n",
            "Epoch [    9/   10] | d_loss: 0.0041 | g_loss: 7.8975\n",
            "Epoch [    9/   10] | d_loss: 0.6821 | g_loss: 2.4746\n",
            "Epoch [    9/   10] | d_loss: 0.0133 | g_loss: 6.6512\n",
            "Epoch [    9/   10] | d_loss: 0.0093 | g_loss: 4.6005\n",
            "Epoch [    9/   10] | d_loss: 0.0580 | g_loss: 7.3579\n",
            "Epoch [    9/   10] | d_loss: 1.0064 | g_loss: 12.1196\n",
            "Epoch [    9/   10] | d_loss: 0.0221 | g_loss: 8.2836\n",
            "Epoch [    9/   10] | d_loss: 0.0252 | g_loss: 3.9966\n",
            "Epoch [    9/   10] | d_loss: 0.0393 | g_loss: 4.1295\n",
            "Epoch [    9/   10] | d_loss: 0.0415 | g_loss: 4.7550\n",
            "Epoch [    9/   10] | d_loss: 0.0127 | g_loss: 7.3184\n",
            "Epoch [    9/   10] | d_loss: 0.0211 | g_loss: 6.9281\n",
            "Epoch [    9/   10] | d_loss: 0.0365 | g_loss: 5.1834\n",
            "Epoch [    9/   10] | d_loss: 0.0595 | g_loss: 7.0672\n",
            "Epoch [    9/   10] | d_loss: 0.0301 | g_loss: 4.8109\n",
            "Epoch [    9/   10] | d_loss: 0.0180 | g_loss: 7.8945\n",
            "Epoch [    9/   10] | d_loss: 0.0091 | g_loss: 9.6923\n",
            "Epoch [    9/   10] | d_loss: 0.0050 | g_loss: 8.9597\n",
            "Epoch [    9/   10] | d_loss: 0.1110 | g_loss: 8.4476\n",
            "Epoch [    9/   10] | d_loss: 0.0375 | g_loss: 3.8885\n",
            "Epoch [    9/   10] | d_loss: 0.0081 | g_loss: 4.0974\n",
            "Epoch [    9/   10] | d_loss: 0.0216 | g_loss: 8.5501\n",
            "Epoch [    9/   10] | d_loss: 0.1532 | g_loss: 10.2728\n",
            "Epoch [    9/   10] | d_loss: 0.0431 | g_loss: 5.5933\n",
            "Epoch [    9/   10] | d_loss: 0.0120 | g_loss: 8.1577\n",
            "Epoch [    9/   10] | d_loss: 0.0114 | g_loss: 8.2797\n",
            "Epoch [    9/   10] | d_loss: 0.0108 | g_loss: 5.8695\n",
            "Epoch [    9/   10] | d_loss: 0.0228 | g_loss: 6.5138\n",
            "Epoch [    9/   10] | d_loss: 0.3157 | g_loss: 4.5140\n",
            "Epoch [    9/   10] | d_loss: 0.0111 | g_loss: 7.2435\n",
            "Epoch [    9/   10] | d_loss: 0.0324 | g_loss: 6.9904\n",
            "Epoch [    9/   10] | d_loss: 0.0223 | g_loss: 6.5140\n",
            "Epoch [    9/   10] | d_loss: 0.0690 | g_loss: 4.4554\n",
            "Epoch [    9/   10] | d_loss: 0.5884 | g_loss: 1.5413\n",
            "Epoch [    9/   10] | d_loss: 0.0416 | g_loss: 6.1835\n",
            "Epoch [    9/   10] | d_loss: 0.0292 | g_loss: 3.1636\n",
            "Epoch [    9/   10] | d_loss: 0.1606 | g_loss: 6.2061\n",
            "Epoch [    9/   10] | d_loss: 0.0391 | g_loss: 9.0006\n",
            "Epoch [   10/   10] | d_loss: 0.2408 | g_loss: 6.8476\n",
            "Epoch [   10/   10] | d_loss: 0.0266 | g_loss: 5.5188\n",
            "Epoch [   10/   10] | d_loss: 0.0824 | g_loss: 3.4852\n",
            "Epoch [   10/   10] | d_loss: 0.0051 | g_loss: 7.8349\n",
            "Epoch [   10/   10] | d_loss: 0.1407 | g_loss: 5.7727\n",
            "Epoch [   10/   10] | d_loss: 0.4995 | g_loss: 7.9996\n",
            "Epoch [   10/   10] | d_loss: 0.0730 | g_loss: 4.8385\n",
            "Epoch [   10/   10] | d_loss: 0.0374 | g_loss: 5.9530\n",
            "Epoch [   10/   10] | d_loss: 0.0233 | g_loss: 10.8154\n",
            "Epoch [   10/   10] | d_loss: 0.0442 | g_loss: 12.1280\n",
            "Epoch [   10/   10] | d_loss: 0.0081 | g_loss: 7.2415\n",
            "Epoch [   10/   10] | d_loss: 0.0092 | g_loss: 6.8297\n",
            "Epoch [   10/   10] | d_loss: 0.0062 | g_loss: 7.6432\n",
            "Epoch [   10/   10] | d_loss: 0.2705 | g_loss: 7.1877\n",
            "Epoch [   10/   10] | d_loss: 0.0436 | g_loss: 5.5681\n",
            "Epoch [   10/   10] | d_loss: 0.0174 | g_loss: 5.3251\n",
            "Epoch [   10/   10] | d_loss: 0.0044 | g_loss: 7.5368\n",
            "Epoch [   10/   10] | d_loss: 0.1247 | g_loss: 8.2438\n",
            "Epoch [   10/   10] | d_loss: 0.1029 | g_loss: 8.5295\n",
            "Epoch [   10/   10] | d_loss: 0.0010 | g_loss: 6.5361\n",
            "Epoch [   10/   10] | d_loss: 0.1195 | g_loss: 5.9839\n",
            "Epoch [   10/   10] | d_loss: 0.0074 | g_loss: 11.4132\n",
            "Epoch [   10/   10] | d_loss: 0.0437 | g_loss: 3.6930\n",
            "Epoch [   10/   10] | d_loss: 0.0798 | g_loss: 4.1068\n",
            "Epoch [   10/   10] | d_loss: 0.0451 | g_loss: 6.4196\n",
            "Epoch [   10/   10] | d_loss: 0.0219 | g_loss: 7.3030\n",
            "Epoch [   10/   10] | d_loss: 0.0439 | g_loss: 5.2021\n",
            "Epoch [   10/   10] | d_loss: 0.0732 | g_loss: 5.2557\n",
            "Epoch [   10/   10] | d_loss: 0.0095 | g_loss: 4.8217\n",
            "Epoch [   10/   10] | d_loss: 0.1007 | g_loss: 8.4281\n",
            "Epoch [   10/   10] | d_loss: 0.0088 | g_loss: 9.4161\n",
            "Epoch [   10/   10] | d_loss: 0.0307 | g_loss: 5.5398\n",
            "Epoch [   10/   10] | d_loss: 0.1856 | g_loss: 3.1689\n",
            "Epoch [   10/   10] | d_loss: 0.0618 | g_loss: 6.6261\n",
            "Epoch [   10/   10] | d_loss: 0.0170 | g_loss: 6.6722\n",
            "Epoch [   10/   10] | d_loss: 0.0694 | g_loss: 7.3378\n",
            "Epoch [   10/   10] | d_loss: 0.0685 | g_loss: 6.5415\n",
            "Epoch [   10/   10] | d_loss: 0.0375 | g_loss: 7.1340\n"
          ]
        }
      ],
      "source": [
        "n_epochs = 10\n",
        "losses = train(discriminator, generator, n_epochs=n_epochs, train_on_gpu = use_gpu)"
      ]
    },
    {
      "cell_type": "code",
      "execution_count": 52,
      "metadata": {
        "colab": {
          "base_uri": "https://localhost:8080/",
          "height": 299
        },
        "id": "8x1R7Yf5z0_F",
        "outputId": "f1d63cf7-61e2-435d-ce3d-580510a8e2d3"
      },
      "outputs": [
        {
          "data": {
            "text/plain": [
              "<matplotlib.legend.Legend at 0x7f8370e827d0>"
            ]
          },
          "execution_count": 52,
          "metadata": {},
          "output_type": "execute_result"
        },
        {
          "data": {
            "image/png": "[encoded data removed]",
            "text/plain": [
              "<Figure size 432x288 with 1 Axes>"
            ]
          },
          "metadata": {
            "needs_background": "light"
          },
          "output_type": "display_data"
        }
      ],
      "source": [
        "fig, ax = plt.subplots()\n",
        "losses = np.array(losses)\n",
        "plt.plot(losses.T[0], label='Discriminator', alpha=0.5)\n",
        "plt.plot(losses.T[1], label='Generator', alpha=0.5)\n",
        "plt.title(\"Training Losses\")\n",
        "plt.legend()"
      ]
    },
    {
      "cell_type": "code",
      "execution_count": 57,
      "metadata": {
        "id": "L1Z7EAgsz0_F"
      },
      "outputs": [],
      "source": [
        "def view_samples(epoch, samples):\n",
        "    fig, axes = plt.subplots(figsize=(16,4), nrows=1, ncols=10, sharey=True, sharex=True)\n",
        "    for ax, img in zip(axes.flatten(), samples[epoch]):\n",
        "        img = img.detach().cpu().numpy()\n",
        "        img = np.transpose(img, (1, 2, 0))\n",
        "        img = ((img + 1)*255 / (2)).astype(np.uint8)\n",
        "        ax.xaxis.set_visible(False)\n",
        "        ax.yaxis.set_visible(False)\n",
        "        im = ax.imshow(img.reshape((32,32)))"
      ]
    },
    {
      "cell_type": "code",
      "execution_count": 58,
      "metadata": {
        "id": "kup_RN5Kz0_F"
      },
      "outputs": [],
      "source": [
        "with open('train_samples.pkl', 'rb') as f:\n",
        "    samples = pkl.load(f)"
      ]
    },
    {
      "cell_type": "code",
      "execution_count": 59,
      "metadata": {
        "colab": {
          "base_uri": "https://localhost:8080/",
          "height": 110
        },
        "id": "gElKNglGz0_F",
        "outputId": "10c45d09-1862-485d-c265-974e2ee2d2a6"
      },
      "outputs": [
        {
          "data": {
            "image/png": "[encoded data removed]",
            "text/plain": [
              "<Figure size 1152x288 with 10 Axes>"
            ]
          },
          "metadata": {
            "needs_background": "light"
          },
          "output_type": "display_data"
        }
      ],
      "source": [
        "_ = view_samples(-1, samples)"
      ]
    },
    {
      "cell_type": "code",
      "execution_count": null,
      "metadata": {
        "id": "1T31wwHWz0_F"
      },
      "outputs": [],
      "source": []
    }
  ],
  "metadata": {
    "accelerator": "GPU",
    "colab": {
      "collapsed_sections": [],
      "provenance": []
    },
    "interpreter": {
      "hash": "99278881f82bfe3c8254359796cb0d029c551230a883d20106d9f2368012e3f4"
    },
    "kernelspec": {
      "display_name": "Python 3.10.6 ('metal')",
      "language": "python",
      "name": "python3"
    },
    "language_info": {
      "codemirror_mode": {
        "name": "ipython",
        "version": 3
      },
      "file_extension": ".py",
      "mimetype": "text/x-python",
      "name": "python",
      "nbconvert_exporter": "python",
      "pygments_lexer": "ipython3",
      "version": "3.10.6"
    },
    "orig_nbformat": 4
  },
  "nbformat": 4,
  "nbformat_minor": 0
}
