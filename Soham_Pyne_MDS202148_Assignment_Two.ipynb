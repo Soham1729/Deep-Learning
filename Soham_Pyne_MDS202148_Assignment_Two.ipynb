{
  "cells": [
    {
      "cell_type": "markdown",
      "metadata": {
        "id": "view-in-github",
        "colab_type": "text"
      },
      "source": [
        "<a href=\"https://colab.research.google.com/github/Soham1729/Deep-Learning/blob/main/Soham_Pyne_MDS202148_Assignment_Two.ipynb\" target=\"_parent\"><img src=\"https://colab.research.google.com/assets/colab-badge.svg\" alt=\"Open In Colab\"/></a>"
      ]
    },
    {
      "cell_type": "markdown",
      "metadata": {
        "id": "u8uAAu10z0-2"
      },
      "source": [
        "## Variational Autoencoder on Fashion MNIST dataset"
      ]
    },
    {
      "cell_type": "markdown",
      "metadata": {
        "id": "eBbqWQJGz0-3"
      },
      "source": [
        "#### Necessary libraries"
      ]
    },
    {
      "cell_type": "code",
      "execution_count": 1,
      "metadata": {
        "id": "fWacwQvBz0-4"
      },
      "outputs": [],
      "source": [
        "import pandas as pd\n",
        "import matplotlib.pyplot as plt\n",
        "import numpy as np\n",
        "import torch\n",
        "import torchvision\n",
        "import torch.nn.functional as fun\n",
        "import torch.nn as nn \n",
        "import torch.utils.data\n",
        "from torchvision import datasets\n",
        "from torch.utils.data import DataLoader\n",
        "from torchvision import transforms"
      ]
    },
    {
      "cell_type": "code",
      "execution_count": 2,
      "metadata": {
        "colab": {
          "base_uri": "https://localhost:8080/"
        },
        "id": "6uokj2Odz0-4",
        "outputId": "3aa09b93-a2b6-4ac9-bf3a-a7c79e0df5b6"
      },
      "outputs": [
        {
          "output_type": "stream",
          "name": "stdout",
          "text": [
            "cuda:0\n"
          ]
        }
      ],
      "source": [
        "device = torch.device(\"cuda:0\" if torch.cuda.is_available() else \"cpu\")\n",
        "print(device)"
      ]
    },
    {
      "cell_type": "code",
      "execution_count": 3,
      "metadata": {
        "id": "8ytl86Euz0-5"
      },
      "outputs": [],
      "source": [
        "# Convert vector to image\n",
        "def to_img(x):\n",
        "    x = 0.5 * (x + 1)\n",
        "    x = x.view(x.size(0), 28, 28)\n",
        "    return x\n",
        "\n",
        "\n",
        "# Display images, n=max number of images to show\n",
        "def display_images(in_raw, out_raw, n=1):\n",
        "    out_raw = out_raw[:n]\n",
        "    if in_raw is not None:\n",
        "        in_raw = in_raw[:n]\n",
        "        in_pic = to_img(in_raw.cpu().data).view(-1, 28, 28)\n",
        "        plt.figure(figsize=(18, 6))\n",
        "        for i in range(n):\n",
        "            plt.subplot(1,n,i+1)\n",
        "            plt.imshow(in_pic[i])\n",
        "            plt.axis('off')\n",
        "    out_pic = to_img(out_raw.cpu().data).view(-1, 28, 28)\n",
        "    plt.figure(figsize=(18, 6))\n",
        "    for i in range(n):   \n",
        "        plt.subplot(1,n,i+1)\n",
        "        plt.imshow(out_pic[i])\n",
        "        plt.axis('off')\n",
        "    plt.show()"
      ]
    },
    {
      "cell_type": "markdown",
      "metadata": {
        "id": "NSqyv2DBz0-5"
      },
      "source": [
        "#### Loading the dataset"
      ]
    },
    {
      "cell_type": "code",
      "execution_count": 4,
      "metadata": {
        "id": "OLIustDsz0-5"
      },
      "outputs": [],
      "source": [
        "# train_df = pd.read_csv('archive/fashion-mnist_train.csv')\n",
        "# test_df = pd.read_csv('archive/fashion-mnist_test.csv')"
      ]
    },
    {
      "cell_type": "markdown",
      "metadata": {
        "id": "idcJlcOMz0-5"
      },
      "source": [
        "#### Making Pytorch compatible"
      ]
    },
    {
      "cell_type": "code",
      "execution_count": 5,
      "metadata": {
        "id": "4L2EtcLAz0-5"
      },
      "outputs": [],
      "source": [
        "# labels_tensor = torch.tensor(train_df.label.values)\n",
        "# image_tensor = torch.tensor(train_df.iloc[:,1:].values)"
      ]
    },
    {
      "cell_type": "code",
      "execution_count": 6,
      "metadata": {
        "id": "hvZwQU5dz0-6"
      },
      "outputs": [],
      "source": [
        "# len(labels_tensor),len(image_tensor)"
      ]
    },
    {
      "cell_type": "markdown",
      "metadata": {
        "id": "pi9_oT5Bz0-6"
      },
      "source": [
        "#### Making a dataloader class"
      ]
    },
    {
      "cell_type": "code",
      "execution_count": 7,
      "metadata": {
        "colab": {
          "base_uri": "https://localhost:8080/",
          "height": 431,
          "referenced_widgets": [
            "f08d524a20c34ca6ab42a742c747b620",
            "d8d6a741e1ca435b8bf7c50e4b00a17a",
            "00cb959cda214056b2f01031fc13c480",
            "3662f8b1eed14b409a4a6a0a4dd8ccdf",
            "709111b5d1ab4fdf9b0880d222f976e3",
            "70e9181e77024763b024fc466f4c0327",
            "7a659bd16c5f4de8baf2ce7d1d2e0d18",
            "8df5118ba12a47f0b70e8cddbb13e7c8",
            "1f7703731c7342448987bf6957564955",
            "012c5d6865f74612ac711794690c38f0",
            "9addcefa5e644b6b89650abf096afed0",
            "3d4237324a164012b2746f6242ddf3de",
            "f472a00d85924e4195aa33bf23bea5e3",
            "9a4aa8241dd541179b2ffdeb2e91d5e9",
            "a22bd7750a7142ce82c4da838bd9adbd",
            "42f2380f117940bf896ab08557cb2413",
            "bc75ee26db7d41d28c53daafb16a35c8",
            "f7e578c02a6c4e9e8033d6be96650424",
            "dcddb93227e74d86b8a9b0da310cf2d3",
            "b18f82fb0052455c824ddb881550d50a",
            "43c01ca494cf434ba82faf093a3d5e06",
            "ee303b81461a4d8ca172182db6478411",
            "029036b5cf8844fab91f1e30947c1bdd",
            "a10bce6ca99044d6bd6e8271e00ae8b1",
            "ff0f08270ad64e9b8210abec2f78066f",
            "a96a19ba1d304df5865f111f9f16e5e1",
            "8fb9f70fec1e4945815765c1cd653ca5",
            "dc26d48f268d47339908573b5a278016",
            "997e2490dc3243449d636debf9fb9f71",
            "09e3def6366345ab85629f46f4998c9b",
            "b6f8ffcefd7342e1958ed74c05fbd4b2",
            "8d7a5c95f833492e854ec252b1b70de8",
            "1de884f6b161427d8615ea78bd9b57ef",
            "012415aab661441f999e9fcab655534d",
            "db3af41d2a364eeb95c78597b06a49ae",
            "b95d88f4e5774ccfbfc835c97e38bae2",
            "9030105aa8cc4f398c25416e0ef02c02",
            "e0a57b094b13482f874a88b55d9d6b5c",
            "8182ef60b77949e882b5d6c5826553d0",
            "1c23fa1ae29f4a22938178b6846f118a",
            "cefd84cddad3453e8f71e737bdaa56a8",
            "a7cfecd4396c4522985f0d4576b967f9",
            "276f91d3a8c14cdf9c5f51bd03dfdaed",
            "f2cfbcb887ce48858356e3d0fb970f91"
          ]
        },
        "id": "q6-PZACez0-6",
        "outputId": "bed90956-9b89-4e06-969b-759f28289aa7"
      },
      "outputs": [
        {
          "output_type": "stream",
          "name": "stdout",
          "text": [
            "Downloading http://fashion-mnist.s3-website.eu-central-1.amazonaws.com/train-images-idx3-ubyte.gz\n",
            "Downloading http://fashion-mnist.s3-website.eu-central-1.amazonaws.com/train-images-idx3-ubyte.gz to ../data/FashionMNIST/raw/train-images-idx3-ubyte.gz\n"
          ]
        },
        {
          "output_type": "display_data",
          "data": {
            "text/plain": [
              "  0%|          | 0/26421880 [00:00<?, ?it/s]"
            ],
            "application/vnd.jupyter.widget-view+json": {
              "version_major": 2,
              "version_minor": 0,
              "model_id": "f08d524a20c34ca6ab42a742c747b620"
            }
          },
          "metadata": {}
        },
        {
          "output_type": "stream",
          "name": "stdout",
          "text": [
            "Extracting ../data/FashionMNIST/raw/train-images-idx3-ubyte.gz to ../data/FashionMNIST/raw\n",
            "\n",
            "Downloading http://fashion-mnist.s3-website.eu-central-1.amazonaws.com/train-labels-idx1-ubyte.gz\n",
            "Downloading http://fashion-mnist.s3-website.eu-central-1.amazonaws.com/train-labels-idx1-ubyte.gz to ../data/FashionMNIST/raw/train-labels-idx1-ubyte.gz\n"
          ]
        },
        {
          "output_type": "display_data",
          "data": {
            "text/plain": [
              "  0%|          | 0/29515 [00:00<?, ?it/s]"
            ],
            "application/vnd.jupyter.widget-view+json": {
              "version_major": 2,
              "version_minor": 0,
              "model_id": "3d4237324a164012b2746f6242ddf3de"
            }
          },
          "metadata": {}
        },
        {
          "output_type": "stream",
          "name": "stdout",
          "text": [
            "Extracting ../data/FashionMNIST/raw/train-labels-idx1-ubyte.gz to ../data/FashionMNIST/raw\n",
            "\n",
            "Downloading http://fashion-mnist.s3-website.eu-central-1.amazonaws.com/t10k-images-idx3-ubyte.gz\n",
            "Downloading http://fashion-mnist.s3-website.eu-central-1.amazonaws.com/t10k-images-idx3-ubyte.gz to ../data/FashionMNIST/raw/t10k-images-idx3-ubyte.gz\n"
          ]
        },
        {
          "output_type": "display_data",
          "data": {
            "text/plain": [
              "  0%|          | 0/4422102 [00:00<?, ?it/s]"
            ],
            "application/vnd.jupyter.widget-view+json": {
              "version_major": 2,
              "version_minor": 0,
              "model_id": "029036b5cf8844fab91f1e30947c1bdd"
            }
          },
          "metadata": {}
        },
        {
          "output_type": "stream",
          "name": "stdout",
          "text": [
            "Extracting ../data/FashionMNIST/raw/t10k-images-idx3-ubyte.gz to ../data/FashionMNIST/raw\n",
            "\n",
            "Downloading http://fashion-mnist.s3-website.eu-central-1.amazonaws.com/t10k-labels-idx1-ubyte.gz\n",
            "Downloading http://fashion-mnist.s3-website.eu-central-1.amazonaws.com/t10k-labels-idx1-ubyte.gz to ../data/FashionMNIST/raw/t10k-labels-idx1-ubyte.gz\n"
          ]
        },
        {
          "output_type": "display_data",
          "data": {
            "text/plain": [
              "  0%|          | 0/5148 [00:00<?, ?it/s]"
            ],
            "application/vnd.jupyter.widget-view+json": {
              "version_major": 2,
              "version_minor": 0,
              "model_id": "012415aab661441f999e9fcab655534d"
            }
          },
          "metadata": {}
        },
        {
          "output_type": "stream",
          "name": "stdout",
          "text": [
            "Extracting ../data/FashionMNIST/raw/t10k-labels-idx1-ubyte.gz to ../data/FashionMNIST/raw\n",
            "\n"
          ]
        }
      ],
      "source": [
        "# Define data loading step\n",
        "\n",
        "img_transform = transforms.Compose([\n",
        "    transforms.ToTensor(),\n",
        "    transforms.Normalize((0.5,), (0.5,))\n",
        "])\n",
        "\n",
        "train_loader = torch.utils.data.DataLoader(\n",
        "    datasets.FashionMNIST('../data', train=True, download=True, transform=img_transform),\n",
        "    batch_size=256, shuffle=True)\n",
        "\n",
        "test_loader = torch.utils.data.DataLoader(\n",
        "    datasets.FashionMNIST('../data', train=False, transform=img_transform),\n",
        "    batch_size=32, shuffle=True)"
      ]
    },
    {
      "cell_type": "markdown",
      "metadata": {
        "id": "Yai_SUnrz0-6"
      },
      "source": [
        "#### Loss function"
      ]
    },
    {
      "cell_type": "code",
      "execution_count": 8,
      "metadata": {
        "id": "tK0w7vn1z0-6"
      },
      "outputs": [],
      "source": [
        "def loss_function(x_hat, x, mu, logvar, beta=1):\n",
        "    #recon_loss = nn.functional.binary_cross_entropy(\n",
        "    recon_loss = nn.functional.mse_loss(\n",
        "        x_hat, x.view(-1, 784), reduction='sum'\n",
        "    )\n",
        "    KLD = 0.5 * torch.sum(logvar.exp() - logvar - 1 + mu.pow(2))\n",
        "\n",
        "    return recon_loss + beta * KLD"
      ]
    },
    {
      "cell_type": "markdown",
      "metadata": {
        "id": "jZZWSsiIz0-6"
      },
      "source": [
        "#### Code for VAE"
      ]
    },
    {
      "cell_type": "code",
      "execution_count": 9,
      "metadata": {
        "id": "hQEslBsSz0-6"
      },
      "outputs": [],
      "source": [
        "class VAE(nn.Module):\n",
        "    def __init__(self, d=50):\n",
        "        super().__init__()\n",
        "        self.d = d #latent dimension\n",
        "        \n",
        "        self.encoder = nn.Sequential(\n",
        "            nn.Linear(784, d ** 2),\n",
        "            nn.ReLU(),\n",
        "            nn.Linear(d ** 2, d * 2) # we have mean and variance, each is d-dim vector\n",
        "        )\n",
        "\n",
        "        self.decoder = nn.Sequential(\n",
        "            nn.Linear(d, d ** 2),\n",
        "            nn.ReLU(),\n",
        "            nn.Linear(d ** 2, 784),\n",
        "            nn.Tanh()\n",
        "        )\n",
        "\n",
        "    def sampler(self, mu, logvar):\n",
        "        if self.training:\n",
        "            std = logvar.mul(0.5).exp_()\n",
        "            eps = std.new_empty(std.size()).normal_()\n",
        "            return eps.mul_(std).add_(mu)\n",
        "        else:\n",
        "            return mu\n",
        "\n",
        "    def forward(self, x):\n",
        "        mu_logvar = self.encoder(x.view(-1, 784)).view(-1, 2, self.d)\n",
        "        mu = mu_logvar[:, 0, :]\n",
        "        logvar = mu_logvar[:, 1, :]\n",
        "        z = self.sampler(mu, logvar)\n",
        "        return self.decoder(z), mu, logvar\n",
        "    \n",
        "    def generate(self, N=10):\n",
        "        z = torch.randn((N, self.d)).to(device)\n",
        "        gen_img = self.decoder(z)\n",
        "        return gen_img"
      ]
    },
    {
      "cell_type": "markdown",
      "metadata": {
        "id": "nqJAeu_az0-7"
      },
      "source": [
        "#### Training the VAE"
      ]
    },
    {
      "cell_type": "code",
      "execution_count": 10,
      "metadata": {
        "colab": {
          "base_uri": "https://localhost:8080/",
          "height": 1000
        },
        "id": "2DwPU_Hnz0-7",
        "outputId": "c23f61d2-4181-47a5-eeae-1bac2e5f411f"
      },
      "outputs": [
        {
          "output_type": "stream",
          "name": "stdout",
          "text": [
            "====> Test set loss: 534.8126\n"
          ]
        },
        {
          "output_type": "display_data",
          "data": {
            "text/plain": [
              "<Figure size 1296x432 with 4 Axes>"
            ],
            "image/png": "[encoded data removed]"
          },
          "metadata": {
            "needs_background": "light"
          }
        },
        {
          "output_type": "display_data",
          "data": {
            "text/plain": [
              "<Figure size 1296x432 with 4 Axes>"
            ],
            "image/png": "[encoded data removed]"
          },
          "metadata": {
            "needs_background": "light"
          }
        },
        {
          "output_type": "stream",
          "name": "stdout",
          "text": [
            "====> Epoch: 1 Average loss: 118.4992\n",
            "====> Test set loss: 77.4328\n"
          ]
        },
        {
          "output_type": "display_data",
          "data": {
            "text/plain": [
              "<Figure size 1296x432 with 4 Axes>"
            ],
            "image/png": "[encoded data removed]"
          },
          "metadata": {
            "needs_background": "light"
          }
        },
        {
          "output_type": "display_data",
          "data": {
            "text/plain": [
              "<Figure size 1296x432 with 4 Axes>"
            ],
            "image/png": "[encoded data removed]"
          },
          "metadata": {
            "needs_background": "light"
          }
        },
        {
          "output_type": "stream",
          "name": "stdout",
          "text": [
            "====> Epoch: 2 Average loss: 80.3487\n",
            "====> Test set loss: 69.5498\n"
          ]
        },
        {
          "output_type": "display_data",
          "data": {
            "text/plain": [
              "<Figure size 1296x432 with 4 Axes>"
            ],
            "image/png": "[encoded data removed]"
          },
          "metadata": {
            "needs_background": "light"
          }
        },
        {
          "output_type": "display_data",
          "data": {
            "text/plain": [
              "<Figure size 1296x432 with 4 Axes>"
            ],
            "image/png": "[encoded data removed]"
          },
          "metadata": {
            "needs_background": "light"
          }
        },
        {
          "output_type": "stream",
          "name": "stdout",
          "text": [
            "====> Epoch: 3 Average loss: 74.7882\n",
            "====> Test set loss: 66.1910\n"
          ]
        },
        {
          "output_type": "display_data",
          "data": {
            "text/plain": [
              "<Figure size 1296x432 with 4 Axes>"
            ],
            "image/png": "[encoded data removed]"
          },
          "metadata": {
            "needs_background": "light"
          }
        },
        {
          "output_type": "display_data",
          "data": {
            "text/plain": [
              "<Figure size 1296x432 with 4 Axes>"
            ],
            "image/png": "[encoded data removed]"
          },
          "metadata": {
            "needs_background": "light"
          }
        },
        {
          "output_type": "stream",
          "name": "stdout",
          "text": [
            "====> Epoch: 4 Average loss: 71.9103\n",
            "====> Test set loss: 64.1836\n"
          ]
        },
        {
          "output_type": "display_data",
          "data": {
            "text/plain": [
              "<Figure size 1296x432 with 4 Axes>"
            ],
            "image/png": "[encoded data removed]"
          },
          "metadata": {
            "needs_background": "light"
          }
        },
        {
          "output_type": "display_data",
          "data": {
            "text/plain": [
              "<Figure size 1296x432 with 4 Axes>"
            ],
            "image/png": "[encoded data removed]"
          },
          "metadata": {
            "needs_background": "light"
          }
        },
        {
          "output_type": "stream",
          "name": "stdout",
          "text": [
            "====> Epoch: 5 Average loss: 70.2459\n",
            "====> Test set loss: 62.2593\n"
          ]
        },
        {
          "output_type": "display_data",
          "data": {
            "text/plain": [
              "<Figure size 1296x432 with 4 Axes>"
            ],
            "image/png": "[encoded data removed]"
          },
          "metadata": {
            "needs_background": "light"
          }
        },
        {
          "output_type": "display_data",
          "data": {
            "text/plain": [
              "<Figure size 1296x432 with 4 Axes>"
            ],
            "image/png": "[encoded data removed]"
          },
          "metadata": {
            "needs_background": "light"
          }
        }
      ],
      "source": [
        "latent_dim=20\n",
        "model = VAE(latent_dim).to(device)\n",
        "\n",
        "# Setting the optimiser\n",
        "learning_rate = 1e-3\n",
        "optimizer = torch.optim.Adam(\n",
        "    model.parameters(),\n",
        "    lr=learning_rate,\n",
        ")\n",
        "\n",
        "epochs = 5\n",
        "codes = dict(mu=list(), logσ2=list(), y=list())\n",
        "for epoch in range(0, epochs + 1):\n",
        "    # Training\n",
        "    if epoch > 0:  # test untrained net first\n",
        "        model.train()\n",
        "        train_loss = 0\n",
        "        for x, _ in train_loader:\n",
        "            x = x.to(device)\n",
        "            # ===================forward=====================\n",
        "            x_hat, mu, logvar = model(x)\n",
        "            loss = loss_function(x_hat, x, mu, logvar)\n",
        "            train_loss += loss.item()\n",
        "            # ===================backward====================\n",
        "            optimizer.zero_grad()\n",
        "            loss.backward()\n",
        "            optimizer.step()\n",
        "        # ===================log========================\n",
        "        print(f'====> Epoch: {epoch} Average loss: {train_loss / len(train_loader.dataset):.4f}')\n",
        "    \n",
        "    # Testing\n",
        "    means, logvars, labels = list(), list(), list()\n",
        "    with torch.no_grad():\n",
        "        model.eval()\n",
        "        test_loss = 0\n",
        "        for x, y in test_loader:\n",
        "            x = x.to(device)\n",
        "            # ===================forward=====================\n",
        "            x_hat, mu, logvar = model(x)\n",
        "            test_loss += loss_function(x_hat, x, mu, logvar).item()\n",
        "            # =====================log=======================\n",
        "            means.append(mu.detach())\n",
        "            logvars.append(logvar.detach())\n",
        "            labels.append(y.detach())\n",
        "    # ===================log========================\n",
        "    codes['mu'].append(torch.cat(means))\n",
        "    codes['logσ2'].append(torch.cat(logvars))\n",
        "    codes['y'].append(torch.cat(labels))\n",
        "    test_loss /= len(test_loader.dataset)\n",
        "    print(f'====> Test set loss: {test_loss:.4f}')\n",
        "    display_images(x, x_hat, 4)"
      ]
    },
    {
      "cell_type": "markdown",
      "metadata": {
        "id": "_jeMrC5Uz0_B"
      },
      "source": [
        "## GAN"
      ]
    },
    {
      "cell_type": "code",
      "execution_count": 11,
      "metadata": {
        "id": "sHPLBr4Uz0_C"
      },
      "outputs": [],
      "source": [
        "import torch\n",
        "import torch.nn as nn\n",
        "import torch.nn.functional as F\n",
        "from torch.utils.data import DataLoader\n",
        "from torchvision import datasets, transforms, models\n",
        "from torchvision.utils import make_grid\n",
        "\n",
        "from PIL import Image\n",
        "from IPython.display import display\n",
        "#import cv2\n",
        "\n",
        "\n",
        "import glob\n",
        "import os\n",
        "import random\n",
        "import numpy as np\n",
        "import pandas as pd\n",
        "import pickle as pkl\n",
        "import matplotlib.pyplot as plt \n",
        "%matplotlib inline\n",
        "import warnings\n",
        "warnings.filterwarnings('ignore')"
      ]
    },
    {
      "cell_type": "code",
      "execution_count": 12,
      "metadata": {
        "id": "XwkvRmwQz0_C"
      },
      "outputs": [],
      "source": [
        "def seed_everything(seed=1234):\n",
        "    random.seed(seed)\n",
        "    os.environ['PYTHONHASHSEED'] = str(seed)\n",
        "    np.random.seed(seed)\n",
        "    torch.manual_seed(seed)\n",
        "    torch.cuda.manual_seed(seed)\n",
        "    torch.backends.cudnn.deterministic = True\n",
        "seed_everything(42)"
      ]
    },
    {
      "cell_type": "code",
      "execution_count": 46,
      "metadata": {
        "id": "SGPRu0Puz0_C"
      },
      "outputs": [],
      "source": [
        "transform_img = transforms.Compose([\n",
        "        transforms.Resize(32),  \n",
        "        transforms.CenterCrop(32),\n",
        "        transforms.ToTensor()\n",
        "    ])\n",
        "\n",
        "batch_size = 32"
      ]
    },
    {
      "cell_type": "code",
      "execution_count": 42,
      "metadata": {
        "id": "vCVDlZrSz0_C"
      },
      "outputs": [],
      "source": [
        "def get_dataloader(batch_size, transforms):\n",
        "    \n",
        "    data_loader = torch.utils.data.DataLoader(datasets.FashionMNIST('../data', train=True, download=True, transform=transforms),batch_size=batch_size, shuffle=True)\n",
        "\n",
        "    return data_loader"
      ]
    },
    {
      "cell_type": "code",
      "execution_count": 43,
      "metadata": {
        "id": "cXN3uN67z0_C"
      },
      "outputs": [],
      "source": [
        "train_loader_GAN = get_dataloader(batch_size,transform_img)"
      ]
    },
    {
      "cell_type": "code",
      "execution_count": 44,
      "metadata": {
        "colab": {
          "base_uri": "https://localhost:8080/"
        },
        "id": "iZ7S1jMkz0_C",
        "outputId": "a274e229-9f9c-4f63-ceb2-f7d43fa36be9"
      },
      "outputs": [
        {
          "output_type": "stream",
          "name": "stdout",
          "text": [
            "1875\n"
          ]
        }
      ],
      "source": [
        "print(len(train_loader_GAN))"
      ]
    },
    {
      "cell_type": "code",
      "execution_count": 16,
      "metadata": {
        "id": "V5nfDNlmz0_C"
      },
      "outputs": [],
      "source": []
    },
    {
      "cell_type": "code",
      "execution_count": 47,
      "metadata": {
        "id": "5EI_xZ2qz0_C"
      },
      "outputs": [],
      "source": [
        "img,_ = next(iter(train_loader_GAN))\n",
        "# fig = plt.figure(figsize=(30, 7))\n",
        "# plot_size=30 # gonna plot 30 images only\n",
        "# for idx in np.arange(plot_size):\n",
        "#     ax = fig.add_subplot(3, int(plot_size/3), idx+1, xticks=[], yticks=[])\n",
        "#     npimg = img[idx].numpy()\n",
        "#     plt.imshow(np.transpose(npimg, (1, 2, 0)))"
      ]
    },
    {
      "cell_type": "code",
      "source": [
        "def scale_images(x, max = 1.00 , min = -1.00):\n",
        "    x = x * (max - min) + min\n",
        "    return x"
      ],
      "metadata": {
        "id": "i2rLWIvt1smP"
      },
      "execution_count": 48,
      "outputs": []
    },
    {
      "cell_type": "code",
      "execution_count": 49,
      "metadata": {
        "colab": {
          "base_uri": "https://localhost:8080/"
        },
        "id": "h0lDIQhwz0_D",
        "outputId": "fbf3f819-c895-4e07-9e78-7c39bf2841b4"
      },
      "outputs": [
        {
          "output_type": "stream",
          "name": "stdout",
          "text": [
            "Before scaling min:  tensor(0.)\n",
            "Before scaling max:  tensor(0.9020)\n",
            "After Scaling Min:  tensor(-1.)\n",
            "After Scaling Max:  tensor(0.8039)\n"
          ]
        }
      ],
      "source": [
        "img = img[5]\n",
        "print('Before scaling min: ', img.min())\n",
        "print('Before scaling max: ', img.max())\n",
        "\n",
        "scaled_img = scale_images(img)\n",
        "\n",
        "print('After Scaling Min: ', scaled_img.min())\n",
        "print('After Scaling Max: ', scaled_img.max())"
      ]
    },
    {
      "cell_type": "code",
      "execution_count": 20,
      "metadata": {
        "id": "kgh0W0k_z0_D"
      },
      "outputs": [],
      "source": []
    },
    {
      "cell_type": "markdown",
      "metadata": {
        "id": "-sQvgCpVz0_D"
      },
      "source": [
        "### Discriminator"
      ]
    },
    {
      "cell_type": "code",
      "execution_count": 21,
      "metadata": {
        "id": "i6W4qkN4z0_D"
      },
      "outputs": [],
      "source": [
        "def conv(in_channels, out_channels, kernel_size=4, stride=2, padding=1, batch_norm=True, bias = False):\n",
        "    layers = []\n",
        "    conv_layer = nn.Conv2d(in_channels=in_channels, out_channels=out_channels, \n",
        "                           kernel_size=kernel_size, stride=stride, padding=padding)\n",
        "    #appending convolutional layer\n",
        "    layers.append(conv_layer)\n",
        "    #appending batch norm layer\n",
        "    if batch_norm:\n",
        "        layers.append(nn.BatchNorm2d(out_channels))\n",
        "        \n",
        "    return nn.Sequential(*layers)"
      ]
    },
    {
      "cell_type": "code",
      "execution_count": 22,
      "metadata": {
        "id": "dhtrH2yMz0_D"
      },
      "outputs": [],
      "source": [
        "class Discriminator(nn.Module):\n",
        "    \n",
        "    def __init__(self, conv_dim):\n",
        "        \"\"\"\n",
        "        Initializing the Discriminator Module\n",
        "        :param conv_dim: The depth of the first convolutional layer based on which we will create the  next ones where next  layer depth = 2 * previous layer depth\n",
        "        \"\"\"\n",
        "        super(Discriminator, self).__init__()\n",
        "\n",
        "        # complete init function\n",
        "        self.conv_dim = conv_dim\n",
        "        \n",
        "        \n",
        "        self.conv1 = conv(1, conv_dim, batch_norm=False)  \n",
        "        self.conv2 = conv(conv_dim, conv_dim*2)           \n",
        "        self.conv3 = conv(conv_dim*2, conv_dim*4)\n",
        "        self.conv4 = conv(conv_dim*4, conv_dim*8)\n",
        "        self.fc = nn.Linear(conv_dim*4*4*2, 1)\n",
        "\n",
        "    def forward(self, x):\n",
        "        \"\"\"\n",
        "        Forward propagation of the neural network\n",
        "        :param x: The input to the neural network     \n",
        "        :return: Discriminator logits; the output of the neural network\n",
        "        \"\"\"\n",
        "        # define feedforward behavior\n",
        "        x = F.leaky_relu(self.conv1(x), 0.2)\n",
        "        x = F.leaky_relu(self.conv2(x), 0.2)\n",
        "        x = F.leaky_relu(self.conv3(x), 0.2)\n",
        "        x = F.leaky_relu(self.conv4(x), 0.2)\n",
        "        \n",
        "        x = x.view(-1, self.conv_dim*4*2*4)\n",
        "        \n",
        "        x = self.fc(x)\n",
        "        \n",
        "        \n",
        "        return x"
      ]
    },
    {
      "cell_type": "markdown",
      "metadata": {
        "id": "n1It3ww_z0_D"
      },
      "source": [
        "### Generator"
      ]
    },
    {
      "cell_type": "code",
      "execution_count": 23,
      "metadata": {
        "id": "dFkKR0F-z0_D"
      },
      "outputs": [],
      "source": [
        "def deconv(in_channels, out_channels, kernel_size=4, stride=2, padding=1, batch_norm=True, bias = False):\n",
        "    layers = []\n",
        "    \n",
        "    # append transpose conv layer -- we are not using bias terms in conv layers\n",
        "    layers.append(nn.ConvTranspose2d(in_channels, out_channels, kernel_size, stride, padding))\n",
        "    \n",
        "    # optional batch norm layer\n",
        "    if batch_norm:\n",
        "        layers.append(nn.BatchNorm2d(out_channels))\n",
        "        \n",
        "    return nn.Sequential(*layers)"
      ]
    },
    {
      "cell_type": "code",
      "execution_count": 24,
      "metadata": {
        "id": "iF9rQmekz0_D"
      },
      "outputs": [],
      "source": [
        "class Generator(nn.Module):\n",
        "    \n",
        "    def __init__(self, z_size, conv_dim):\n",
        "        \"\"\"\n",
        "        Initialize the Generator Module\n",
        "        :param z_size: The length of the input latent vector, z\n",
        "        :param conv_dim: The depth of the inputs to the *last* transpose convolutional layer\n",
        "        \"\"\"\n",
        "        super(Generator, self).__init__()\n",
        "        self.conv_dim = conv_dim\n",
        "        \n",
        "        self.fc = nn.Linear(z_size, conv_dim*4*4*4)\n",
        "        # complete init function\n",
        "        \n",
        "        self.de_conv1 = deconv(conv_dim*4, conv_dim*2)\n",
        "        self.de_conv2 = deconv(conv_dim*2, conv_dim)\n",
        "        self.de_conv3 = deconv(conv_dim, 1, 4, batch_norm=False )\n",
        "        \n",
        "        self.dropout = nn.Dropout(0.3)\n",
        "        \n",
        "        \n",
        "    def forward(self, x):\n",
        "        \"\"\"\n",
        "        Forward propagation of the neural network\n",
        "        :param x: The input to the neural network     \n",
        "        :return: A 32x32x3 Tensor image as output\n",
        "        \"\"\"\n",
        "        # define feedforward behavior\n",
        "        x = self.fc(x)\n",
        "        x = self.dropout(x)\n",
        "        \n",
        "        x = x.view(-1, self.conv_dim*4, 4, 4)\n",
        "        \n",
        "        x = F.relu(self.de_conv1(x))\n",
        "        x = F.relu(self.de_conv2(x))\n",
        "        x = self.de_conv3(x)\n",
        "        x = F.tanh(x)\n",
        "        \n",
        "        \n",
        "        return x"
      ]
    },
    {
      "cell_type": "code",
      "execution_count": 25,
      "metadata": {
        "id": "QtptYyWHz0_D"
      },
      "outputs": [],
      "source": [
        "def weights_init_normal(m):\n",
        "    \"\"\"\n",
        "    :param m: A module or layer in a network    \n",
        "    \"\"\"\n",
        "    # like `Conv`, `BatchNorm2d`, `Linear`, etc.\n",
        "    classname = m.__class__.__name__\n",
        "    \n",
        "    #  initial weights to convolutional and linear layers\n",
        "    if (classname.find('Conv') != -1 or classname.find('Linear') != -1):\n",
        "        nn.init.normal(m.weight.data, 0.0, 0.2)\n",
        "        \n",
        "    if hasattr(m, 'bias') and m.bias is not None:\n",
        "        nn.init.constant(m.bias.data, 0.0)"
      ]
    },
    {
      "cell_type": "code",
      "execution_count": 50,
      "metadata": {
        "colab": {
          "base_uri": "https://localhost:8080/"
        },
        "id": "PMIAr6Bez0_D",
        "outputId": "98e924d9-330d-4b69-dcae-a119d92abe17"
      },
      "outputs": [
        {
          "output_type": "stream",
          "name": "stdout",
          "text": [
            "done\n"
          ]
        }
      ],
      "source": [
        "d_conv_dim = 64\n",
        "g_conv_dim = 128\n",
        "z_size = 100\n",
        "# building discriminator and generator from the classes defined above\n",
        "discriminator = Discriminator(d_conv_dim)\n",
        "generator = Generator(z_size=z_size, conv_dim=g_conv_dim)\n",
        "\n",
        "# initialize model weights\n",
        "discriminator.apply(weights_init_normal)\n",
        "generator.apply(weights_init_normal)\n",
        "print(\"done\")"
      ]
    },
    {
      "cell_type": "code",
      "execution_count": 51,
      "metadata": {
        "colab": {
          "base_uri": "https://localhost:8080/"
        },
        "id": "2wZdXb0Vz0_E",
        "outputId": "53205dad-b2ad-478f-c0c8-19073bdf4d54"
      },
      "outputs": [
        {
          "output_type": "stream",
          "name": "stdout",
          "text": [
            "Discriminator(\n",
            "  (conv1): Sequential(\n",
            "    (0): Conv2d(1, 64, kernel_size=(4, 4), stride=(2, 2), padding=(1, 1))\n",
            "  )\n",
            "  (conv2): Sequential(\n",
            "    (0): Conv2d(64, 128, kernel_size=(4, 4), stride=(2, 2), padding=(1, 1))\n",
            "    (1): BatchNorm2d(128, eps=1e-05, momentum=0.1, affine=True, track_running_stats=True)\n",
            "  )\n",
            "  (conv3): Sequential(\n",
            "    (0): Conv2d(128, 256, kernel_size=(4, 4), stride=(2, 2), padding=(1, 1))\n",
            "    (1): BatchNorm2d(256, eps=1e-05, momentum=0.1, affine=True, track_running_stats=True)\n",
            "  )\n",
            "  (conv4): Sequential(\n",
            "    (0): Conv2d(256, 512, kernel_size=(4, 4), stride=(2, 2), padding=(1, 1))\n",
            "    (1): BatchNorm2d(512, eps=1e-05, momentum=0.1, affine=True, track_running_stats=True)\n",
            "  )\n",
            "  (fc): Linear(in_features=2048, out_features=1, bias=True)\n",
            ")\n"
          ]
        }
      ],
      "source": [
        "print(discriminator)"
      ]
    },
    {
      "cell_type": "code",
      "execution_count": 52,
      "metadata": {
        "colab": {
          "base_uri": "https://localhost:8080/"
        },
        "id": "w8jZN4Xqz0_E",
        "outputId": "219cfa4f-395e-4d95-aad9-19ad8c1d55af"
      },
      "outputs": [
        {
          "output_type": "stream",
          "name": "stdout",
          "text": [
            "Generator(\n",
            "  (fc): Linear(in_features=100, out_features=8192, bias=True)\n",
            "  (de_conv1): Sequential(\n",
            "    (0): ConvTranspose2d(512, 256, kernel_size=(4, 4), stride=(2, 2), padding=(1, 1))\n",
            "    (1): BatchNorm2d(256, eps=1e-05, momentum=0.1, affine=True, track_running_stats=True)\n",
            "  )\n",
            "  (de_conv2): Sequential(\n",
            "    (0): ConvTranspose2d(256, 128, kernel_size=(4, 4), stride=(2, 2), padding=(1, 1))\n",
            "    (1): BatchNorm2d(128, eps=1e-05, momentum=0.1, affine=True, track_running_stats=True)\n",
            "  )\n",
            "  (de_conv3): Sequential(\n",
            "    (0): ConvTranspose2d(128, 1, kernel_size=(4, 4), stride=(2, 2), padding=(1, 1))\n",
            "  )\n",
            "  (dropout): Dropout(p=0.3, inplace=False)\n",
            ")\n"
          ]
        }
      ],
      "source": [
        "# let's look at our generator model\n",
        "print(generator)"
      ]
    },
    {
      "cell_type": "markdown",
      "metadata": {
        "id": "x8fpTP5Ez0_E"
      },
      "source": [
        "### Training the model"
      ]
    },
    {
      "cell_type": "code",
      "execution_count": 53,
      "metadata": {
        "id": "1kzBTb6Oz0_E"
      },
      "outputs": [],
      "source": [
        "lr = 0.0002 #learning rate\n",
        "beta1=0.5\n",
        "beta2=0.999\n",
        "\n",
        "# optimizers for the discriminator D and generator G\n",
        "discriminator_optimizer = torch.optim.Adam(discriminator.parameters(), lr, (beta1, beta2)) # for discriminator\n",
        "generator_optimizer = torch.optim.Adam(generator.parameters(), lr, (beta1, beta2)) # for generator"
      ]
    },
    {
      "cell_type": "code",
      "execution_count": 54,
      "metadata": {
        "id": "vi6kI-p3z0_E"
      },
      "outputs": [],
      "source": [
        "use_gpu = torch.cuda.is_available()"
      ]
    },
    {
      "cell_type": "code",
      "execution_count": 55,
      "metadata": {
        "id": "_Fu7jLocz0_E"
      },
      "outputs": [],
      "source": [
        "def real_loss(D_out, smooth = False):\n",
        "    '''Calculates how close discriminator outputs are to being real.\n",
        "       param, D_out: discriminator logits\n",
        "       return: real loss'''\n",
        "    batch_size = D_out.size(0)\n",
        "    \n",
        "    if smooth:\n",
        "        labels = torch.ones(batch_size)*0.9\n",
        "    else:\n",
        "        labels = torch.ones(batch_size) \n",
        "    \n",
        "    if use_gpu:\n",
        "        labels = labels.cuda()\n",
        "    \n",
        "    criterion = nn.BCEWithLogitsLoss()\n",
        "    loss = criterion(D_out.squeeze(), labels)\n",
        "    \n",
        "    return loss\n",
        "\n",
        "def fake_loss(D_out):\n",
        "    '''Calculates how close discriminator outputs are to being fake.\n",
        "       param, D_out: discriminator logits\n",
        "       return: fake loss'''\n",
        "    batch_size = D_out.size(0)\n",
        "    labels = torch.zeros(batch_size)\n",
        "    \n",
        "    if use_gpu:\n",
        "        labels = labels.cuda()\n",
        "        \n",
        "    criterion = nn.BCEWithLogitsLoss()\n",
        "    loss = criterion(D_out.squeeze(), labels)\n",
        "    \n",
        "    return loss"
      ]
    },
    {
      "cell_type": "code",
      "execution_count": 56,
      "metadata": {
        "id": "_fmtOka-z0_E"
      },
      "outputs": [],
      "source": [
        "def train(D, G, n_epochs, train_on_gpu, print_every=50):\n",
        "    '''Trains adversarial networks for some number of epochs\n",
        "       param, D: the discriminator network\n",
        "       param, G: the generator network\n",
        "       param, n_epochs: number of epochs to train for\n",
        "       param, print_every: when to print and record the models' losses\n",
        "       return: D and G losses'''\n",
        "    \n",
        "    # move models to GPU\n",
        "    if train_on_gpu:\n",
        "        D.cuda()\n",
        "        G.cuda()\n",
        "\n",
        "    # keep track of loss and generated, \"fake\" samples\n",
        "    samples = []\n",
        "    losses = []\n",
        "\n",
        "    # Get some fixed data for sampling. These are images that are held\n",
        "    # constant throughout training, and allow us to inspect the model's performance\n",
        "    sample_size=16\n",
        "    fixed_z = np.random.uniform(-1, 1, size=(sample_size, z_size))\n",
        "    fixed_z = torch.from_numpy(fixed_z).float()\n",
        "    # move z to GPU if available\n",
        "    if train_on_gpu:\n",
        "        fixed_z = fixed_z.cuda()\n",
        "\n",
        "    # epoch training loop\n",
        "    for epoch in range(n_epochs):\n",
        "\n",
        "        # batch training loop\n",
        "        for batch_i, (real_images, _) in enumerate(train_loader_GAN):\n",
        "\n",
        "            batch_size = real_images.size(0)\n",
        "            real_images = scale_images(real_images)\n",
        "\n",
        "            # Train the discriminator on real and fake images\n",
        "            discriminator_optimizer.zero_grad()\n",
        "            \n",
        "            if train_on_gpu:\n",
        "                real_images = real_images.cuda()\n",
        "                \n",
        "            D_real = D(real_images)\n",
        "            d_real_loss = real_loss(D_real)\n",
        "\n",
        "            z = np.random.uniform(-1, 1, size=(batch_size, z_size))\n",
        "            z = torch.from_numpy(z).float()\n",
        "\n",
        "            if train_on_gpu:\n",
        "                z = z.cuda()\n",
        "                \n",
        "            fake_images = G(z)\n",
        "            \n",
        "            D_fake = D(fake_images)\n",
        "            d_fake_loss = fake_loss(D_fake)\n",
        "            \n",
        "            \n",
        "            d_loss = d_real_loss + d_fake_loss\n",
        "            d_loss.backward()\n",
        "            discriminator_optimizer.step()     \n",
        "\n",
        "            # 2. Train the generator with an adversarial loss\n",
        "            generator_optimizer.zero_grad()\n",
        "            \n",
        "            z = np.random.uniform(-1, 1, size=(batch_size, z_size))\n",
        "            z = torch.from_numpy(z).float()\n",
        "            \n",
        "            if train_on_gpu:\n",
        "                z = z.cuda()\n",
        "            \n",
        "            fake_images = G(z)\n",
        "            \n",
        "            D_fake = D(fake_images)\n",
        "            \n",
        "            g_loss = real_loss(D_fake)\n",
        "        \n",
        "            g_loss.backward()\n",
        "            generator_optimizer.step()\n",
        "            \n",
        "            # Print some loss stats\n",
        "            if batch_i % print_every == 0:\n",
        "                # append discriminator loss and generator loss\n",
        "                losses.append((d_loss.item(), g_loss.item()))\n",
        "                # print discriminator and generator loss\n",
        "                print('Epoch [{:5d}/{:5d}] | d_loss: {:6.4f} | g_loss: {:6.4f}'.format(\n",
        "                        epoch+1, n_epochs, d_loss.item(), g_loss.item()))\n",
        "\n",
        "\n",
        "        ## AFTER EACH EPOCH##    \n",
        "        # this code assumes your generator is named G, feel free to change the name\n",
        "        # generate and save sample, fake images\n",
        "        G.eval() # for generating samples\n",
        "        samples_z = G(fixed_z)\n",
        "        samples.append(samples_z)\n",
        "        G.train() # back to training mode\n",
        "\n",
        "    # Save training generator samples\n",
        "    with open('train_samples.pkl', 'wb') as f:\n",
        "        pkl.dump(samples, f)\n",
        "    \n",
        "    # finally return losses\n",
        "    return losses"
      ]
    },
    {
      "cell_type": "code",
      "execution_count": 57,
      "metadata": {
        "colab": {
          "base_uri": "https://localhost:8080/"
        },
        "id": "7kAZOjISz0_E",
        "outputId": "6cd83ca4-8801-4493-de22-1b2868798217"
      },
      "outputs": [
        {
          "output_type": "stream",
          "name": "stdout",
          "text": [
            "Epoch [    1/    4] | d_loss: 7.2157 | g_loss: 1.8375\n",
            "Epoch [    1/    4] | d_loss: 0.0110 | g_loss: 9.6923\n",
            "Epoch [    1/    4] | d_loss: 0.3006 | g_loss: 9.0282\n",
            "Epoch [    1/    4] | d_loss: 0.0136 | g_loss: 13.5516\n",
            "Epoch [    1/    4] | d_loss: 0.0160 | g_loss: 10.6075\n",
            "Epoch [    1/    4] | d_loss: 0.0016 | g_loss: 10.3207\n",
            "Epoch [    1/    4] | d_loss: 0.0024 | g_loss: 12.2835\n",
            "Epoch [    1/    4] | d_loss: 0.0269 | g_loss: 8.9823\n",
            "Epoch [    1/    4] | d_loss: 0.0015 | g_loss: 12.8798\n",
            "Epoch [    1/    4] | d_loss: 0.0036 | g_loss: 11.9879\n",
            "Epoch [    1/    4] | d_loss: 0.0094 | g_loss: 12.6164\n",
            "Epoch [    1/    4] | d_loss: 0.0394 | g_loss: 10.8569\n",
            "Epoch [    1/    4] | d_loss: 0.0023 | g_loss: 12.2806\n",
            "Epoch [    1/    4] | d_loss: 0.0020 | g_loss: 11.0578\n",
            "Epoch [    1/    4] | d_loss: 0.0024 | g_loss: 11.0371\n",
            "Epoch [    1/    4] | d_loss: 0.0032 | g_loss: 11.0876\n",
            "Epoch [    1/    4] | d_loss: 0.0007 | g_loss: 11.3749\n",
            "Epoch [    1/    4] | d_loss: 0.0023 | g_loss: 13.6032\n",
            "Epoch [    1/    4] | d_loss: 0.0145 | g_loss: 12.5965\n",
            "Epoch [    1/    4] | d_loss: 0.0115 | g_loss: 14.3537\n",
            "Epoch [    1/    4] | d_loss: 0.0169 | g_loss: 12.6189\n",
            "Epoch [    1/    4] | d_loss: 0.0017 | g_loss: 11.3247\n",
            "Epoch [    1/    4] | d_loss: 0.0045 | g_loss: 12.1077\n",
            "Epoch [    1/    4] | d_loss: 0.0003 | g_loss: 13.2852\n",
            "Epoch [    1/    4] | d_loss: 0.0003 | g_loss: 14.3536\n",
            "Epoch [    1/    4] | d_loss: 0.0008 | g_loss: 11.6618\n",
            "Epoch [    1/    4] | d_loss: 0.0001 | g_loss: 11.8547\n",
            "Epoch [    1/    4] | d_loss: 0.0001 | g_loss: 14.2148\n",
            "Epoch [    1/    4] | d_loss: 0.0004 | g_loss: 14.5099\n",
            "Epoch [    1/    4] | d_loss: 0.0020 | g_loss: 12.9509\n",
            "Epoch [    1/    4] | d_loss: 0.0490 | g_loss: 15.2219\n",
            "Epoch [    1/    4] | d_loss: 0.0090 | g_loss: 17.0152\n",
            "Epoch [    1/    4] | d_loss: 0.0001 | g_loss: 16.8945\n",
            "Epoch [    1/    4] | d_loss: 0.0026 | g_loss: 11.7598\n",
            "Epoch [    1/    4] | d_loss: 0.0231 | g_loss: 13.1529\n",
            "Epoch [    1/    4] | d_loss: 0.0011 | g_loss: 6.4886\n",
            "Epoch [    1/    4] | d_loss: 0.0006 | g_loss: 14.6028\n",
            "Epoch [    1/    4] | d_loss: 0.0098 | g_loss: 5.3801\n",
            "Epoch [    2/    4] | d_loss: 0.0177 | g_loss: 11.9533\n",
            "Epoch [    2/    4] | d_loss: 0.0109 | g_loss: 11.7350\n",
            "Epoch [    2/    4] | d_loss: 0.0033 | g_loss: 10.3368\n",
            "Epoch [    2/    4] | d_loss: 0.0010 | g_loss: 12.2659\n",
            "Epoch [    2/    4] | d_loss: 0.0023 | g_loss: 10.7095\n",
            "Epoch [    2/    4] | d_loss: 0.0003 | g_loss: 12.2809\n",
            "Epoch [    2/    4] | d_loss: 0.0130 | g_loss: 16.8339\n",
            "Epoch [    2/    4] | d_loss: 0.0018 | g_loss: 12.2656\n",
            "Epoch [    2/    4] | d_loss: 0.0012 | g_loss: 9.5148\n",
            "Epoch [    2/    4] | d_loss: 0.0195 | g_loss: 7.5285\n",
            "Epoch [    2/    4] | d_loss: 0.0028 | g_loss: 9.1642\n",
            "Epoch [    2/    4] | d_loss: 0.1219 | g_loss: 9.9245\n",
            "Epoch [    2/    4] | d_loss: 0.0650 | g_loss: 13.2217\n",
            "Epoch [    2/    4] | d_loss: 0.0935 | g_loss: 4.8105\n",
            "Epoch [    2/    4] | d_loss: 0.0313 | g_loss: 9.3698\n",
            "Epoch [    2/    4] | d_loss: 0.0191 | g_loss: 10.5970\n",
            "Epoch [    2/    4] | d_loss: 0.0732 | g_loss: 8.5596\n",
            "Epoch [    2/    4] | d_loss: 0.0121 | g_loss: 12.5822\n",
            "Epoch [    2/    4] | d_loss: 0.0308 | g_loss: 10.4082\n",
            "Epoch [    2/    4] | d_loss: 0.4413 | g_loss: 11.1629\n",
            "Epoch [    2/    4] | d_loss: 0.0021 | g_loss: 9.1160\n",
            "Epoch [    2/    4] | d_loss: 0.0017 | g_loss: 10.1342\n",
            "Epoch [    2/    4] | d_loss: 0.0193 | g_loss: 3.1950\n",
            "Epoch [    2/    4] | d_loss: 0.0109 | g_loss: 9.9601\n",
            "Epoch [    2/    4] | d_loss: 0.0236 | g_loss: 10.1955\n",
            "Epoch [    2/    4] | d_loss: 0.0448 | g_loss: 11.5434\n",
            "Epoch [    2/    4] | d_loss: 0.0107 | g_loss: 11.9574\n",
            "Epoch [    2/    4] | d_loss: 0.0034 | g_loss: 6.7624\n",
            "Epoch [    2/    4] | d_loss: 0.0448 | g_loss: 12.3208\n",
            "Epoch [    2/    4] | d_loss: 0.0318 | g_loss: 11.3701\n",
            "Epoch [    2/    4] | d_loss: 0.0082 | g_loss: 6.4325\n",
            "Epoch [    2/    4] | d_loss: 0.0129 | g_loss: 8.3565\n",
            "Epoch [    2/    4] | d_loss: 0.0282 | g_loss: 10.2291\n",
            "Epoch [    2/    4] | d_loss: 0.1213 | g_loss: 8.2864\n",
            "Epoch [    2/    4] | d_loss: 0.0152 | g_loss: 8.6628\n",
            "Epoch [    2/    4] | d_loss: 0.0117 | g_loss: 5.8694\n",
            "Epoch [    2/    4] | d_loss: 0.0322 | g_loss: 6.9377\n",
            "Epoch [    2/    4] | d_loss: 0.0201 | g_loss: 9.1425\n",
            "Epoch [    3/    4] | d_loss: 0.0305 | g_loss: 9.8379\n",
            "Epoch [    3/    4] | d_loss: 0.0051 | g_loss: 6.2037\n",
            "Epoch [    3/    4] | d_loss: 0.0064 | g_loss: 7.6684\n",
            "Epoch [    3/    4] | d_loss: 0.0104 | g_loss: 6.8595\n",
            "Epoch [    3/    4] | d_loss: 0.0260 | g_loss: 7.9820\n",
            "Epoch [    3/    4] | d_loss: 0.0066 | g_loss: 7.8507\n",
            "Epoch [    3/    4] | d_loss: 0.0112 | g_loss: 5.0834\n",
            "Epoch [    3/    4] | d_loss: 0.1204 | g_loss: 8.7158\n",
            "Epoch [    3/    4] | d_loss: 0.0870 | g_loss: 13.4217\n",
            "Epoch [    3/    4] | d_loss: 0.0013 | g_loss: 12.2780\n",
            "Epoch [    3/    4] | d_loss: 0.0246 | g_loss: 7.7248\n",
            "Epoch [    3/    4] | d_loss: 0.0224 | g_loss: 10.5478\n",
            "Epoch [    3/    4] | d_loss: 0.0493 | g_loss: 9.0824\n",
            "Epoch [    3/    4] | d_loss: 0.0148 | g_loss: 8.1851\n",
            "Epoch [    3/    4] | d_loss: 0.0056 | g_loss: 13.1061\n",
            "Epoch [    3/    4] | d_loss: 0.0110 | g_loss: 11.5258\n",
            "Epoch [    3/    4] | d_loss: 0.0015 | g_loss: 7.9600\n",
            "Epoch [    3/    4] | d_loss: 0.0075 | g_loss: 7.8501\n",
            "Epoch [    3/    4] | d_loss: 0.0447 | g_loss: 9.3683\n",
            "Epoch [    3/    4] | d_loss: 0.0052 | g_loss: 7.7394\n",
            "Epoch [    3/    4] | d_loss: 0.0015 | g_loss: 7.4581\n",
            "Epoch [    3/    4] | d_loss: 0.0119 | g_loss: 8.7755\n",
            "Epoch [    3/    4] | d_loss: 0.0235 | g_loss: 4.5700\n",
            "Epoch [    3/    4] | d_loss: 0.2597 | g_loss: 9.2137\n",
            "Epoch [    3/    4] | d_loss: 0.0712 | g_loss: 6.6568\n",
            "Epoch [    3/    4] | d_loss: 0.0013 | g_loss: 8.7424\n",
            "Epoch [    3/    4] | d_loss: 0.0062 | g_loss: 8.5430\n",
            "Epoch [    3/    4] | d_loss: 0.0063 | g_loss: 8.3371\n",
            "Epoch [    3/    4] | d_loss: 0.0194 | g_loss: 7.3022\n",
            "Epoch [    3/    4] | d_loss: 0.0175 | g_loss: 10.8287\n",
            "Epoch [    3/    4] | d_loss: 0.0482 | g_loss: 8.4797\n",
            "Epoch [    3/    4] | d_loss: 0.0112 | g_loss: 6.5891\n",
            "Epoch [    3/    4] | d_loss: 0.0210 | g_loss: 8.1617\n",
            "Epoch [    3/    4] | d_loss: 0.0640 | g_loss: 7.1413\n",
            "Epoch [    3/    4] | d_loss: 0.0052 | g_loss: 5.8557\n",
            "Epoch [    3/    4] | d_loss: 0.0024 | g_loss: 15.0707\n",
            "Epoch [    3/    4] | d_loss: 0.0040 | g_loss: 8.2894\n",
            "Epoch [    3/    4] | d_loss: 0.0229 | g_loss: 5.3044\n",
            "Epoch [    4/    4] | d_loss: 0.0130 | g_loss: 5.7087\n",
            "Epoch [    4/    4] | d_loss: 0.0786 | g_loss: 7.3298\n",
            "Epoch [    4/    4] | d_loss: 0.0100 | g_loss: 7.7169\n",
            "Epoch [    4/    4] | d_loss: 0.1317 | g_loss: 9.4518\n",
            "Epoch [    4/    4] | d_loss: 0.0052 | g_loss: 5.5897\n",
            "Epoch [    4/    4] | d_loss: 0.0110 | g_loss: 8.0201\n",
            "Epoch [    4/    4] | d_loss: 0.0128 | g_loss: 7.5617\n",
            "Epoch [    4/    4] | d_loss: 0.0075 | g_loss: 8.6045\n",
            "Epoch [    4/    4] | d_loss: 0.0078 | g_loss: 9.0482\n",
            "Epoch [    4/    4] | d_loss: 0.0362 | g_loss: 3.4607\n",
            "Epoch [    4/    4] | d_loss: 0.0267 | g_loss: 7.0925\n",
            "Epoch [    4/    4] | d_loss: 0.0111 | g_loss: 6.2492\n",
            "Epoch [    4/    4] | d_loss: 0.7933 | g_loss: 5.3744\n",
            "Epoch [    4/    4] | d_loss: 0.0081 | g_loss: 6.0199\n",
            "Epoch [    4/    4] | d_loss: 1.2504 | g_loss: 3.0092\n",
            "Epoch [    4/    4] | d_loss: 0.0075 | g_loss: 8.6290\n",
            "Epoch [    4/    4] | d_loss: 0.0521 | g_loss: 4.6515\n",
            "Epoch [    4/    4] | d_loss: 0.2285 | g_loss: 1.2737\n",
            "Epoch [    4/    4] | d_loss: 0.0555 | g_loss: 6.9123\n",
            "Epoch [    4/    4] | d_loss: 0.0461 | g_loss: 7.6690\n",
            "Epoch [    4/    4] | d_loss: 0.0140 | g_loss: 7.1857\n",
            "Epoch [    4/    4] | d_loss: 0.0461 | g_loss: 9.0498\n",
            "Epoch [    4/    4] | d_loss: 1.1522 | g_loss: 9.9448\n",
            "Epoch [    4/    4] | d_loss: 0.0136 | g_loss: 5.5124\n",
            "Epoch [    4/    4] | d_loss: 0.0095 | g_loss: 7.8373\n",
            "Epoch [    4/    4] | d_loss: 0.1521 | g_loss: 6.6818\n",
            "Epoch [    4/    4] | d_loss: 0.0088 | g_loss: 8.9858\n",
            "Epoch [    4/    4] | d_loss: 0.0158 | g_loss: 9.3971\n",
            "Epoch [    4/    4] | d_loss: 0.0073 | g_loss: 7.6249\n",
            "Epoch [    4/    4] | d_loss: 0.0055 | g_loss: 5.1078\n",
            "Epoch [    4/    4] | d_loss: 0.0292 | g_loss: 7.7419\n",
            "Epoch [    4/    4] | d_loss: 0.0651 | g_loss: 7.3406\n",
            "Epoch [    4/    4] | d_loss: 0.0154 | g_loss: 8.4716\n",
            "Epoch [    4/    4] | d_loss: 0.0889 | g_loss: 8.6643\n",
            "Epoch [    4/    4] | d_loss: 0.2658 | g_loss: 8.2973\n",
            "Epoch [    4/    4] | d_loss: 0.0010 | g_loss: 7.2451\n",
            "Epoch [    4/    4] | d_loss: 0.0288 | g_loss: 4.7356\n",
            "Epoch [    4/    4] | d_loss: 0.0511 | g_loss: 7.3393\n"
          ]
        }
      ],
      "source": [
        "n_epochs = 4\n",
        "losses = train(discriminator, generator, n_epochs=n_epochs, train_on_gpu = use_gpu)"
      ]
    },
    {
      "cell_type": "code",
      "execution_count": 58,
      "metadata": {
        "colab": {
          "base_uri": "https://localhost:8080/",
          "height": 299
        },
        "id": "8x1R7Yf5z0_F",
        "outputId": "9e19c26b-3f4c-455c-cbc0-461f74666208"
      },
      "outputs": [
        {
          "output_type": "execute_result",
          "data": {
            "text/plain": [
              "<matplotlib.legend.Legend at 0x7f7afa18a450>"
            ]
          },
          "metadata": {},
          "execution_count": 58
        },
        {
          "output_type": "display_data",
          "data": {
            "text/plain": [
              "<Figure size 432x288 with 1 Axes>"
            ],
            "image/png": "[encoded data removed]"
          },
          "metadata": {
            "needs_background": "light"
          }
        }
      ],
      "source": [
        "fig, ax = plt.subplots()\n",
        "losses = np.array(losses)\n",
        "plt.plot(losses.T[0], label='Discriminator', alpha=0.5)\n",
        "plt.plot(losses.T[1], label='Generator', alpha=0.5)\n",
        "plt.title(\"Training Losses\")\n",
        "plt.legend()"
      ]
    },
    {
      "cell_type": "code",
      "execution_count": 62,
      "metadata": {
        "id": "L1Z7EAgsz0_F"
      },
      "outputs": [],
      "source": [
        "def view_samples(epoch, samples):\n",
        "    fig, axes = plt.subplots(figsize=(16,4), nrows=2, ncols=8, sharey=True, sharex=True)\n",
        "    for ax, img in zip(axes.flatten(), samples[epoch]):\n",
        "        img = img.detach().cpu().numpy()\n",
        "        img = np.transpose(img, (1, 2, 0))\n",
        "        img = ((img + 1)*255 / (2)).astype(np.uint8)\n",
        "        ax.xaxis.set_visible(False)\n",
        "        ax.yaxis.set_visible(False)\n",
        "        im = ax.imshow(img.reshape((32,32)))"
      ]
    },
    {
      "cell_type": "code",
      "execution_count": 63,
      "metadata": {
        "id": "kup_RN5Kz0_F"
      },
      "outputs": [],
      "source": [
        "with open('train_samples.pkl', 'rb') as f:\n",
        "    samples = pkl.load(f)"
      ]
    },
    {
      "cell_type": "code",
      "execution_count": 64,
      "metadata": {
        "colab": {
          "base_uri": "https://localhost:8080/",
          "height": 248
        },
        "id": "gElKNglGz0_F",
        "outputId": "8bc3fa50-48d0-4b2a-fbbc-249af4492101"
      },
      "outputs": [
        {
          "output_type": "display_data",
          "data": {
            "text/plain": [
              "<Figure size 1152x288 with 16 Axes>"
            ],
            "image/png": "[encoded data removed]"
          },
          "metadata": {
            "needs_background": "light"
          }
        }
      ],
      "source": [
        "_ = view_samples(-1, samples)"
      ]
    },
    {
      "cell_type": "code",
      "execution_count": null,
      "metadata": {
        "id": "1T31wwHWz0_F"
      },
      "outputs": [],
      "source": []
    }
  ],
  "metadata": {
    "interpreter": {
      "hash": "dcb03482c70462c62b57536d38c2f1036ee427d80d688534f4d85e8ca7d04a76"
    },
    "kernelspec": {
      "display_name": "Python 3.9.12 ('ml')",
      "language": "python",
      "name": "python3"
    },
    "language_info": {
      "codemirror_mode": {
        "name": "ipython",
        "version": 3
      },
      "file_extension": ".py",
      "mimetype": "text/x-python",
      "name": "python",
      "nbconvert_exporter": "python",
      "pygments_lexer": "ipython3",
      "version": "3.9.12"
    },
    "orig_nbformat": 4,
    "colab": {
      "provenance": [],
      "include_colab_link": true
    },
    "accelerator": "GPU",
    "widgets": {
      "application/vnd.jupyter.widget-state+json": {
        "f08d524a20c34ca6ab42a742c747b620": {
          "model_module": "@jupyter-widgets/controls",
          "model_name": "HBoxModel",
          "model_module_version": "1.5.0",
          "state": {
            "_dom_classes": [],
            "_model_module": "@jupyter-widgets/controls",
            "_model_module_version": "1.5.0",
            "_model_name": "HBoxModel",
            "_view_count": null,
            "_view_module": "@jupyter-widgets/controls",
            "_view_module_version": "1.5.0",
            "_view_name": "HBoxView",
            "box_style": "",
            "children": [
              "IPY_MODEL_d8d6a741e1ca435b8bf7c50e4b00a17a",
              "IPY_MODEL_00cb959cda214056b2f01031fc13c480",
              "IPY_MODEL_3662f8b1eed14b409a4a6a0a4dd8ccdf"
            ],
            "layout": "IPY_MODEL_709111b5d1ab4fdf9b0880d222f976e3"
          }
        },
        "d8d6a741e1ca435b8bf7c50e4b00a17a": {
          "model_module": "@jupyter-widgets/controls",
          "model_name": "HTMLModel",
          "model_module_version": "1.5.0",
          "state": {
            "_dom_classes": [],
            "_model_module": "@jupyter-widgets/controls",
            "_model_module_version": "1.5.0",
            "_model_name": "HTMLModel",
            "_view_count": null,
            "_view_module": "@jupyter-widgets/controls",
            "_view_module_version": "1.5.0",
            "_view_name": "HTMLView",
            "description": "",
            "description_tooltip": null,
            "layout": "IPY_MODEL_70e9181e77024763b024fc466f4c0327",
            "placeholder": "​",
            "style": "IPY_MODEL_7a659bd16c5f4de8baf2ce7d1d2e0d18",
            "value": "100%"
          }
        },
        "00cb959cda214056b2f01031fc13c480": {
          "model_module": "@jupyter-widgets/controls",
          "model_name": "FloatProgressModel",
          "model_module_version": "1.5.0",
          "state": {
            "_dom_classes": [],
            "_model_module": "@jupyter-widgets/controls",
            "_model_module_version": "1.5.0",
            "_model_name": "FloatProgressModel",
            "_view_count": null,
            "_view_module": "@jupyter-widgets/controls",
            "_view_module_version": "1.5.0",
            "_view_name": "ProgressView",
            "bar_style": "success",
            "description": "",
            "description_tooltip": null,
            "layout": "IPY_MODEL_8df5118ba12a47f0b70e8cddbb13e7c8",
            "max": 26421880,
            "min": 0,
            "orientation": "horizontal",
            "style": "IPY_MODEL_1f7703731c7342448987bf6957564955",
            "value": 26421880
          }
        },
        "3662f8b1eed14b409a4a6a0a4dd8ccdf": {
          "model_module": "@jupyter-widgets/controls",
          "model_name": "HTMLModel",
          "model_module_version": "1.5.0",
          "state": {
            "_dom_classes": [],
            "_model_module": "@jupyter-widgets/controls",
            "_model_module_version": "1.5.0",
            "_model_name": "HTMLModel",
            "_view_count": null,
            "_view_module": "@jupyter-widgets/controls",
            "_view_module_version": "1.5.0",
            "_view_name": "HTMLView",
            "description": "",
            "description_tooltip": null,
            "layout": "IPY_MODEL_012c5d6865f74612ac711794690c38f0",
            "placeholder": "​",
            "style": "IPY_MODEL_9addcefa5e644b6b89650abf096afed0",
            "value": " 26421880/26421880 [00:03&lt;00:00, 13805859.29it/s]"
          }
        },
        "709111b5d1ab4fdf9b0880d222f976e3": {
          "model_module": "@jupyter-widgets/base",
          "model_name": "LayoutModel",
          "model_module_version": "1.2.0",
          "state": {
            "_model_module": "@jupyter-widgets/base",
            "_model_module_version": "1.2.0",
            "_model_name": "LayoutModel",
            "_view_count": null,
            "_view_module": "@jupyter-widgets/base",
            "_view_module_version": "1.2.0",
            "_view_name": "LayoutView",
            "align_content": null,
            "align_items": null,
            "align_self": null,
            "border": null,
            "bottom": null,
            "display": null,
            "flex": null,
            "flex_flow": null,
            "grid_area": null,
            "grid_auto_columns": null,
            "grid_auto_flow": null,
            "grid_auto_rows": null,
            "grid_column": null,
            "grid_gap": null,
            "grid_row": null,
            "grid_template_areas": null,
            "grid_template_columns": null,
            "grid_template_rows": null,
            "height": null,
            "justify_content": null,
            "justify_items": null,
            "left": null,
            "margin": null,
            "max_height": null,
            "max_width": null,
            "min_height": null,
            "min_width": null,
            "object_fit": null,
            "object_position": null,
            "order": null,
            "overflow": null,
            "overflow_x": null,
            "overflow_y": null,
            "padding": null,
            "right": null,
            "top": null,
            "visibility": null,
            "width": null
          }
        },
        "70e9181e77024763b024fc466f4c0327": {
          "model_module": "@jupyter-widgets/base",
          "model_name": "LayoutModel",
          "model_module_version": "1.2.0",
          "state": {
            "_model_module": "@jupyter-widgets/base",
            "_model_module_version": "1.2.0",
            "_model_name": "LayoutModel",
            "_view_count": null,
            "_view_module": "@jupyter-widgets/base",
            "_view_module_version": "1.2.0",
            "_view_name": "LayoutView",
            "align_content": null,
            "align_items": null,
            "align_self": null,
            "border": null,
            "bottom": null,
            "display": null,
            "flex": null,
            "flex_flow": null,
            "grid_area": null,
            "grid_auto_columns": null,
            "grid_auto_flow": null,
            "grid_auto_rows": null,
            "grid_column": null,
            "grid_gap": null,
            "grid_row": null,
            "grid_template_areas": null,
            "grid_template_columns": null,
            "grid_template_rows": null,
            "height": null,
            "justify_content": null,
            "justify_items": null,
            "left": null,
            "margin": null,
            "max_height": null,
            "max_width": null,
            "min_height": null,
            "min_width": null,
            "object_fit": null,
            "object_position": null,
            "order": null,
            "overflow": null,
            "overflow_x": null,
            "overflow_y": null,
            "padding": null,
            "right": null,
            "top": null,
            "visibility": null,
            "width": null
          }
        },
        "7a659bd16c5f4de8baf2ce7d1d2e0d18": {
          "model_module": "@jupyter-widgets/controls",
          "model_name": "DescriptionStyleModel",
          "model_module_version": "1.5.0",
          "state": {
            "_model_module": "@jupyter-widgets/controls",
            "_model_module_version": "1.5.0",
            "_model_name": "DescriptionStyleModel",
            "_view_count": null,
            "_view_module": "@jupyter-widgets/base",
            "_view_module_version": "1.2.0",
            "_view_name": "StyleView",
            "description_width": ""
          }
        },
        "8df5118ba12a47f0b70e8cddbb13e7c8": {
          "model_module": "@jupyter-widgets/base",
          "model_name": "LayoutModel",
          "model_module_version": "1.2.0",
          "state": {
            "_model_module": "@jupyter-widgets/base",
            "_model_module_version": "1.2.0",
            "_model_name": "LayoutModel",
            "_view_count": null,
            "_view_module": "@jupyter-widgets/base",
            "_view_module_version": "1.2.0",
            "_view_name": "LayoutView",
            "align_content": null,
            "align_items": null,
            "align_self": null,
            "border": null,
            "bottom": null,
            "display": null,
            "flex": null,
            "flex_flow": null,
            "grid_area": null,
            "grid_auto_columns": null,
            "grid_auto_flow": null,
            "grid_auto_rows": null,
            "grid_column": null,
            "grid_gap": null,
            "grid_row": null,
            "grid_template_areas": null,
            "grid_template_columns": null,
            "grid_template_rows": null,
            "height": null,
            "justify_content": null,
            "justify_items": null,
            "left": null,
            "margin": null,
            "max_height": null,
            "max_width": null,
            "min_height": null,
            "min_width": null,
            "object_fit": null,
            "object_position": null,
            "order": null,
            "overflow": null,
            "overflow_x": null,
            "overflow_y": null,
            "padding": null,
            "right": null,
            "top": null,
            "visibility": null,
            "width": null
          }
        },
        "1f7703731c7342448987bf6957564955": {
          "model_module": "@jupyter-widgets/controls",
          "model_name": "ProgressStyleModel",
          "model_module_version": "1.5.0",
          "state": {
            "_model_module": "@jupyter-widgets/controls",
            "_model_module_version": "1.5.0",
            "_model_name": "ProgressStyleModel",
            "_view_count": null,
            "_view_module": "@jupyter-widgets/base",
            "_view_module_version": "1.2.0",
            "_view_name": "StyleView",
            "bar_color": null,
            "description_width": ""
          }
        },
        "012c5d6865f74612ac711794690c38f0": {
          "model_module": "@jupyter-widgets/base",
          "model_name": "LayoutModel",
          "model_module_version": "1.2.0",
          "state": {
            "_model_module": "@jupyter-widgets/base",
            "_model_module_version": "1.2.0",
            "_model_name": "LayoutModel",
            "_view_count": null,
            "_view_module": "@jupyter-widgets/base",
            "_view_module_version": "1.2.0",
            "_view_name": "LayoutView",
            "align_content": null,
            "align_items": null,
            "align_self": null,
            "border": null,
            "bottom": null,
            "display": null,
            "flex": null,
            "flex_flow": null,
            "grid_area": null,
            "grid_auto_columns": null,
            "grid_auto_flow": null,
            "grid_auto_rows": null,
            "grid_column": null,
            "grid_gap": null,
            "grid_row": null,
            "grid_template_areas": null,
            "grid_template_columns": null,
            "grid_template_rows": null,
            "height": null,
            "justify_content": null,
            "justify_items": null,
            "left": null,
            "margin": null,
            "max_height": null,
            "max_width": null,
            "min_height": null,
            "min_width": null,
            "object_fit": null,
            "object_position": null,
            "order": null,
            "overflow": null,
            "overflow_x": null,
            "overflow_y": null,
            "padding": null,
            "right": null,
            "top": null,
            "visibility": null,
            "width": null
          }
        },
        "9addcefa5e644b6b89650abf096afed0": {
          "model_module": "@jupyter-widgets/controls",
          "model_name": "DescriptionStyleModel",
          "model_module_version": "1.5.0",
          "state": {
            "_model_module": "@jupyter-widgets/controls",
            "_model_module_version": "1.5.0",
            "_model_name": "DescriptionStyleModel",
            "_view_count": null,
            "_view_module": "@jupyter-widgets/base",
            "_view_module_version": "1.2.0",
            "_view_name": "StyleView",
            "description_width": ""
          }
        },
        "3d4237324a164012b2746f6242ddf3de": {
          "model_module": "@jupyter-widgets/controls",
          "model_name": "HBoxModel",
          "model_module_version": "1.5.0",
          "state": {
            "_dom_classes": [],
            "_model_module": "@jupyter-widgets/controls",
            "_model_module_version": "1.5.0",
            "_model_name": "HBoxModel",
            "_view_count": null,
            "_view_module": "@jupyter-widgets/controls",
            "_view_module_version": "1.5.0",
            "_view_name": "HBoxView",
            "box_style": "",
            "children": [
              "IPY_MODEL_f472a00d85924e4195aa33bf23bea5e3",
              "IPY_MODEL_9a4aa8241dd541179b2ffdeb2e91d5e9",
              "IPY_MODEL_a22bd7750a7142ce82c4da838bd9adbd"
            ],
            "layout": "IPY_MODEL_42f2380f117940bf896ab08557cb2413"
          }
        },
        "f472a00d85924e4195aa33bf23bea5e3": {
          "model_module": "@jupyter-widgets/controls",
          "model_name": "HTMLModel",
          "model_module_version": "1.5.0",
          "state": {
            "_dom_classes": [],
            "_model_module": "@jupyter-widgets/controls",
            "_model_module_version": "1.5.0",
            "_model_name": "HTMLModel",
            "_view_count": null,
            "_view_module": "@jupyter-widgets/controls",
            "_view_module_version": "1.5.0",
            "_view_name": "HTMLView",
            "description": "",
            "description_tooltip": null,
            "layout": "IPY_MODEL_bc75ee26db7d41d28c53daafb16a35c8",
            "placeholder": "​",
            "style": "IPY_MODEL_f7e578c02a6c4e9e8033d6be96650424",
            "value": "100%"
          }
        },
        "9a4aa8241dd541179b2ffdeb2e91d5e9": {
          "model_module": "@jupyter-widgets/controls",
          "model_name": "FloatProgressModel",
          "model_module_version": "1.5.0",
          "state": {
            "_dom_classes": [],
            "_model_module": "@jupyter-widgets/controls",
            "_model_module_version": "1.5.0",
            "_model_name": "FloatProgressModel",
            "_view_count": null,
            "_view_module": "@jupyter-widgets/controls",
            "_view_module_version": "1.5.0",
            "_view_name": "ProgressView",
            "bar_style": "success",
            "description": "",
            "description_tooltip": null,
            "layout": "IPY_MODEL_dcddb93227e74d86b8a9b0da310cf2d3",
            "max": 29515,
            "min": 0,
            "orientation": "horizontal",
            "style": "IPY_MODEL_b18f82fb0052455c824ddb881550d50a",
            "value": 29515
          }
        },
        "a22bd7750a7142ce82c4da838bd9adbd": {
          "model_module": "@jupyter-widgets/controls",
          "model_name": "HTMLModel",
          "model_module_version": "1.5.0",
          "state": {
            "_dom_classes": [],
            "_model_module": "@jupyter-widgets/controls",
            "_model_module_version": "1.5.0",
            "_model_name": "HTMLModel",
            "_view_count": null,
            "_view_module": "@jupyter-widgets/controls",
            "_view_module_version": "1.5.0",
            "_view_name": "HTMLView",
            "description": "",
            "description_tooltip": null,
            "layout": "IPY_MODEL_43c01ca494cf434ba82faf093a3d5e06",
            "placeholder": "​",
            "style": "IPY_MODEL_ee303b81461a4d8ca172182db6478411",
            "value": " 29515/29515 [00:00&lt;00:00, 143424.54it/s]"
          }
        },
        "42f2380f117940bf896ab08557cb2413": {
          "model_module": "@jupyter-widgets/base",
          "model_name": "LayoutModel",
          "model_module_version": "1.2.0",
          "state": {
            "_model_module": "@jupyter-widgets/base",
            "_model_module_version": "1.2.0",
            "_model_name": "LayoutModel",
            "_view_count": null,
            "_view_module": "@jupyter-widgets/base",
            "_view_module_version": "1.2.0",
            "_view_name": "LayoutView",
            "align_content": null,
            "align_items": null,
            "align_self": null,
            "border": null,
            "bottom": null,
            "display": null,
            "flex": null,
            "flex_flow": null,
            "grid_area": null,
            "grid_auto_columns": null,
            "grid_auto_flow": null,
            "grid_auto_rows": null,
            "grid_column": null,
            "grid_gap": null,
            "grid_row": null,
            "grid_template_areas": null,
            "grid_template_columns": null,
            "grid_template_rows": null,
            "height": null,
            "justify_content": null,
            "justify_items": null,
            "left": null,
            "margin": null,
            "max_height": null,
            "max_width": null,
            "min_height": null,
            "min_width": null,
            "object_fit": null,
            "object_position": null,
            "order": null,
            "overflow": null,
            "overflow_x": null,
            "overflow_y": null,
            "padding": null,
            "right": null,
            "top": null,
            "visibility": null,
            "width": null
          }
        },
        "bc75ee26db7d41d28c53daafb16a35c8": {
          "model_module": "@jupyter-widgets/base",
          "model_name": "LayoutModel",
          "model_module_version": "1.2.0",
          "state": {
            "_model_module": "@jupyter-widgets/base",
            "_model_module_version": "1.2.0",
            "_model_name": "LayoutModel",
            "_view_count": null,
            "_view_module": "@jupyter-widgets/base",
            "_view_module_version": "1.2.0",
            "_view_name": "LayoutView",
            "align_content": null,
            "align_items": null,
            "align_self": null,
            "border": null,
            "bottom": null,
            "display": null,
            "flex": null,
            "flex_flow": null,
            "grid_area": null,
            "grid_auto_columns": null,
            "grid_auto_flow": null,
            "grid_auto_rows": null,
            "grid_column": null,
            "grid_gap": null,
            "grid_row": null,
            "grid_template_areas": null,
            "grid_template_columns": null,
            "grid_template_rows": null,
            "height": null,
            "justify_content": null,
            "justify_items": null,
            "left": null,
            "margin": null,
            "max_height": null,
            "max_width": null,
            "min_height": null,
            "min_width": null,
            "object_fit": null,
            "object_position": null,
            "order": null,
            "overflow": null,
            "overflow_x": null,
            "overflow_y": null,
            "padding": null,
            "right": null,
            "top": null,
            "visibility": null,
            "width": null
          }
        },
        "f7e578c02a6c4e9e8033d6be96650424": {
          "model_module": "@jupyter-widgets/controls",
          "model_name": "DescriptionStyleModel",
          "model_module_version": "1.5.0",
          "state": {
            "_model_module": "@jupyter-widgets/controls",
            "_model_module_version": "1.5.0",
            "_model_name": "DescriptionStyleModel",
            "_view_count": null,
            "_view_module": "@jupyter-widgets/base",
            "_view_module_version": "1.2.0",
            "_view_name": "StyleView",
            "description_width": ""
          }
        },
        "dcddb93227e74d86b8a9b0da310cf2d3": {
          "model_module": "@jupyter-widgets/base",
          "model_name": "LayoutModel",
          "model_module_version": "1.2.0",
          "state": {
            "_model_module": "@jupyter-widgets/base",
            "_model_module_version": "1.2.0",
            "_model_name": "LayoutModel",
            "_view_count": null,
            "_view_module": "@jupyter-widgets/base",
            "_view_module_version": "1.2.0",
            "_view_name": "LayoutView",
            "align_content": null,
            "align_items": null,
            "align_self": null,
            "border": null,
            "bottom": null,
            "display": null,
            "flex": null,
            "flex_flow": null,
            "grid_area": null,
            "grid_auto_columns": null,
            "grid_auto_flow": null,
            "grid_auto_rows": null,
            "grid_column": null,
            "grid_gap": null,
            "grid_row": null,
            "grid_template_areas": null,
            "grid_template_columns": null,
            "grid_template_rows": null,
            "height": null,
            "justify_content": null,
            "justify_items": null,
            "left": null,
            "margin": null,
            "max_height": null,
            "max_width": null,
            "min_height": null,
            "min_width": null,
            "object_fit": null,
            "object_position": null,
            "order": null,
            "overflow": null,
            "overflow_x": null,
            "overflow_y": null,
            "padding": null,
            "right": null,
            "top": null,
            "visibility": null,
            "width": null
          }
        },
        "b18f82fb0052455c824ddb881550d50a": {
          "model_module": "@jupyter-widgets/controls",
          "model_name": "ProgressStyleModel",
          "model_module_version": "1.5.0",
          "state": {
            "_model_module": "@jupyter-widgets/controls",
            "_model_module_version": "1.5.0",
            "_model_name": "ProgressStyleModel",
            "_view_count": null,
            "_view_module": "@jupyter-widgets/base",
            "_view_module_version": "1.2.0",
            "_view_name": "StyleView",
            "bar_color": null,
            "description_width": ""
          }
        },
        "43c01ca494cf434ba82faf093a3d5e06": {
          "model_module": "@jupyter-widgets/base",
          "model_name": "LayoutModel",
          "model_module_version": "1.2.0",
          "state": {
            "_model_module": "@jupyter-widgets/base",
            "_model_module_version": "1.2.0",
            "_model_name": "LayoutModel",
            "_view_count": null,
            "_view_module": "@jupyter-widgets/base",
            "_view_module_version": "1.2.0",
            "_view_name": "LayoutView",
            "align_content": null,
            "align_items": null,
            "align_self": null,
            "border": null,
            "bottom": null,
            "display": null,
            "flex": null,
            "flex_flow": null,
            "grid_area": null,
            "grid_auto_columns": null,
            "grid_auto_flow": null,
            "grid_auto_rows": null,
            "grid_column": null,
            "grid_gap": null,
            "grid_row": null,
            "grid_template_areas": null,
            "grid_template_columns": null,
            "grid_template_rows": null,
            "height": null,
            "justify_content": null,
            "justify_items": null,
            "left": null,
            "margin": null,
            "max_height": null,
            "max_width": null,
            "min_height": null,
            "min_width": null,
            "object_fit": null,
            "object_position": null,
            "order": null,
            "overflow": null,
            "overflow_x": null,
            "overflow_y": null,
            "padding": null,
            "right": null,
            "top": null,
            "visibility": null,
            "width": null
          }
        },
        "ee303b81461a4d8ca172182db6478411": {
          "model_module": "@jupyter-widgets/controls",
          "model_name": "DescriptionStyleModel",
          "model_module_version": "1.5.0",
          "state": {
            "_model_module": "@jupyter-widgets/controls",
            "_model_module_version": "1.5.0",
            "_model_name": "DescriptionStyleModel",
            "_view_count": null,
            "_view_module": "@jupyter-widgets/base",
            "_view_module_version": "1.2.0",
            "_view_name": "StyleView",
            "description_width": ""
          }
        },
        "029036b5cf8844fab91f1e30947c1bdd": {
          "model_module": "@jupyter-widgets/controls",
          "model_name": "HBoxModel",
          "model_module_version": "1.5.0",
          "state": {
            "_dom_classes": [],
            "_model_module": "@jupyter-widgets/controls",
            "_model_module_version": "1.5.0",
            "_model_name": "HBoxModel",
            "_view_count": null,
            "_view_module": "@jupyter-widgets/controls",
            "_view_module_version": "1.5.0",
            "_view_name": "HBoxView",
            "box_style": "",
            "children": [
              "IPY_MODEL_a10bce6ca99044d6bd6e8271e00ae8b1",
              "IPY_MODEL_ff0f08270ad64e9b8210abec2f78066f",
              "IPY_MODEL_a96a19ba1d304df5865f111f9f16e5e1"
            ],
            "layout": "IPY_MODEL_8fb9f70fec1e4945815765c1cd653ca5"
          }
        },
        "a10bce6ca99044d6bd6e8271e00ae8b1": {
          "model_module": "@jupyter-widgets/controls",
          "model_name": "HTMLModel",
          "model_module_version": "1.5.0",
          "state": {
            "_dom_classes": [],
            "_model_module": "@jupyter-widgets/controls",
            "_model_module_version": "1.5.0",
            "_model_name": "HTMLModel",
            "_view_count": null,
            "_view_module": "@jupyter-widgets/controls",
            "_view_module_version": "1.5.0",
            "_view_name": "HTMLView",
            "description": "",
            "description_tooltip": null,
            "layout": "IPY_MODEL_dc26d48f268d47339908573b5a278016",
            "placeholder": "​",
            "style": "IPY_MODEL_997e2490dc3243449d636debf9fb9f71",
            "value": "100%"
          }
        },
        "ff0f08270ad64e9b8210abec2f78066f": {
          "model_module": "@jupyter-widgets/controls",
          "model_name": "FloatProgressModel",
          "model_module_version": "1.5.0",
          "state": {
            "_dom_classes": [],
            "_model_module": "@jupyter-widgets/controls",
            "_model_module_version": "1.5.0",
            "_model_name": "FloatProgressModel",
            "_view_count": null,
            "_view_module": "@jupyter-widgets/controls",
            "_view_module_version": "1.5.0",
            "_view_name": "ProgressView",
            "bar_style": "success",
            "description": "",
            "description_tooltip": null,
            "layout": "IPY_MODEL_09e3def6366345ab85629f46f4998c9b",
            "max": 4422102,
            "min": 0,
            "orientation": "horizontal",
            "style": "IPY_MODEL_b6f8ffcefd7342e1958ed74c05fbd4b2",
            "value": 4422102
          }
        },
        "a96a19ba1d304df5865f111f9f16e5e1": {
          "model_module": "@jupyter-widgets/controls",
          "model_name": "HTMLModel",
          "model_module_version": "1.5.0",
          "state": {
            "_dom_classes": [],
            "_model_module": "@jupyter-widgets/controls",
            "_model_module_version": "1.5.0",
            "_model_name": "HTMLModel",
            "_view_count": null,
            "_view_module": "@jupyter-widgets/controls",
            "_view_module_version": "1.5.0",
            "_view_name": "HTMLView",
            "description": "",
            "description_tooltip": null,
            "layout": "IPY_MODEL_8d7a5c95f833492e854ec252b1b70de8",
            "placeholder": "​",
            "style": "IPY_MODEL_1de884f6b161427d8615ea78bd9b57ef",
            "value": " 4422102/4422102 [00:01&lt;00:00, 3991867.17it/s]"
          }
        },
        "8fb9f70fec1e4945815765c1cd653ca5": {
          "model_module": "@jupyter-widgets/base",
          "model_name": "LayoutModel",
          "model_module_version": "1.2.0",
          "state": {
            "_model_module": "@jupyter-widgets/base",
            "_model_module_version": "1.2.0",
            "_model_name": "LayoutModel",
            "_view_count": null,
            "_view_module": "@jupyter-widgets/base",
            "_view_module_version": "1.2.0",
            "_view_name": "LayoutView",
            "align_content": null,
            "align_items": null,
            "align_self": null,
            "border": null,
            "bottom": null,
            "display": null,
            "flex": null,
            "flex_flow": null,
            "grid_area": null,
            "grid_auto_columns": null,
            "grid_auto_flow": null,
            "grid_auto_rows": null,
            "grid_column": null,
            "grid_gap": null,
            "grid_row": null,
            "grid_template_areas": null,
            "grid_template_columns": null,
            "grid_template_rows": null,
            "height": null,
            "justify_content": null,
            "justify_items": null,
            "left": null,
            "margin": null,
            "max_height": null,
            "max_width": null,
            "min_height": null,
            "min_width": null,
            "object_fit": null,
            "object_position": null,
            "order": null,
            "overflow": null,
            "overflow_x": null,
            "overflow_y": null,
            "padding": null,
            "right": null,
            "top": null,
            "visibility": null,
            "width": null
          }
        },
        "dc26d48f268d47339908573b5a278016": {
          "model_module": "@jupyter-widgets/base",
          "model_name": "LayoutModel",
          "model_module_version": "1.2.0",
          "state": {
            "_model_module": "@jupyter-widgets/base",
            "_model_module_version": "1.2.0",
            "_model_name": "LayoutModel",
            "_view_count": null,
            "_view_module": "@jupyter-widgets/base",
            "_view_module_version": "1.2.0",
            "_view_name": "LayoutView",
            "align_content": null,
            "align_items": null,
            "align_self": null,
            "border": null,
            "bottom": null,
            "display": null,
            "flex": null,
            "flex_flow": null,
            "grid_area": null,
            "grid_auto_columns": null,
            "grid_auto_flow": null,
            "grid_auto_rows": null,
            "grid_column": null,
            "grid_gap": null,
            "grid_row": null,
            "grid_template_areas": null,
            "grid_template_columns": null,
            "grid_template_rows": null,
            "height": null,
            "justify_content": null,
            "justify_items": null,
            "left": null,
            "margin": null,
            "max_height": null,
            "max_width": null,
            "min_height": null,
            "min_width": null,
            "object_fit": null,
            "object_position": null,
            "order": null,
            "overflow": null,
            "overflow_x": null,
            "overflow_y": null,
            "padding": null,
            "right": null,
            "top": null,
            "visibility": null,
            "width": null
          }
        },
        "997e2490dc3243449d636debf9fb9f71": {
          "model_module": "@jupyter-widgets/controls",
          "model_name": "DescriptionStyleModel",
          "model_module_version": "1.5.0",
          "state": {
            "_model_module": "@jupyter-widgets/controls",
            "_model_module_version": "1.5.0",
            "_model_name": "DescriptionStyleModel",
            "_view_count": null,
            "_view_module": "@jupyter-widgets/base",
            "_view_module_version": "1.2.0",
            "_view_name": "StyleView",
            "description_width": ""
          }
        },
        "09e3def6366345ab85629f46f4998c9b": {
          "model_module": "@jupyter-widgets/base",
          "model_name": "LayoutModel",
          "model_module_version": "1.2.0",
          "state": {
            "_model_module": "@jupyter-widgets/base",
            "_model_module_version": "1.2.0",
            "_model_name": "LayoutModel",
            "_view_count": null,
            "_view_module": "@jupyter-widgets/base",
            "_view_module_version": "1.2.0",
            "_view_name": "LayoutView",
            "align_content": null,
            "align_items": null,
            "align_self": null,
            "border": null,
            "bottom": null,
            "display": null,
            "flex": null,
            "flex_flow": null,
            "grid_area": null,
            "grid_auto_columns": null,
            "grid_auto_flow": null,
            "grid_auto_rows": null,
            "grid_column": null,
            "grid_gap": null,
            "grid_row": null,
            "grid_template_areas": null,
            "grid_template_columns": null,
            "grid_template_rows": null,
            "height": null,
            "justify_content": null,
            "justify_items": null,
            "left": null,
            "margin": null,
            "max_height": null,
            "max_width": null,
            "min_height": null,
            "min_width": null,
            "object_fit": null,
            "object_position": null,
            "order": null,
            "overflow": null,
            "overflow_x": null,
            "overflow_y": null,
            "padding": null,
            "right": null,
            "top": null,
            "visibility": null,
            "width": null
          }
        },
        "b6f8ffcefd7342e1958ed74c05fbd4b2": {
          "model_module": "@jupyter-widgets/controls",
          "model_name": "ProgressStyleModel",
          "model_module_version": "1.5.0",
          "state": {
            "_model_module": "@jupyter-widgets/controls",
            "_model_module_version": "1.5.0",
            "_model_name": "ProgressStyleModel",
            "_view_count": null,
            "_view_module": "@jupyter-widgets/base",
            "_view_module_version": "1.2.0",
            "_view_name": "StyleView",
            "bar_color": null,
            "description_width": ""
          }
        },
        "8d7a5c95f833492e854ec252b1b70de8": {
          "model_module": "@jupyter-widgets/base",
          "model_name": "LayoutModel",
          "model_module_version": "1.2.0",
          "state": {
            "_model_module": "@jupyter-widgets/base",
            "_model_module_version": "1.2.0",
            "_model_name": "LayoutModel",
            "_view_count": null,
            "_view_module": "@jupyter-widgets/base",
            "_view_module_version": "1.2.0",
            "_view_name": "LayoutView",
            "align_content": null,
            "align_items": null,
            "align_self": null,
            "border": null,
            "bottom": null,
            "display": null,
            "flex": null,
            "flex_flow": null,
            "grid_area": null,
            "grid_auto_columns": null,
            "grid_auto_flow": null,
            "grid_auto_rows": null,
            "grid_column": null,
            "grid_gap": null,
            "grid_row": null,
            "grid_template_areas": null,
            "grid_template_columns": null,
            "grid_template_rows": null,
            "height": null,
            "justify_content": null,
            "justify_items": null,
            "left": null,
            "margin": null,
            "max_height": null,
            "max_width": null,
            "min_height": null,
            "min_width": null,
            "object_fit": null,
            "object_position": null,
            "order": null,
            "overflow": null,
            "overflow_x": null,
            "overflow_y": null,
            "padding": null,
            "right": null,
            "top": null,
            "visibility": null,
            "width": null
          }
        },
        "1de884f6b161427d8615ea78bd9b57ef": {
          "model_module": "@jupyter-widgets/controls",
          "model_name": "DescriptionStyleModel",
          "model_module_version": "1.5.0",
          "state": {
            "_model_module": "@jupyter-widgets/controls",
            "_model_module_version": "1.5.0",
            "_model_name": "DescriptionStyleModel",
            "_view_count": null,
            "_view_module": "@jupyter-widgets/base",
            "_view_module_version": "1.2.0",
            "_view_name": "StyleView",
            "description_width": ""
          }
        },
        "012415aab661441f999e9fcab655534d": {
          "model_module": "@jupyter-widgets/controls",
          "model_name": "HBoxModel",
          "model_module_version": "1.5.0",
          "state": {
            "_dom_classes": [],
            "_model_module": "@jupyter-widgets/controls",
            "_model_module_version": "1.5.0",
            "_model_name": "HBoxModel",
            "_view_count": null,
            "_view_module": "@jupyter-widgets/controls",
            "_view_module_version": "1.5.0",
            "_view_name": "HBoxView",
            "box_style": "",
            "children": [
              "IPY_MODEL_db3af41d2a364eeb95c78597b06a49ae",
              "IPY_MODEL_b95d88f4e5774ccfbfc835c97e38bae2",
              "IPY_MODEL_9030105aa8cc4f398c25416e0ef02c02"
            ],
            "layout": "IPY_MODEL_e0a57b094b13482f874a88b55d9d6b5c"
          }
        },
        "db3af41d2a364eeb95c78597b06a49ae": {
          "model_module": "@jupyter-widgets/controls",
          "model_name": "HTMLModel",
          "model_module_version": "1.5.0",
          "state": {
            "_dom_classes": [],
            "_model_module": "@jupyter-widgets/controls",
            "_model_module_version": "1.5.0",
            "_model_name": "HTMLModel",
            "_view_count": null,
            "_view_module": "@jupyter-widgets/controls",
            "_view_module_version": "1.5.0",
            "_view_name": "HTMLView",
            "description": "",
            "description_tooltip": null,
            "layout": "IPY_MODEL_8182ef60b77949e882b5d6c5826553d0",
            "placeholder": "​",
            "style": "IPY_MODEL_1c23fa1ae29f4a22938178b6846f118a",
            "value": "100%"
          }
        },
        "b95d88f4e5774ccfbfc835c97e38bae2": {
          "model_module": "@jupyter-widgets/controls",
          "model_name": "FloatProgressModel",
          "model_module_version": "1.5.0",
          "state": {
            "_dom_classes": [],
            "_model_module": "@jupyter-widgets/controls",
            "_model_module_version": "1.5.0",
            "_model_name": "FloatProgressModel",
            "_view_count": null,
            "_view_module": "@jupyter-widgets/controls",
            "_view_module_version": "1.5.0",
            "_view_name": "ProgressView",
            "bar_style": "success",
            "description": "",
            "description_tooltip": null,
            "layout": "IPY_MODEL_cefd84cddad3453e8f71e737bdaa56a8",
            "max": 5148,
            "min": 0,
            "orientation": "horizontal",
            "style": "IPY_MODEL_a7cfecd4396c4522985f0d4576b967f9",
            "value": 5148
          }
        },
        "9030105aa8cc4f398c25416e0ef02c02": {
          "model_module": "@jupyter-widgets/controls",
          "model_name": "HTMLModel",
          "model_module_version": "1.5.0",
          "state": {
            "_dom_classes": [],
            "_model_module": "@jupyter-widgets/controls",
            "_model_module_version": "1.5.0",
            "_model_name": "HTMLModel",
            "_view_count": null,
            "_view_module": "@jupyter-widgets/controls",
            "_view_module_version": "1.5.0",
            "_view_name": "HTMLView",
            "description": "",
            "description_tooltip": null,
            "layout": "IPY_MODEL_276f91d3a8c14cdf9c5f51bd03dfdaed",
            "placeholder": "​",
            "style": "IPY_MODEL_f2cfbcb887ce48858356e3d0fb970f91",
            "value": " 5148/5148 [00:00&lt;00:00, 179111.73it/s]"
          }
        },
        "e0a57b094b13482f874a88b55d9d6b5c": {
          "model_module": "@jupyter-widgets/base",
          "model_name": "LayoutModel",
          "model_module_version": "1.2.0",
          "state": {
            "_model_module": "@jupyter-widgets/base",
            "_model_module_version": "1.2.0",
            "_model_name": "LayoutModel",
            "_view_count": null,
            "_view_module": "@jupyter-widgets/base",
            "_view_module_version": "1.2.0",
            "_view_name": "LayoutView",
            "align_content": null,
            "align_items": null,
            "align_self": null,
            "border": null,
            "bottom": null,
            "display": null,
            "flex": null,
            "flex_flow": null,
            "grid_area": null,
            "grid_auto_columns": null,
            "grid_auto_flow": null,
            "grid_auto_rows": null,
            "grid_column": null,
            "grid_gap": null,
            "grid_row": null,
            "grid_template_areas": null,
            "grid_template_columns": null,
            "grid_template_rows": null,
            "height": null,
            "justify_content": null,
            "justify_items": null,
            "left": null,
            "margin": null,
            "max_height": null,
            "max_width": null,
            "min_height": null,
            "min_width": null,
            "object_fit": null,
            "object_position": null,
            "order": null,
            "overflow": null,
            "overflow_x": null,
            "overflow_y": null,
            "padding": null,
            "right": null,
            "top": null,
            "visibility": null,
            "width": null
          }
        },
        "8182ef60b77949e882b5d6c5826553d0": {
          "model_module": "@jupyter-widgets/base",
          "model_name": "LayoutModel",
          "model_module_version": "1.2.0",
          "state": {
            "_model_module": "@jupyter-widgets/base",
            "_model_module_version": "1.2.0",
            "_model_name": "LayoutModel",
            "_view_count": null,
            "_view_module": "@jupyter-widgets/base",
            "_view_module_version": "1.2.0",
            "_view_name": "LayoutView",
            "align_content": null,
            "align_items": null,
            "align_self": null,
            "border": null,
            "bottom": null,
            "display": null,
            "flex": null,
            "flex_flow": null,
            "grid_area": null,
            "grid_auto_columns": null,
            "grid_auto_flow": null,
            "grid_auto_rows": null,
            "grid_column": null,
            "grid_gap": null,
            "grid_row": null,
            "grid_template_areas": null,
            "grid_template_columns": null,
            "grid_template_rows": null,
            "height": null,
            "justify_content": null,
            "justify_items": null,
            "left": null,
            "margin": null,
            "max_height": null,
            "max_width": null,
            "min_height": null,
            "min_width": null,
            "object_fit": null,
            "object_position": null,
            "order": null,
            "overflow": null,
            "overflow_x": null,
            "overflow_y": null,
            "padding": null,
            "right": null,
            "top": null,
            "visibility": null,
            "width": null
          }
        },
        "1c23fa1ae29f4a22938178b6846f118a": {
          "model_module": "@jupyter-widgets/controls",
          "model_name": "DescriptionStyleModel",
          "model_module_version": "1.5.0",
          "state": {
            "_model_module": "@jupyter-widgets/controls",
            "_model_module_version": "1.5.0",
            "_model_name": "DescriptionStyleModel",
            "_view_count": null,
            "_view_module": "@jupyter-widgets/base",
            "_view_module_version": "1.2.0",
            "_view_name": "StyleView",
            "description_width": ""
          }
        },
        "cefd84cddad3453e8f71e737bdaa56a8": {
          "model_module": "@jupyter-widgets/base",
          "model_name": "LayoutModel",
          "model_module_version": "1.2.0",
          "state": {
            "_model_module": "@jupyter-widgets/base",
            "_model_module_version": "1.2.0",
            "_model_name": "LayoutModel",
            "_view_count": null,
            "_view_module": "@jupyter-widgets/base",
            "_view_module_version": "1.2.0",
            "_view_name": "LayoutView",
            "align_content": null,
            "align_items": null,
            "align_self": null,
            "border": null,
            "bottom": null,
            "display": null,
            "flex": null,
            "flex_flow": null,
            "grid_area": null,
            "grid_auto_columns": null,
            "grid_auto_flow": null,
            "grid_auto_rows": null,
            "grid_column": null,
            "grid_gap": null,
            "grid_row": null,
            "grid_template_areas": null,
            "grid_template_columns": null,
            "grid_template_rows": null,
            "height": null,
            "justify_content": null,
            "justify_items": null,
            "left": null,
            "margin": null,
            "max_height": null,
            "max_width": null,
            "min_height": null,
            "min_width": null,
            "object_fit": null,
            "object_position": null,
            "order": null,
            "overflow": null,
            "overflow_x": null,
            "overflow_y": null,
            "padding": null,
            "right": null,
            "top": null,
            "visibility": null,
            "width": null
          }
        },
        "a7cfecd4396c4522985f0d4576b967f9": {
          "model_module": "@jupyter-widgets/controls",
          "model_name": "ProgressStyleModel",
          "model_module_version": "1.5.0",
          "state": {
            "_model_module": "@jupyter-widgets/controls",
            "_model_module_version": "1.5.0",
            "_model_name": "ProgressStyleModel",
            "_view_count": null,
            "_view_module": "@jupyter-widgets/base",
            "_view_module_version": "1.2.0",
            "_view_name": "StyleView",
            "bar_color": null,
            "description_width": ""
          }
        },
        "276f91d3a8c14cdf9c5f51bd03dfdaed": {
          "model_module": "@jupyter-widgets/base",
          "model_name": "LayoutModel",
          "model_module_version": "1.2.0",
          "state": {
            "_model_module": "@jupyter-widgets/base",
            "_model_module_version": "1.2.0",
            "_model_name": "LayoutModel",
            "_view_count": null,
            "_view_module": "@jupyter-widgets/base",
            "_view_module_version": "1.2.0",
            "_view_name": "LayoutView",
            "align_content": null,
            "align_items": null,
            "align_self": null,
            "border": null,
            "bottom": null,
            "display": null,
            "flex": null,
            "flex_flow": null,
            "grid_area": null,
            "grid_auto_columns": null,
            "grid_auto_flow": null,
            "grid_auto_rows": null,
            "grid_column": null,
            "grid_gap": null,
            "grid_row": null,
            "grid_template_areas": null,
            "grid_template_columns": null,
            "grid_template_rows": null,
            "height": null,
            "justify_content": null,
            "justify_items": null,
            "left": null,
            "margin": null,
            "max_height": null,
            "max_width": null,
            "min_height": null,
            "min_width": null,
            "object_fit": null,
            "object_position": null,
            "order": null,
            "overflow": null,
            "overflow_x": null,
            "overflow_y": null,
            "padding": null,
            "right": null,
            "top": null,
            "visibility": null,
            "width": null
          }
        },
        "f2cfbcb887ce48858356e3d0fb970f91": {
          "model_module": "@jupyter-widgets/controls",
          "model_name": "DescriptionStyleModel",
          "model_module_version": "1.5.0",
          "state": {
            "_model_module": "@jupyter-widgets/controls",
            "_model_module_version": "1.5.0",
            "_model_name": "DescriptionStyleModel",
            "_view_count": null,
            "_view_module": "@jupyter-widgets/base",
            "_view_module_version": "1.2.0",
            "_view_name": "StyleView",
            "description_width": ""
          }
        }
      }
    }
  },
  "nbformat": 4,
  "nbformat_minor": 0
}